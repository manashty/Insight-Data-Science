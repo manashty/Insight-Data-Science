{
 "cells": [
  {
   "cell_type": "code",
   "execution_count": 1,
   "metadata": {
    "collapsed": true
   },
   "outputs": [],
   "source": [
    "# Set up paths/ os\n",
    "import os\n",
    "import sys\n",
    "\n",
    "this_path=os.getcwd()\n",
    "os.chdir(\"../data\")\n",
    "sys.path.insert(0, this_path)\n",
    "\n"
   ]
  },
  {
   "cell_type": "code",
   "execution_count": 2,
   "metadata": {
    "collapsed": true
   },
   "outputs": [],
   "source": [
    "import pandas as pd\n"
   ]
  },
  {
   "cell_type": "code",
   "execution_count": 3,
   "metadata": {},
   "outputs": [
    {
     "data": {
      "text/html": [
       "<div>\n",
       "<style>\n",
       "    .dataframe thead tr:only-child th {\n",
       "        text-align: right;\n",
       "    }\n",
       "\n",
       "    .dataframe thead th {\n",
       "        text-align: left;\n",
       "    }\n",
       "\n",
       "    .dataframe tbody tr th {\n",
       "        vertical-align: top;\n",
       "    }\n",
       "</style>\n",
       "<table border=\"1\" class=\"dataframe\">\n",
       "  <thead>\n",
       "    <tr style=\"text-align: right;\">\n",
       "      <th></th>\n",
       "      <th>title</th>\n",
       "      <th>text</th>\n",
       "      <th>href</th>\n",
       "      <th>user id</th>\n",
       "      <th>mother post id</th>\n",
       "    </tr>\n",
       "    <tr>\n",
       "      <th>post id</th>\n",
       "      <th></th>\n",
       "      <th></th>\n",
       "      <th></th>\n",
       "      <th></th>\n",
       "      <th></th>\n",
       "    </tr>\n",
       "  </thead>\n",
       "  <tbody>\n",
       "    <tr>\n",
       "      <th>1</th>\n",
       "      <td>Inappropriate Masterbation Down Syndrome</td>\n",
       "      <td>\\n        It is common for children and adoles...</td>\n",
       "      <td>http://www.medhelp.org//posts/Autism--Asperger...</td>\n",
       "      <td>user_340688</td>\n",
       "      <td>1</td>\n",
       "    </tr>\n",
       "  </tbody>\n",
       "</table>\n",
       "</div>"
      ],
      "text/plain": [
       "                                            title  \\\n",
       "post id                                             \n",
       "1        Inappropriate Masterbation Down Syndrome   \n",
       "\n",
       "                                                      text  \\\n",
       "post id                                                      \n",
       "1        \\n        It is common for children and adoles...   \n",
       "\n",
       "                                                      href      user id  \\\n",
       "post id                                                                   \n",
       "1        http://www.medhelp.org//posts/Autism--Asperger...  user_340688   \n",
       "\n",
       "         mother post id  \n",
       "post id                  \n",
       "1                     1  "
      ]
     },
     "execution_count": 3,
     "metadata": {},
     "output_type": "execute_result"
    }
   ],
   "source": [
    "infile=\"MedHelp-posts.csv\"\n",
    "df=pd.read_csv(infile,index_col=0)\n",
    "df.head(1)\n"
   ]
  },
  {
   "cell_type": "code",
   "execution_count": 4,
   "metadata": {},
   "outputs": [
    {
     "data": {
      "text/html": [
       "<div>\n",
       "<style>\n",
       "    .dataframe thead tr:only-child th {\n",
       "        text-align: right;\n",
       "    }\n",
       "\n",
       "    .dataframe thead th {\n",
       "        text-align: left;\n",
       "    }\n",
       "\n",
       "    .dataframe tbody tr th {\n",
       "        vertical-align: top;\n",
       "    }\n",
       "</style>\n",
       "<table border=\"1\" class=\"dataframe\">\n",
       "  <thead>\n",
       "    <tr style=\"text-align: right;\">\n",
       "      <th></th>\n",
       "      <th>user description</th>\n",
       "      <th>is expert</th>\n",
       "    </tr>\n",
       "    <tr>\n",
       "      <th>user id</th>\n",
       "      <th></th>\n",
       "      <th></th>\n",
       "    </tr>\n",
       "  </thead>\n",
       "  <tbody>\n",
       "    <tr>\n",
       "      <th>user_340688</th>\n",
       "      <td>Rachel  Thompson, Ph.D., BCBA</td>\n",
       "      <td>1</td>\n",
       "    </tr>\n",
       "  </tbody>\n",
       "</table>\n",
       "</div>"
      ],
      "text/plain": [
       "                          user description  is expert\n",
       "user id                                              \n",
       "user_340688  Rachel  Thompson, Ph.D., BCBA          1"
      ]
     },
     "execution_count": 4,
     "metadata": {},
     "output_type": "execute_result"
    }
   ],
   "source": [
    "infile=\"MedHelp-users-class.csv\"\n",
    "df_users=pd.read_csv(infile,index_col=0)\n",
    "df_users.head(1)"
   ]
  },
  {
   "cell_type": "code",
   "execution_count": 5,
   "metadata": {},
   "outputs": [
    {
     "name": "stdout",
     "output_type": "stream",
     "text": [
      "52.23\n",
      "9.7\n",
      "12.8\n",
      "11.61\n",
      "15.5\n",
      "10.57\n",
      "29\n",
      "15.0\n",
      "27.066341463414638\n",
      "9th and 10th grade\n"
     ]
    }
   ],
   "source": [
    "from textstat.textstat import textstat\n",
    "\n",
    "test_data = \"\"\"Playing games has always been thought to be important to the development of well-balanced and creative children; however, what part, if any, they should play in the lives of adults has never been researched that deeply. I believe that playing games is every bit as important for adults as for children. Not only is taking time out to play games with our children and other adults valuable to building interpersonal relationships but is also a wonderful way to release built up tension.\"\"\"\n",
    "\n",
    "print (textstat.flesch_reading_ease(test_data))\n",
    "print (textstat.smog_index(test_data))\n",
    "print (textstat.flesch_kincaid_grade(test_data))\n",
    "print (textstat.coleman_liau_index(test_data))\n",
    "print (textstat.automated_readability_index(test_data))\n",
    "print (textstat.dale_chall_readability_score(test_data))\n",
    "print (textstat.difficult_words(test_data))\n",
    "print (textstat.linsear_write_formula(test_data))\n",
    "print (textstat.gunning_fog(test_data))\n",
    "print (textstat.text_standard(test_data))"
   ]
  },
  {
   "cell_type": "markdown",
   "metadata": {},
   "source": [
    "https://www.ahrq.gov/professionals/quality-patient-safety/talkingquality/resources/writing/tip6.html\n",
    "\n",
    "http://webcraft.tools/using-readability-score-wordpress/\n",
    "\n",
    "The most commonly used are the Flesch Reading Ease, Flesch-Kincaid Grade Level, and the FOG Index.[1][2][3]\n",
    "\n",
    "\n",
    "** Flesh readability score **   \n",
    "The Flesch readability score uses the sentence length (number of words per sentence) and the number of syllables per word in an equation to calculate the reading ease. Texts with a very high Flesch reading ease score (about 100) are very easy to read. They have short sentences and no words of more than two syllables.Jul 7, 2015\n",
    "\n",
    "The lower the score, the more difficult the text is. The Flesch readability score uses the sentence length (number of words per sentence) and the number of syllables per word in an equation to calculate the reading ease. Texts with a very high Flesch reading ease score (about 100) are very easy to read. They have short sentences and no words of more than two syllables. Usually, a reading ease of 60-70 is believed to be acceptable/ normal for web copy.\n",
    "\n",
    "\n",
    "** Flesch-Kincaid score **\n",
    "The Flesch–Kincaid readability tests are readability tests designed to indicate how difficult a passage in English is to understand. There are two tests, the Flesch Reading Ease, and the Flesch–Kincaid Grade Level. Although they use the same core measures (word length and sentence length), they have different weighting factors.\n",
    "\n",
    "Analyzing the results is a simple exercise. For instance, a score of 5.0 indicates a grade-school level; i.e., a score of 9.3 means that a ninth grader would be able to read the document. This score makes it easier for teachers, parents, librarians, and others to judge the readability level of various books and texts for the students. \n",
    "\n",
    "Theoretically, the lowest grade level score could be -3.4, but since there are no real passages that have every sentence consisting of a one-syllable word, it is a highly improbable result in practice.\n",
    "http://www.readabilityformulas.com/flesch-grade-level-readability-formula.php\n",
    "\n",
    "** Smog score**\n",
    "A 2010 study published in the Journal of the Royal College of Physicians of Edinburgh stated that “SMOG should be the preferred measure of readability when evaluating consumer-oriented healthcare material.” The study found that “The Flesch-Kincaid formula significantly underestimated reading difficulty compared with the gold standard SMOG formula.”[4]\n",
    "Applying SMOG to other languages lacks statistical validity.[5]\n",
    "\n",
    "To make calculating a text's readability as simple as possible an approximate formula was also given — count the **words of three or more syllables in three 10-sentence samples**, estimate the count's square root (from the nearest perfect square), and add 3.\n",
    "\n",
    "Grade level: from 1 to 240. The bigger the score, the larger grade is.\n",
    "http://www.readabilityformulas.com/smog-readability-formula.php\n"
   ]
  },
  {
   "cell_type": "code",
   "execution_count": 6,
   "metadata": {
    "collapsed": true
   },
   "outputs": [],
   "source": [
    "# Calculate all smog scores for texts from professional and non-professional\n",
    "expert_uids=df_users.loc[df_users['is expert']==1].index\n",
    "non_expert_uids=df_users.loc[df_users['is expert']==0].index\n"
   ]
  },
  {
   "cell_type": "code",
   "execution_count": 7,
   "metadata": {},
   "outputs": [
    {
     "name": "stdout",
     "output_type": "stream",
     "text": [
      "1813\n",
      "727\n",
      "1086\n"
     ]
    }
   ],
   "source": [
    "print(len(df))\n",
    "df_experts=df.loc[df['user id'].isin(expert_uids)]\n",
    "print(len(df_experts))\n",
    "\n",
    "df_non_experts=df.loc[df['user id'].isin(non_expert_uids)]\n",
    "print(len(df_non_experts))"
   ]
  },
  {
   "cell_type": "code",
   "execution_count": 8,
   "metadata": {
    "collapsed": true
   },
   "outputs": [],
   "source": [
    "text_experts=df_experts['text']\n",
    "text_non_experts=df_non_experts['text']"
   ]
  },
  {
   "cell_type": "code",
   "execution_count": 9,
   "metadata": {
    "collapsed": true
   },
   "outputs": [],
   "source": [
    "#readability_experts=text_experts.apply(textstat.smog_index)\n",
    "#readability_non_experts=text_non_experts.apply(textstat.smog_index)\n",
    "\n",
    "readability_experts=text_experts.apply(textstat.flesch_kincaid_grade)\n",
    "readability_non_experts=text_non_experts.apply(textstat.flesch_kincaid_grade)"
   ]
  },
  {
   "cell_type": "code",
   "execution_count": 10,
   "metadata": {
    "collapsed": true
   },
   "outputs": [],
   "source": [
    "import matplotlib.pyplot as plt\n",
    "import seaborn as sns\n",
    "import matplotlib.mlab as mlab\n",
    "from matplotlib import gridspec\n",
    "from scipy.stats import norm\n",
    "from scipy.optimize import curve_fit\n",
    "from lognormal import lognormal, lognormal_stats\n",
    "import numpy as np\n"
   ]
  },
  {
   "cell_type": "code",
   "execution_count": 37,
   "metadata": {},
   "outputs": [
    {
     "data": {
      "text/plain": [
       "<matplotlib.text.Text at 0x10fdfef60>"
      ]
     },
     "execution_count": 37,
     "metadata": {},
     "output_type": "execute_result"
    }
   ],
   "source": [
    "plt.rcParams['text.usetex'] = True\n",
    "plt.rcParams['text.latex.unicode'] = True\n",
    "\n",
    "plt.rcParams.update({'font.size': 24})\n",
    "label_size = 18\n",
    "plt.rcParams['xtick.labelsize'] = label_size \n",
    "plt.rcParams['ytick.labelsize'] = label_size \n",
    "\n",
    "\n",
    "nbins=100\n",
    "\n",
    "\n",
    "fig = plt.figure()\n",
    "#fig=plt.figure(figsize=(2,1))\n",
    "#fig.set_size_inches(6.6,3.3)\n",
    "gs = gridspec.GridSpec(2, 1)\n",
    "plt.subplots_adjust(left=0.2,right=1.0,bottom=0.17,top=0.9)\n",
    "fig.set_size_inches(6,6)\n",
    "\n",
    "\n",
    "#plt.suptitle('Readability score')\n",
    "fig.text(0.04,0.5,'Distribution',va='center',rotation='vertical')\n",
    "fig.text(0.4,0.04,'Readability score',va='center')"
   ]
  },
  {
   "cell_type": "code",
   "execution_count": 38,
   "metadata": {},
   "outputs": [
    {
     "name": "stdout",
     "output_type": "stream",
     "text": [
      "Experts: Mean,variance: (11.378266850068776,6.094410751349501)\n",
      "Non experts: Mean,variance: 7.37127071823 28.867535586\n"
     ]
    },
    {
     "data": {
      "image/png": "[encoded data removed]",
      "text/plain": [
       "<matplotlib.figure.Figure at 0x1109396d8>"
      ]
     },
     "metadata": {},
     "output_type": "display_data"
    }
   ],
   "source": [
    "#X ticks\n",
    "\n",
    "#plt.ylabel('Distribution')\n",
    "\n",
    "\n",
    "xmax=20\n",
    "x=np.arange(0,xmax,2) #xtics\n",
    "xx=np.arange(1,xmax,0.5)\n",
    "\n",
    "# Panel 1\n",
    "ax1=plt.subplot(gs[0])\n",
    "ax1.set_xlim([0, xmax])\n",
    "ax1.set_xticks(x)\n",
    "ax1.set_yticks(np.arange(0,0.3,0.1))\n",
    "\n",
    "ax1.tick_params(labelbottom='off')    \n",
    "\n",
    "#Class 0\n",
    "X=readability_experts.values\n",
    "n,bins,patches=plt.hist(X,nbins,normed=1,facecolor='blue',align='mid',label='Experts')\n",
    "mu=X.mean()\n",
    "var=X.var()\n",
    "plt.legend(bbox_to_anchor=(0.45, 0.95), loc=0, borderaxespad=0., fontsize=label_size)\n",
    "\n",
    "\n",
    "print(\"Experts: Mean,variance: ({},{})\".format(mu,var))\n",
    "\n",
    "\n",
    "\n",
    "# Panel 2\n",
    "ax2=plt.subplot(gs[1])\n",
    "ax2.set_xlim([0, xmax])\n",
    "ax2.set_xticks(x)\n",
    "ax2.set_yticks(np.arange(0,0.3,0.1))\n",
    "\n",
    "#Class 1\n",
    "X=readability_non_experts.values\n",
    "n,bins,patches=plt.hist(X,nbins,normed=1,facecolor='orange',align='mid',label='Non experts')\n",
    "mu=X.mean()\n",
    "var=X.var()\n",
    "\n",
    "plt.legend(bbox_to_anchor=(0.45, 0.95), loc=0, borderaxespad=0., fontsize=label_size)\n",
    "\n",
    "print(\"Non experts: Mean,variance:\",mu,var)\n",
    "\n",
    "\n",
    "plt.show()"
   ]
  },
  {
   "cell_type": "code",
   "execution_count": 39,
   "metadata": {
    "collapsed": true
   },
   "outputs": [],
   "source": [
    "fig.facecolor=\"white\"\n",
    "fig.savefig('Readability.jpeg', dpi=300)"
   ]
  },
  {
   "cell_type": "code",
   "execution_count": null,
   "metadata": {},
   "outputs": [],
   "source": [
    "#Problem with Smog score, sometimes it gets 0?\n",
    "#smog_experts=text_experts.apply(textstat.smog_index)\n",
    "#smog_non_experts=text_non_experts.apply(textstat.smog_index)\n",
    "\n",
    "text_experts.head(5)\n",
    "#df_experts.head(5)\n",
    "#smog_experts.head(5)\n",
    "#smog_experts.loc[smog_experts == 0]\n",
    "text=text_experts.loc[38]\n",
    "print(text)\n",
    "text=\"Whether or not your son has Chiari malformation is a question for your medical doctor.  If you have concerns, absolutely take them to your doctor and make sure they are addressed.\"\n",
    "textstat.smog_index(text)"
   ]
  },
  {
   "cell_type": "code",
   "execution_count": null,
   "metadata": {
    "collapsed": true
   },
   "outputs": [],
   "source": []
  },
  {
   "cell_type": "code",
   "execution_count": null,
   "metadata": {
    "collapsed": true
   },
   "outputs": [],
   "source": []
  },
  {
   "cell_type": "code",
   "execution_count": null,
   "metadata": {
    "collapsed": true
   },
   "outputs": [],
   "source": []
  }
 ],
 "metadata": {
  "kernelspec": {
   "display_name": "Python 3",
   "language": "python",
   "name": "python3"
  },
  "language_info": {
   "codemirror_mode": {
    "name": "ipython",
    "version": 3
   },
   "file_extension": ".py",
   "mimetype": "text/x-python",
   "name": "python",
   "nbconvert_exporter": "python",
   "pygments_lexer": "ipython3",
   "version": "3.6.1"
  }
 },
 "nbformat": 4,
 "nbformat_minor": 2
}
