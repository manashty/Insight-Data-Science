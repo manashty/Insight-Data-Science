{
 "cells": [
  {
   "cell_type": "markdown",
   "metadata": {},
   "source": [
    "# Perplexity\n",
    "\n",
    "Here I show perplexity as a metric to find the optimal number of topics.\n",
    "\n",
    "https://radimrehurek.com/gensim/models/ldamodel.html\n",
    "log_perplexity(chunk, total_docs=None)\n",
    "Calculate and return per-word likelihood bound, using the chunk of documents as evaluation corpus. Also output the calculated statistics. incl. perplexity=2^(-bound), to log at INFO level.\n",
    "\n",
    "\n",
    "https://stackoverflow.com/questions/21355156/topic-models-cross-validation-with-loglikelihood-or-perplexity\n",
    "\n",
    "\n",
    "http://qpleple.com/perplexity-to-evaluate-topic-models/"
   ]
  },
  {
   "cell_type": "code",
   "execution_count": 1,
   "metadata": {
    "collapsed": true
   },
   "outputs": [],
   "source": [
    "import pandas as pd\n",
    "import os\n",
    "import numpy as np\n",
    "from gensim import corpora, models, similarities\n",
    "from gensim import models\n",
    "\n",
    "from nlp_models import make_corpus,\\\n",
    "make_lsi_similarity_matrix,make_lda_similarity_matrix,get_model_score_wforums"
   ]
  },
  {
   "cell_type": "code",
   "execution_count": 2,
   "metadata": {
    "collapsed": true
   },
   "outputs": [],
   "source": [
    "# Set up paths/ os\n",
    "import os\n",
    "import sys\n",
    "\n",
    "this_path=os.getcwd()\n",
    "os.chdir(\"../data\")\n",
    "sys.path.insert(0, this_path)"
   ]
  },
  {
   "cell_type": "code",
   "execution_count": 3,
   "metadata": {},
   "outputs": [
    {
     "data": {
      "text/html": [
       "<div>\n",
       "<style>\n",
       "    .dataframe thead tr:only-child th {\n",
       "        text-align: right;\n",
       "    }\n",
       "\n",
       "    .dataframe thead th {\n",
       "        text-align: left;\n",
       "    }\n",
       "\n",
       "    .dataframe tbody tr th {\n",
       "        vertical-align: top;\n",
       "    }\n",
       "</style>\n",
       "<table border=\"1\" class=\"dataframe\">\n",
       "  <thead>\n",
       "    <tr style=\"text-align: right;\">\n",
       "      <th></th>\n",
       "      <th>category</th>\n",
       "      <th>href</th>\n",
       "      <th>source</th>\n",
       "      <th>text</th>\n",
       "      <th>title</th>\n",
       "      <th>tokens</th>\n",
       "    </tr>\n",
       "  </thead>\n",
       "  <tbody>\n",
       "    <tr>\n",
       "      <th>0</th>\n",
       "      <td>['category-autism-therapy']</td>\n",
       "      <td>https://www.autismparentingmagazine.com/autism...</td>\n",
       "      <td>https://www.autismparentingmagazine.com/</td>\n",
       "      <td>For children with autism spectrum disorder (AS...</td>\n",
       "      <td>Autism, Head Banging and other Self Harming Be...</td>\n",
       "      <td>['for', 'children', 'with', 'autism', 'spectru...</td>\n",
       "    </tr>\n",
       "    <tr>\n",
       "      <th>1</th>\n",
       "      <td>['category-autism-therapy']</td>\n",
       "      <td>https://www.autismparentingmagazine.com/high-q...</td>\n",
       "      <td>https://www.autismparentingmagazine.com/</td>\n",
       "      <td>Dr. Stephen Shore once said “If you’ve met one...</td>\n",
       "      <td>High Quality ABA Treatment:  What Every Parent...</td>\n",
       "      <td>['dr', 'stephen', 'shore', 'once', 'said', 'if...</td>\n",
       "    </tr>\n",
       "  </tbody>\n",
       "</table>\n",
       "</div>"
      ],
      "text/plain": [
       "                      category  \\\n",
       "0  ['category-autism-therapy']   \n",
       "1  ['category-autism-therapy']   \n",
       "\n",
       "                                                href  \\\n",
       "0  https://www.autismparentingmagazine.com/autism...   \n",
       "1  https://www.autismparentingmagazine.com/high-q...   \n",
       "\n",
       "                                     source  \\\n",
       "0  https://www.autismparentingmagazine.com/   \n",
       "1  https://www.autismparentingmagazine.com/   \n",
       "\n",
       "                                                text  \\\n",
       "0  For children with autism spectrum disorder (AS...   \n",
       "1  Dr. Stephen Shore once said “If you’ve met one...   \n",
       "\n",
       "                                               title  \\\n",
       "0  Autism, Head Banging and other Self Harming Be...   \n",
       "1  High Quality ABA Treatment:  What Every Parent...   \n",
       "\n",
       "                                              tokens  \n",
       "0  ['for', 'children', 'with', 'autism', 'spectru...  \n",
       "1  ['dr', 'stephen', 'shore', 'once', 'said', 'if...  "
      ]
     },
     "execution_count": 3,
     "metadata": {},
     "output_type": "execute_result"
    }
   ],
   "source": [
    "\n",
    "# Read dataframe\n",
    "#input_fname=\"AutismParentMagazine-posts-tokens.csv\"\n",
    "input_fname=\"articles-n-forums-posts.csv\"\n",
    "\n",
    "\n",
    "# Get categories and ids from dataset\n",
    "df = pd.read_csv(input_fname,index_col=0)\n",
    "\n",
    "df.head(2)"
   ]
  },
  {
   "cell_type": "code",
   "execution_count": 4,
   "metadata": {
    "collapsed": true
   },
   "outputs": [],
   "source": [
    "# Extract series from df:\n",
    "categories=df['category']\n",
    "ids=df.index"
   ]
  },
  {
   "cell_type": "code",
   "execution_count": 5,
   "metadata": {
    "collapsed": true
   },
   "outputs": [],
   "source": [
    "from ast import literal_eval  \n",
    "\n",
    "# Get similarity matrices\n",
    "documents = df['tokens'].values\n",
    "for idoc in range(len(documents)):\n",
    "    documents[idoc]=literal_eval(str(documents[idoc]))\n",
    "\n"
   ]
  },
  {
   "cell_type": "code",
   "execution_count": 6,
   "metadata": {
    "collapsed": true
   },
   "outputs": [],
   "source": [
    "corpus,dictionary = make_corpus(documents)\n",
    "\n",
    "\n",
    "tfidf = models.TfidfModel(corpus)\n",
    "\n",
    "\n"
   ]
  },
  {
   "cell_type": "code",
   "execution_count": 7,
   "metadata": {
    "collapsed": true
   },
   "outputs": [],
   "source": [
    "msk = np.random.rand(len(corpus)) < 0.6\n",
    "\n",
    "#corpus_train = documents[msk]\n",
    "#corpus_test = documents[~msk]\n",
    "#chunk=corpus[msk]\n",
    "\n",
    "#print(len(corpus))\n",
    "len_60p=int(len(corpus)*0.6)\n",
    "chunk1=corpus[:len_60p]\n",
    "chunk2=corpus[len_60p:]\n",
    "\n"
   ]
  },
  {
   "cell_type": "code",
   "execution_count": 8,
   "metadata": {},
   "outputs": [
    {
     "name": "stdout",
     "output_type": "stream",
     "text": [
      "N. iter 1000, perplexity 679.6541301698294\n",
      "N. iter 2000, perplexity 626.8047897369676\n",
      "N. iter 3000, perplexity 626.43023766625\n",
      "N. iter 4000, perplexity 620.1467854672866\n",
      "N. iter 5000, perplexity 606.8679915202462\n",
      "N. iter 6000, perplexity 636.237261647328\n",
      "N. iter 7000, perplexity 644.999106919657\n",
      "N. iter 8000, perplexity 629.8841062599062\n",
      "N. iter 9000, perplexity 622.1436238654228\n"
     ]
    }
   ],
   "source": [
    "num_topics=50\n",
    "for num_iter in range(1000,10000,1000):\n",
    "    matsim,lda = make_lda_similarity_matrix(corpus, dictionary,num_topics,num_iter)\n",
    "    perplexity1=np.power(2,-lda.log_perplexity(chunk1))\n",
    "\n",
    "    print(\"N. iter {}, perplexity {}\".format(num_iter,perplexity1))"
   ]
  },
  {
   "cell_type": "code",
   "execution_count": 11,
   "metadata": {},
   "outputs": [
    {
     "name": "stdout",
     "output_type": "stream",
     "text": [
      "N. iter 100, perplexity 225.5765361601017\n",
      "N. iter 200, perplexity 62.44704730932154\n",
      "N. iter 300, perplexity 50.962173142155706\n",
      "N. iter 400, perplexity 37.98795767231926\n",
      "N. iter 500, perplexity 43.411785175600805\n",
      "N. iter 600, perplexity 40.07528938872444\n",
      "N. iter 700, perplexity 38.43191720464769\n",
      "N. iter 800, perplexity 38.59871845119795\n",
      "N. iter 900, perplexity 42.59788635161587\n"
     ]
    }
   ],
   "source": [
    "num_topics=400\n",
    "x=[]\n",
    "y=[]\n",
    "for num_iter in range(100,1000,100):\n",
    "    matsim,lda = make_lda_similarity_matrix(corpus, dictionary,num_topics,num_iter)\n",
    "    perplexity=np.power(2,-lda.log_perplexity(chunk1))/num_topics\n",
    "    x.append(num_iter)\n",
    "    y.append(perplexity)\n",
    "\n",
    "    print(\"N. iter {}, perplexity {}\".format(num_iter,perplexity))"
   ]
  },
  {
   "cell_type": "code",
   "execution_count": 12,
   "metadata": {
    "collapsed": true
   },
   "outputs": [],
   "source": [
    "import matplotlib.pyplot as plt\n",
    "import seaborn as sns\n",
    "import matplotlib.mlab as mlab\n",
    "from matplotlib import gridspec\n",
    "from scipy.stats import norm\n",
    "from scipy.optimize import curve_fit\n",
    "from lognormal import lognormal, lognormal_stats\n",
    "import numpy as np"
   ]
  },
  {
   "cell_type": "code",
   "execution_count": 21,
   "metadata": {},
   "outputs": [
    {
     "data": {
      "image/png": "[encoded data removed]",
      "text/plain": [
       "<matplotlib.figure.Figure at 0x11b645cf8>"
      ]
     },
     "metadata": {},
     "output_type": "display_data"
    }
   ],
   "source": [
    "plt.rcParams['text.usetex'] = True\n",
    "plt.rcParams['text.latex.unicode'] = True\n",
    "\n",
    "plt.rcParams.update({'font.size': 24})\n",
    "label_size = 18\n",
    "plt.rcParams['xtick.labelsize'] = label_size \n",
    "plt.rcParams['ytick.labelsize'] = label_size \n",
    "\n",
    "\n",
    "fig = plt.figure()\n",
    "#plt.subplots_adjust(left=0.2,right=1.0,bottom=0.17,top=0.9)\n",
    "fig.set_size_inches(6,6)\n",
    "\n",
    "\n",
    "#plt.suptitle('Readability score')\n",
    "#fig.text(0.04,0.5,'Distribution',va='center',rotation='vertical')\n",
    "#fig.text(0.4,0.04,'Readability score',va='center')\n",
    "\n",
    "plt.xlabel('N. iterations',fontsize=label_size)\n",
    "plt.ylabel('Perplexity',fontsize=label_size)\n",
    "\n",
    "\n",
    "plt.plot(x, y)\n",
    "\n",
    "plt.show()"
   ]
  },
  {
   "cell_type": "code",
   "execution_count": null,
   "metadata": {
    "collapsed": true
   },
   "outputs": [],
   "source": []
  }
 ],
 "metadata": {
  "kernelspec": {
   "display_name": "Python 3",
   "language": "python",
   "name": "python3"
  },
  "language_info": {
   "codemirror_mode": {
    "name": "ipython",
    "version": 3
   },
   "file_extension": ".py",
   "mimetype": "text/x-python",
   "name": "python",
   "nbconvert_exporter": "python",
   "pygments_lexer": "ipython3",
   "version": "3.6.1"
  }
 },
 "nbformat": 4,
 "nbformat_minor": 2
}
