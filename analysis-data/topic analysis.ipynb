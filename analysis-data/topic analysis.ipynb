{
 "cells": [
  {
   "cell_type": "code",
   "execution_count": 1,
   "metadata": {
    "collapsed": true
   },
   "outputs": [],
   "source": [
    "%matplotlib inline\n",
    "import matplotlib.pyplot as plt\n",
    "from pprint import pprint\n",
    "import pandas as pd\n",
    "import os"
   ]
  },
  {
   "cell_type": "code",
   "execution_count": 2,
   "metadata": {
    "collapsed": true
   },
   "outputs": [],
   "source": [
    "from collections import defaultdict\n",
    "from gensim import corpora, models, similarities\n",
    "\n",
    "# plot projection of articles onto 2 axes/topics defined by the model; for models operating on tfidf-transformed inputs (LSI, RP)\n",
    "def plot_axes_with_tfidf(x, y, model, corpus, tfidf, titles):\n",
    "    \"\"\"Plot each article title according to the projection of its text \n",
    "    into the given x and y topic axes of model.\n",
    "    \n",
    "    :param x: the index of the x axis to plot\n",
    "    :param y: the index of the y axis to plot\n",
    "    :param model: the gensim model to project into\n",
    "    :param corpus: the gensim corpus of documents\n",
    "    :param tfidf: a tfidf model for converting documents into tfidf space\n",
    "    :param titles: a list of article titles\n",
    "    \"\"\"\n",
    "    x_data = defaultdict(list) \n",
    "    y_data = defaultdict(list) \n",
    "    arts = defaultdict(list)  \n",
    "    for title, doc in zip(titles, corpus):\n",
    "        x_data[0].append((model[tfidf[doc]][x][1]))\n",
    "        y_data[0].append((model[tfidf[doc]][y][1]))\n",
    "        arts[0].append(title)\n",
    "    plt.figure(figsize=(10, 10))\n",
    "    ax = plt.gca()\n",
    "    ax.set_xlabel('Topic '+str(x), fontsize=14)\n",
    "    ax.set_ylabel('Topic '+str(y), fontsize=14)\n",
    "    plt.scatter(x_data[0], y_data[0], s=40)\n",
    "    for art, x, y in zip(arts[0], x_data[0], y_data[0]):\n",
    "        ax.annotate(str(art), xy=(x, y), xycoords='data', xytext=(1, 1), \n",
    "        textcoords='offset points', size=10)\n",
    "    \n",
    "        \n",
    "# plot projection of articles onto 2 axes/topics defined by the model; for models operating on original corpus (LDA, HDP)\n",
    "def plot_axes(x, y, model, corpus, titles):\n",
    "    \"\"\"Plot each article title according to the projection of its text \n",
    "    into the given x and y topic axes of model.\n",
    "    \n",
    "    :param x: the index of the x axis to plot\n",
    "    :param y: the index of the y axis to plot\n",
    "    :param model: the gensim model to project into\n",
    "    :param corpus: the gensim corpus of documents\n",
    "    :param titles: a list of article titles\n",
    "    \"\"\"\n",
    "    x_data = defaultdict(list) \n",
    "    y_data = defaultdict(list) \n",
    "    arts = defaultdict(list)  \n",
    "    for title, doc in zip(titles, corpus):\n",
    "        x_data[0].append((model[doc][x][1]))\n",
    "        y_data[0].append((model[doc][y][1]))\n",
    "        arts[0].append(title)\n",
    "    plt.figure(figsize=(10, 10))\n",
    "    ax = plt.gca()\n",
    "    ax.set_xlabel('Topic '+str(x), fontsize=14)\n",
    "    ax.set_ylabel('Topic '+str(y), fontsize=14)\n",
    "    plt.scatter(x_data[0], y_data[0], s=40)\n",
    "    for art, x, y in zip(arts[0], x_data[0], y_data[0]):\n",
    "        ax.annotate(str(art), xy=(x, y), xycoords='data', xytext=(1, 1), \n",
    "        textcoords='offset points', size=10)  "
   ]
  },
  {
   "cell_type": "code",
   "execution_count": 3,
   "metadata": {},
   "outputs": [
    {
     "data": {
      "text/html": [
       "<div>\n",
       "<style>\n",
       "    .dataframe thead tr:only-child th {\n",
       "        text-align: right;\n",
       "    }\n",
       "\n",
       "    .dataframe thead th {\n",
       "        text-align: left;\n",
       "    }\n",
       "\n",
       "    .dataframe tbody tr th {\n",
       "        vertical-align: top;\n",
       "    }\n",
       "</style>\n",
       "<table border=\"1\" class=\"dataframe\">\n",
       "  <thead>\n",
       "    <tr style=\"text-align: right;\">\n",
       "      <th></th>\n",
       "      <th>category</th>\n",
       "      <th>href</th>\n",
       "      <th>source</th>\n",
       "      <th>text</th>\n",
       "      <th>title</th>\n",
       "      <th>tokens</th>\n",
       "    </tr>\n",
       "  </thead>\n",
       "  <tbody>\n",
       "    <tr>\n",
       "      <th>0</th>\n",
       "      <td>category-applied-behavior-analysis-aba</td>\n",
       "      <td>https://www.autismparentingmagazine.com/autism...</td>\n",
       "      <td>https://www.autismparentingmagazine.com/</td>\n",
       "      <td>For children with autism spectrum disorder (AS...</td>\n",
       "      <td>Autism, Head Banging and other Self Harming Be...</td>\n",
       "      <td>['for', 'children', 'with', 'autism', 'spectru...</td>\n",
       "    </tr>\n",
       "    <tr>\n",
       "      <th>1</th>\n",
       "      <td>category-applied-behavior-analysis-aba</td>\n",
       "      <td>https://www.autismparentingmagazine.com/high-q...</td>\n",
       "      <td>https://www.autismparentingmagazine.com/</td>\n",
       "      <td>Dr. Stephen Shore once said “If you’ve met one...</td>\n",
       "      <td>High Quality ABA Treatment:  What Every Parent...</td>\n",
       "      <td>['dr', 'stephen', 'shore', 'once', 'said', 'if...</td>\n",
       "    </tr>\n",
       "  </tbody>\n",
       "</table>\n",
       "</div>"
      ],
      "text/plain": [
       "                                 category  \\\n",
       "0  category-applied-behavior-analysis-aba   \n",
       "1  category-applied-behavior-analysis-aba   \n",
       "\n",
       "                                                href  \\\n",
       "0  https://www.autismparentingmagazine.com/autism...   \n",
       "1  https://www.autismparentingmagazine.com/high-q...   \n",
       "\n",
       "                                     source  \\\n",
       "0  https://www.autismparentingmagazine.com/   \n",
       "1  https://www.autismparentingmagazine.com/   \n",
       "\n",
       "                                                text  \\\n",
       "0  For children with autism spectrum disorder (AS...   \n",
       "1  Dr. Stephen Shore once said “If you’ve met one...   \n",
       "\n",
       "                                               title  \\\n",
       "0  Autism, Head Banging and other Self Harming Be...   \n",
       "1  High Quality ABA Treatment:  What Every Parent...   \n",
       "\n",
       "                                              tokens  \n",
       "0  ['for', 'children', 'with', 'autism', 'spectru...  \n",
       "1  ['dr', 'stephen', 'shore', 'once', 'said', 'if...  "
      ]
     },
     "execution_count": 3,
     "metadata": {},
     "output_type": "execute_result"
    }
   ],
   "source": [
    "os.chdir('../data/')\n",
    "# Read dataframe\n",
    "#input_fname=\"AutismParentMagazine-posts-tokens.csv\"\n",
    "input_fname=\"articles-n-forums-posts.csv\"\n",
    "\n",
    "df = pd.read_csv(input_fname,index_col=0)\n",
    "df.head(2)\n"
   ]
  },
  {
   "cell_type": "code",
   "execution_count": 4,
   "metadata": {
    "collapsed": true
   },
   "outputs": [],
   "source": [
    "import pickle\n",
    "# Read models\n",
    "corpus = pickle.load(open(\"corpus.save\", \"rb\"))\n",
    "tfidf = models.TfidfModel.load('tfidf.save')\n",
    "lsimodel = models.LsiModel.load('lsi-model.save')\n"
   ]
  },
  {
   "cell_type": "code",
   "execution_count": 5,
   "metadata": {},
   "outputs": [],
   "source": [
    "# Plot topics\n",
    "titles = df['title']\n",
    "categories = df['category']\n",
    "\n",
    "topics_articles=[]\n",
    "topics_forums=[]\n",
    "for category,title, doc in zip(categories,titles, corpus):\n",
    "    top_topic=max(lsimodel[tfidf[doc]],key=lambda x:x[1])\n",
    "    if category == 'forums':\n",
    "        topics_forums.append(top_topic)\n",
    "    else:\n",
    "        topics_articles.append(top_topic)\n",
    "\n",
    "\n",
    "\n"
   ]
  },
  {
   "cell_type": "code",
   "execution_count": 6,
   "metadata": {},
   "outputs": [
    {
     "name": "stdout",
     "output_type": "stream",
     "text": [
      "category               category-applied-behavior-analysis-aba\n",
      "href        https://www.autismparentingmagazine.com/autism...\n",
      "source               https://www.autismparentingmagazine.com/\n",
      "text        For children with autism spectrum disorder (AS...\n",
      "title       Autism, Head Banging and other Self Harming Be...\n",
      "tokens      ['for', 'children', 'with', 'autism', 'spectru...\n",
      "Name: 0, dtype: object\n"
     ]
    },
    {
     "data": {
      "text/plain": [
       "[('delays', 0.080686782167673582),\n",
       " ('seeing', -0.077652423741263563),\n",
       " ('head', 0.074499926236749336),\n",
       " ('hair', 0.072249148020062492),\n",
       " ('rather', -0.07195653748863208),\n",
       " ('whether', -0.071462488055082152),\n",
       " ('learning', -0.07140853944117255),\n",
       " ('programs', -0.069267157727060283),\n",
       " ('journey', -0.065877723775002839),\n",
       " ('using', 0.064503874896842089)]"
      ]
     },
     "execution_count": 6,
     "metadata": {},
     "output_type": "execute_result"
    }
   ],
   "source": [
    "print(df.loc[0])\n",
    "lsimodel.show_topic(289,topn=10)"
   ]
  },
  {
   "cell_type": "code",
   "execution_count": 7,
   "metadata": {},
   "outputs": [
    {
     "data": {
      "text/plain": [
       "[('behavior', 0.18064146052411476),\n",
       " ('son', 0.14968967605559619),\n",
       " ('diagnosis', 0.13929711658835373),\n",
       " ('autism', 0.12730052941049244),\n",
       " ('child', 0.12727552507717477)]"
      ]
     },
     "execution_count": 7,
     "metadata": {},
     "output_type": "execute_result"
    }
   ],
   "source": [
    "topic_index=0\n",
    "topn=5 #top five words in that topic\n",
    "lsimodel.show_topic(topic_index, topn=topn)"
   ]
  },
  {
   "cell_type": "code",
   "execution_count": 8,
   "metadata": {
    "collapsed": true
   },
   "outputs": [],
   "source": [
    "%matplotlib inline\n",
    "import matplotlib.pyplot as plt\n",
    "import seaborn as sns\n",
    "import matplotlib.mlab as mlab\n",
    "from matplotlib import gridspec\n",
    "import numpy as np\n"
   ]
  },
  {
   "cell_type": "code",
   "execution_count": 9,
   "metadata": {},
   "outputs": [
    {
     "data": {
      "text/plain": [
       "<matplotlib.text.Text at 0x11ea61be0>"
      ]
     },
     "execution_count": 9,
     "metadata": {},
     "output_type": "execute_result"
    },
    {
     "data": {
      "text/plain": [
       "<matplotlib.figure.Figure at 0x11ea61470>"
      ]
     },
     "metadata": {},
     "output_type": "display_data"
    }
   ],
   "source": [
    "plt.rcParams['text.usetex'] = True\n",
    "plt.rcParams['text.latex.unicode'] = True\n",
    "\n",
    "plt.rcParams.update({'font.size': 24})\n",
    "\n",
    "nbins=300 #300 topics\n",
    "\n",
    "\n",
    "fig = plt.figure()\n",
    "#fig=plt.figure(figsize=(2,1))\n",
    "#fig.set_size_inches(6.6,3.3)\n",
    "gs = gridspec.GridSpec(2, 1)\n",
    "#plt.subplots_adjust(left=0.1,right=1.0,bottom=0.17,top=0.9)\n",
    "\n",
    "\n",
    "#plt.suptitle('Text length (words count)')\n",
    "fig.text(0.04,0.5,'Distribution',va='center',rotation='vertical')"
   ]
  },
  {
   "cell_type": "code",
   "execution_count": 10,
   "metadata": {},
   "outputs": [
    {
     "data": {
      "image/png": "[encoded data removed]",
      "text/plain": [
       "<matplotlib.figure.Figure at 0x11ead1940>"
      ]
     },
     "metadata": {},
     "output_type": "display_data"
    }
   ],
   "source": [
    "#X ticks\n",
    "\n",
    "xmax=320\n",
    "x=np.arange(0,xmax,20) #xtics\n",
    "xx=np.arange(1,xmax,1)\n",
    "\n",
    "# Panel 1\n",
    "ax1=plt.subplot(gs[0])\n",
    "ax1.set_xlim([0, xmax])\n",
    "ax1.set_ylim([0,0.2])\n",
    "ax1.set_xticks(x)\n",
    "ax1.tick_params(labelbottom='off')    \n",
    "\n",
    "\n",
    "#plt.ylabel('')\n",
    "#Class 0\n",
    "X=np.array(topics_articles)\n",
    "n_articles,bins_articles,patches=plt.hist(X,nbins,normed=1,facecolor='blue',align='mid',label='articles')\n",
    "plt.legend(bbox_to_anchor=(0.45, 0.95), loc=2, borderaxespad=0.)\n",
    "\n",
    "\n",
    "\n",
    "# Panel 2\n",
    "ax2=plt.subplot(gs[1])\n",
    "ax2.set_xlim([0, xmax])\n",
    "ax2.set_xticks(x)\n",
    "ax2.set_ylim([0,0.2])\n",
    "\n",
    "plt.ylabel('Distribution')\n",
    "plt.xlabel('Topic')\n",
    "\n",
    "#Class 1\n",
    "X=np.array(topics_forums)\n",
    "n_forums,bins_forums,patches=plt.hist(X,nbins,normed=1,facecolor='orange',align='mid',label='forums')\n",
    "plt.legend(bbox_to_anchor=(0.45, 0.95), loc=2, borderaxespad=0.)\n",
    "\n",
    "\n",
    "#plt.xlabel('Volume ratio (theor./expt.)')\n",
    "\n",
    "plt.show()"
   ]
  },
  {
   "cell_type": "code",
   "execution_count": 11,
   "metadata": {},
   "outputs": [
    {
     "name": "stdout",
     "output_type": "stream",
     "text": [
      "301\n",
      "300\n",
      "(299, 0.10660214852418985)\n",
      "(299, 0.077503597396938337)\n"
     ]
    }
   ],
   "source": [
    "# Find top 10 topics in articles and forums\n",
    "print(len(bins_forums))\n",
    "print(len(n_forums[0]))\n",
    "#print(n_forums[0])\n",
    "print(max(topics_forums))\n",
    "print(max(topics_articles))"
   ]
  },
  {
   "cell_type": "code",
   "execution_count": 12,
   "metadata": {},
   "outputs": [],
   "source": [
    "def mk_topic_presence(nn):\n",
    "    from operator import itemgetter\n",
    "\n",
    "    \"\"\"gets the topic presence. The result is sorteed.\n",
    "    nn refers to the output n of plt.hist, which contains the topic distribution for each bin\"\"\"\n",
    "    topic_presence=[]\n",
    "    for n in range(len(n_forums[0])):\n",
    "        topic_presence.append((n,nn[0][n]))\n",
    "    # Sort topic presence:\n",
    "    sorted_topic_presence=sorted(topic_presence,key=itemgetter(1),reverse=True)\n",
    "    return sorted_topic_presence\n",
    "\n",
    "from IPython.display import Markdown, display\n",
    "def printmd(string):\n",
    "    display(Markdown(string))\n",
    "    \n",
    "def print_topics(topic_presence_list):\n",
    "    topn=10 #top five words in that topic\n",
    "    for topic_presence in topic_presence_list[:5]:\n",
    "        topic_index=topic_presence[0]\n",
    "        topic=lsimodel.show_topic(topic_index, topn=topn)\n",
    "        word_list=[]\n",
    "        for word,score in topic:\n",
    "            word_list.append(word)\n",
    "        printmd('**Topic {}**: {}'.format(topic_index,', '.join(word_list)))\n"
   ]
  },
  {
   "cell_type": "code",
   "execution_count": 13,
   "metadata": {},
   "outputs": [
    {
     "data": {
      "text/plain": [
       "[(0, 0.19313203636534926),\n",
       " (8, 0.10834236186348858),\n",
       " (25, 0.032973762306279165),\n",
       " (5, 0.032973762306279131),\n",
       " (12, 0.018842149889302377)]"
      ]
     },
     "execution_count": 13,
     "metadata": {},
     "output_type": "execute_result"
    }
   ],
   "source": [
    "topic_presence_articles=mk_topic_presence(n_articles)\n",
    "topic_presence_articles[:5]\n"
   ]
  },
  {
   "cell_type": "code",
   "execution_count": 14,
   "metadata": {},
   "outputs": [
    {
     "data": {
      "text/plain": [
       "[(0, 0.66295387735167566),\n",
       " (1, 0.031754933621046651),\n",
       " (10, 0.015041810662601053),\n",
       " (5, 0.015041810662601039),\n",
       " (6, 0.011699186070911929)]"
      ]
     },
     "execution_count": 14,
     "metadata": {},
     "output_type": "execute_result"
    }
   ],
   "source": [
    "topic_presence_forums=mk_topic_presence(n_forums)\n",
    "topic_presence_forums[:5]"
   ]
  },
  {
   "cell_type": "code",
   "execution_count": 15,
   "metadata": {},
   "outputs": [
    {
     "data": {
      "text/markdown": [
       "**Topics most present in articles**"
      ],
      "text/plain": [
       "<IPython.core.display.Markdown object>"
      ]
     },
     "metadata": {},
     "output_type": "display_data"
    },
    {
     "data": {
      "text/markdown": [
       "**Topic 0**: behavior, son, diagnosis, autism, child, school, children, social, would, may"
      ],
      "text/plain": [
       "<IPython.core.display.Markdown object>"
      ]
     },
     "metadata": {},
     "output_type": "display_data"
    },
    {
     "data": {
      "text/markdown": [
       "**Topic 8**: thank, continue, reading, asperger, medication, doctor, school, thanks, much, pediatrician"
      ],
      "text/plain": [
       "<IPython.core.display.Markdown object>"
      ]
     },
     "metadata": {},
     "output_type": "display_data"
    },
    {
     "data": {
      "text/markdown": [
       "**Topic 25**: daughter, toilet, speech, food, reading, continue, services, medication, son, language"
      ],
      "text/plain": [
       "<IPython.core.display.Markdown object>"
      ]
     },
     "metadata": {},
     "output_type": "display_data"
    },
    {
     "data": {
      "text/markdown": [
       "**Topic 5**: sensory, http, asperger, www, pediatrics, org, autistic, thank, com, aspergers"
      ],
      "text/plain": [
       "<IPython.core.display.Markdown object>"
      ]
     },
     "metadata": {},
     "output_type": "display_data"
    },
    {
     "data": {
      "text/markdown": [
       "**Topic 12**: school, intervention, son, early, behaviors, speech, child, old, diagnosis, provide"
      ],
      "text/plain": [
       "<IPython.core.display.Markdown object>"
      ]
     },
     "metadata": {},
     "output_type": "display_data"
    },
    {
     "data": {
      "text/markdown": [
       "**Topics most present in forums**"
      ],
      "text/plain": [
       "<IPython.core.display.Markdown object>"
      ]
     },
     "metadata": {},
     "output_type": "display_data"
    },
    {
     "data": {
      "text/markdown": [
       "**Topic 0**: behavior, son, diagnosis, autism, child, school, children, social, would, may"
      ],
      "text/plain": [
       "<IPython.core.display.Markdown object>"
      ]
     },
     "metadata": {},
     "output_type": "display_data"
    },
    {
     "data": {
      "text/markdown": [
       "**Topic 1**: discussion, related, started, old, violence, behavior, yr, aspergers, asperger, autism"
      ],
      "text/plain": [
       "<IPython.core.display.Markdown object>"
      ]
     },
     "metadata": {},
     "output_type": "display_data"
    },
    {
     "data": {
      "text/markdown": [
       "**Topic 10**: thank, diagnosis, asperger, services, school, medication, behavior, toilet, development, needs"
      ],
      "text/plain": [
       "<IPython.core.display.Markdown object>"
      ]
     },
     "metadata": {},
     "output_type": "display_data"
    },
    {
     "data": {
      "text/markdown": [
       "**Topic 5**: sensory, http, asperger, www, pediatrics, org, autistic, thank, com, aspergers"
      ],
      "text/plain": [
       "<IPython.core.display.Markdown object>"
      ]
     },
     "metadata": {},
     "output_type": "display_data"
    },
    {
     "data": {
      "text/markdown": [
       "**Topic 6**: http, recommendations, pediatrics, treatment, org, area, development, www, services, diagnosis"
      ],
      "text/plain": [
       "<IPython.core.display.Markdown object>"
      ]
     },
     "metadata": {},
     "output_type": "display_data"
    }
   ],
   "source": [
    "printmd(\"**Topics most present in articles**\")\n",
    "print_topics(topic_presence_articles)\n",
    "printmd(\"**Topics most present in forums**\")\n",
    "print_topics(topic_presence_forums)"
   ]
  },
  {
   "cell_type": "code",
   "execution_count": null,
   "metadata": {
    "collapsed": true
   },
   "outputs": [],
   "source": []
  }
 ],
 "metadata": {
  "kernelspec": {
   "display_name": "Python 3",
   "language": "python",
   "name": "python3"
  },
  "language_info": {
   "codemirror_mode": {
    "name": "ipython",
    "version": 3
   },
   "file_extension": ".py",
   "mimetype": "text/x-python",
   "name": "python",
   "nbconvert_exporter": "python",
   "pygments_lexer": "ipython3",
   "version": "3.6.1"
  }
 },
 "nbformat": 4,
 "nbformat_minor": 2
}
