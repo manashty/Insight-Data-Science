{
 "cells": [
  {
   "cell_type": "code",
   "execution_count": 1,
   "metadata": {
    "collapsed": true
   },
   "outputs": [],
   "source": [
    "import sys, os\n",
    "import nltk\n",
    "import pandas as pd"
   ]
  },
  {
   "cell_type": "code",
   "execution_count": 2,
   "metadata": {
    "collapsed": true
   },
   "outputs": [],
   "source": [
    "from collections import defaultdict\n",
    "from gensim import corpora, models, similarities\n",
    "def make_dictionary(documents):\n",
    "    \"\"\"\n",
    "    construct a dictionary, i.e. mapping btwn word ids and their freq of occurence in the whole corpus\n",
    "    filter dictionary to remove stopwords and words occuring < min_count times\n",
    "    \n",
    "    input: documents is an iterable consisting of all the words in the corpus \n",
    "    output: filtered dictionary\n",
    "    \"\"\"\n",
    "\n",
    "    \n",
    "    dictionary = corpora.Dictionary(documents)\n",
    "\n",
    "    stop_words = nltk.corpus.stopwords.words('english') \n",
    "    min_count = 2\n",
    "    stop_ids = [dictionary.token2id[word] for word in stop_words\n",
    "               if word in dictionary.token2id]\n",
    "    rare_ids = [id for id, freq in dictionary.dfs.items()\n",
    "                if freq < min_count]\n",
    "    dictionary.filter_tokens(stop_ids + rare_ids)\n",
    "    dictionary.compactify()\n",
    "    return(dictionary)\n",
    "\n",
    "def make_corpus(documents):\n",
    "    \"\"\"\n",
    "    \"\"\"\n",
    "    dictionary = make_dictionary(documents)\n",
    "    # convert corpus to vectors using bag-of-words representation, i.e. tuples of word indices and word counts\n",
    "    corpus = [dictionary.doc2bow(words) for words in documents]\n",
    "    return(corpus, dictionary)\n",
    "\n",
    "def make_lsi_similarity_matrix(tfidf_corpus, dictionary):\n",
    "    \"\"\"\n",
    "    construct LSI (latent semantic indexing) model on Tfidf-transformed corpus, print model topics, \n",
    "    return similarity matrix.\n",
    "    \"\"\"\n",
    "    # construct model\n",
    "    lsi = models.lsimodel.LsiModel(tfidf_corpus, id2word=dictionary, num_topics=300) \n",
    "    lsi.save('lsi-model.save')\n",
    "    # create similarity matrix\n",
    "    matsim = similarities.MatrixSimilarity(lsi[tfidf_corpus], num_best=1000)\n",
    "    return(matsim)\n",
    "\n",
    "def make_lda_similarity_matrix(corpus, dictionary):\n",
    "    \"\"\"\n",
    "    Latent Dirichlet Allocation (LDA) model\n",
    "    \"\"\"\n",
    "    # construct model\n",
    "    lda = models.ldamodel.LdaModel(corpus, id2word=dictionary, num_topics=300)\n",
    "    lda.save('lda-model.save')\n",
    "    # create similarity matrix\n",
    "    matsim = similarities.MatrixSimilarity(lda[corpus], num_best=1000)\n",
    "    return(matsim)"
   ]
  },
  {
   "cell_type": "code",
   "execution_count": 3,
   "metadata": {
    "collapsed": true
   },
   "outputs": [],
   "source": [
    "# Read database of data\n",
    "os.chdir('../data')\n",
    "\n",
    "output_fname=\"articles-n-forums-posts.csv\"\n",
    "\n",
    "# Read articles from file\n",
    "input_fname=\"AutismParentMagazine-posts.csv\"\n",
    "df=pd.read_csv(input_fname,index_col=0)\n",
    "df.head(2)\n",
    "df.index.name='post id'\n",
    "\n"
   ]
  },
  {
   "cell_type": "code",
   "execution_count": 4,
   "metadata": {},
   "outputs": [
    {
     "data": {
      "text/html": [
       "<div>\n",
       "<style>\n",
       "    .dataframe thead tr:only-child th {\n",
       "        text-align: right;\n",
       "    }\n",
       "\n",
       "    .dataframe thead th {\n",
       "        text-align: left;\n",
       "    }\n",
       "\n",
       "    .dataframe tbody tr th {\n",
       "        vertical-align: top;\n",
       "    }\n",
       "</style>\n",
       "<table border=\"1\" class=\"dataframe\">\n",
       "  <thead>\n",
       "    <tr style=\"text-align: right;\">\n",
       "      <th></th>\n",
       "      <th>title</th>\n",
       "      <th>text</th>\n",
       "      <th>href</th>\n",
       "      <th>source</th>\n",
       "      <th>category</th>\n",
       "    </tr>\n",
       "    <tr>\n",
       "      <th>post id</th>\n",
       "      <th></th>\n",
       "      <th></th>\n",
       "      <th></th>\n",
       "      <th></th>\n",
       "      <th></th>\n",
       "    </tr>\n",
       "  </thead>\n",
       "  <tbody>\n",
       "    <tr>\n",
       "      <th>1</th>\n",
       "      <td>Inappropriate Masterbation Down Syndrome</td>\n",
       "      <td>\\n        It is common for children and adoles...</td>\n",
       "      <td>http://www.medhelp.org//posts/Autism--Asperger...</td>\n",
       "      <td>http://www.medhelp.org</td>\n",
       "      <td>forums</td>\n",
       "    </tr>\n",
       "    <tr>\n",
       "      <th>2</th>\n",
       "      <td>Inappropriate Masterbation Down Syndrome</td>\n",
       "      <td>\\n        A related discussion, self injusry i...</td>\n",
       "      <td>http://www.medhelp.org//posts/Autism--Asperger...</td>\n",
       "      <td>http://www.medhelp.org</td>\n",
       "      <td>forums</td>\n",
       "    </tr>\n",
       "  </tbody>\n",
       "</table>\n",
       "</div>"
      ],
      "text/plain": [
       "                                            title  \\\n",
       "post id                                             \n",
       "1        Inappropriate Masterbation Down Syndrome   \n",
       "2        Inappropriate Masterbation Down Syndrome   \n",
       "\n",
       "                                                      text  \\\n",
       "post id                                                      \n",
       "1        \\n        It is common for children and adoles...   \n",
       "2        \\n        A related discussion, self injusry i...   \n",
       "\n",
       "                                                      href  \\\n",
       "post id                                                      \n",
       "1        http://www.medhelp.org//posts/Autism--Asperger...   \n",
       "2        http://www.medhelp.org//posts/Autism--Asperger...   \n",
       "\n",
       "                         source category  \n",
       "post id                                   \n",
       "1        http://www.medhelp.org   forums  \n",
       "2        http://www.medhelp.org   forums  "
      ]
     },
     "execution_count": 4,
     "metadata": {},
     "output_type": "execute_result"
    }
   ],
   "source": [
    "input_fname=\"MedHelp-posts.csv\"\n",
    "df2=pd.read_csv(input_fname,index_col=0)\n",
    "del df2['user id']\n",
    "del df2['mother post id']\n",
    "df2['source']='http://www.medhelp.org'\n",
    "df2['category']='forums'\n",
    "df2.head(2)"
   ]
  },
  {
   "cell_type": "code",
   "execution_count": 5,
   "metadata": {
    "collapsed": true
   },
   "outputs": [],
   "source": [
    "# Join datasets\n",
    "df=df.append(df2,ignore_index=True)"
   ]
  },
  {
   "cell_type": "code",
   "execution_count": 6,
   "metadata": {
    "collapsed": true
   },
   "outputs": [],
   "source": [
    "# Join the two very similar categories into one.\n",
    "cat1='category-autism-articles'\n",
    "cat2='category-general'\n",
    "\n",
    "row_index=df.loc[df['category']==cat1].index\n",
    "for row in row_index:\n",
    "    df.loc[row,['category']]=cat2\n"
   ]
  },
  {
   "cell_type": "code",
   "execution_count": 7,
   "metadata": {
    "collapsed": true
   },
   "outputs": [],
   "source": [
    "# Check if there are repeated elements, and make category a list.\n",
    "df=df.drop_duplicates()\n",
    "df=df.reset_index(drop=True)"
   ]
  },
  {
   "cell_type": "code",
   "execution_count": 8,
   "metadata": {},
   "outputs": [
    {
     "name": "stdout",
     "output_type": "stream",
     "text": [
      "Title Autism\n",
      "['category-general' 'forums']\n",
      "Title Autism\n",
      "['category-general' 'forums']\n",
      "Title Autism\n",
      "['category-general' 'forums']\n",
      "Title Autism\n",
      "['category-general' 'forums']\n",
      "Title Autism\n",
      "['category-general' 'forums']\n",
      "Title Autism\n",
      "['category-general' 'forums']\n",
      "Title Autism\n",
      "['category-general' 'forums']\n"
     ]
    }
   ],
   "source": [
    "# Are there articles in several categories?\n",
    "for ii in df.index:\n",
    "    title=df.loc[ii,['title']].values[0]\n",
    "    rows=df.loc[df['title'] == title]\n",
    "    ncategory=len(pd.unique(rows['category']))\n",
    "    if ncategory > 1 :\n",
    "        print(\"Title {}\".format(title))\n",
    "        print(pd.unique(rows['category']))"
   ]
  },
  {
   "cell_type": "code",
   "execution_count": 9,
   "metadata": {},
   "outputs": [
    {
     "data": {
      "text/html": [
       "<div>\n",
       "<style>\n",
       "    .dataframe thead tr:only-child th {\n",
       "        text-align: right;\n",
       "    }\n",
       "\n",
       "    .dataframe thead th {\n",
       "        text-align: left;\n",
       "    }\n",
       "\n",
       "    .dataframe tbody tr th {\n",
       "        vertical-align: top;\n",
       "    }\n",
       "</style>\n",
       "<table border=\"1\" class=\"dataframe\">\n",
       "  <thead>\n",
       "    <tr style=\"text-align: right;\">\n",
       "      <th></th>\n",
       "      <th>category</th>\n",
       "      <th>href</th>\n",
       "      <th>source</th>\n",
       "      <th>text</th>\n",
       "      <th>title</th>\n",
       "    </tr>\n",
       "  </thead>\n",
       "  <tbody>\n",
       "    <tr>\n",
       "      <th>0</th>\n",
       "      <td>category-applied-behavior-analysis-aba</td>\n",
       "      <td>https://www.autismparentingmagazine.com/autism...</td>\n",
       "      <td>https://www.autismparentingmagazine.com/</td>\n",
       "      <td>For children with autism spectrum disorder (AS...</td>\n",
       "      <td>Autism, Head Banging and other Self Harming Be...</td>\n",
       "    </tr>\n",
       "    <tr>\n",
       "      <th>1</th>\n",
       "      <td>category-applied-behavior-analysis-aba</td>\n",
       "      <td>https://www.autismparentingmagazine.com/high-q...</td>\n",
       "      <td>https://www.autismparentingmagazine.com/</td>\n",
       "      <td>Dr. Stephen Shore once said “If you’ve met one...</td>\n",
       "      <td>High Quality ABA Treatment:  What Every Parent...</td>\n",
       "    </tr>\n",
       "  </tbody>\n",
       "</table>\n",
       "</div>"
      ],
      "text/plain": [
       "                                 category  \\\n",
       "0  category-applied-behavior-analysis-aba   \n",
       "1  category-applied-behavior-analysis-aba   \n",
       "\n",
       "                                                href  \\\n",
       "0  https://www.autismparentingmagazine.com/autism...   \n",
       "1  https://www.autismparentingmagazine.com/high-q...   \n",
       "\n",
       "                                     source  \\\n",
       "0  https://www.autismparentingmagazine.com/   \n",
       "1  https://www.autismparentingmagazine.com/   \n",
       "\n",
       "                                                text  \\\n",
       "0  For children with autism spectrum disorder (AS...   \n",
       "1  Dr. Stephen Shore once said “If you’ve met one...   \n",
       "\n",
       "                                               title  \n",
       "0  Autism, Head Banging and other Self Harming Be...  \n",
       "1  High Quality ABA Treatment:  What Every Parent...  "
      ]
     },
     "execution_count": 9,
     "metadata": {},
     "output_type": "execute_result"
    }
   ],
   "source": [
    "df.head(2)"
   ]
  },
  {
   "cell_type": "code",
   "execution_count": 10,
   "metadata": {},
   "outputs": [
    {
     "name": "stdout",
     "output_type": "stream",
     "text": [
      "for children with autism spectrum disorder (asd), head banging is a common way to self-soothe and communicate needs. both neurotypical and autistic babies and toddlers seek to recreate the rhythm that stimulated their vestibular system while in utero. other rhythmic habits that fuel a child’s kinesthetic drive include head rolling, body rocking, biting, and thumb… continue reading\n",
      "\n",
      "['for', 'children', 'with', 'autism', 'spectrum', 'disorder', 'asd', 'head', 'banging', 'is', 'a', 'common', 'way', 'to', 'self', 'soothe', 'and', 'communicate', 'needs', 'both', 'neurotypical', 'and', 'autistic', 'babies', 'and', 'toddlers', 'seek', 'to', 'recreate', 'the', 'rhythm', 'that', 'stimulated', 'their', 'vestibular', 'system', 'while', 'in', 'utero', 'other', 'rhythmic', 'habits', 'that', 'fuel', 'a', 'child', 's', 'kinesthetic', 'drive', 'include', 'head', 'rolling', 'body', 'rocking', 'biting', 'and', 'thumb', 'continue', 'reading']\n"
     ]
    }
   ],
   "source": [
    "# Tokenize data\n",
    "import nltk\n",
    "tokenizer = nltk.RegexpTokenizer(r'\\w+')\n",
    "\n",
    "# Get list of tokens from text in first article:\n",
    "text = df['text'][0].lower()\n",
    "ttext = tokenizer.tokenize(text)\n",
    "print( text )\n",
    "print( ttext )"
   ]
  },
  {
   "cell_type": "code",
   "execution_count": 11,
   "metadata": {
    "collapsed": true
   },
   "outputs": [],
   "source": [
    "# Get a column with list of tokens:\n",
    "\n",
    "# 1) convert to lower case \n",
    "# 2) get tokens\n",
    "# 2) save data in a new column (tokens)\n",
    "df['tokens'] = df['text'].map(lambda x: tokenizer.tokenize(x.lower()))\n",
    "df['tokens'].head(5)\n",
    "\n",
    "# Save dataframe with tokens into files\n",
    "df.to_csv(output_fname)"
   ]
  },
  {
   "cell_type": "code",
   "execution_count": 12,
   "metadata": {},
   "outputs": [
    {
     "name": "stdout",
     "output_type": "stream",
     "text": [
      "[ ['for', 'children', 'with', 'autism', 'spectrum', 'disorder', 'asd', 'head', 'banging', 'is', 'a', 'common', 'way', 'to', 'self', 'soothe', 'and', 'communicate', 'needs', 'both', 'neurotypical', 'and', 'autistic', 'babies', 'and', 'toddlers', 'seek', 'to', 'recreate', 'the', 'rhythm', 'that', 'stimulated', 'their', 'vestibular', 'system', 'while', 'in', 'utero', 'other', 'rhythmic', 'habits', 'that', 'fuel', 'a', 'child', 's', 'kinesthetic', 'drive', 'include', 'head', 'rolling', 'body', 'rocking', 'biting', 'and', 'thumb', 'continue', 'reading']\n",
      " ['dr', 'stephen', 'shore', 'once', 'said', 'if', 'you', 've', 'met', 'one', 'person', 'with', 'autism', 'you', 've', 'met', 'one', 'person', 'with', 'autism', 'as', 'many', 'of', 'you', 'know', 'the', 'centre', 'for', 'disease', 'control', 'and', 'prevention', 'reports', 'that', 'there', 'are', 'now', '1', 'in', '68', 'children', 'living', 'with', 'autism', 'in', 'the', 'united', 'states', 'what', 'this', 'means', 'for', 'each', 'child', 'and', 'his', 'her', 'family', 'continue', 'reading']\n",
      " ['help', 'i', 'am', 'going', 'to', 'be', 'starting', 'applied', 'behavior', 'analysis', 'for', 'my', 'son', 'who', 'has', 'autism', 'can', 'you', 'tell', 'me', 'things', 'to', 'ask', 'and', 'what', 'to', 'look', 'for', 'in', 'an', 'aba', 'provider', 'jane', 'i', 'am', 'so', 'glad', 'you', 'asked', 'this', 'within', 'the', 'autism', 'community', 'there', 'are', 'mixed', 'feelings', 'about', 'applied', 'behavior', 'analysis', 'aba', 'but', 'continue', 'reading']]\n"
     ]
    }
   ],
   "source": [
    "# Get similarity matrices\n",
    "documents = df['tokens'].values\n",
    "print(documents[:3])\n",
    "corpus,dictionary = make_corpus(documents)\n",
    "\n",
    "#Save corpus into file\n",
    "import pickle\n",
    "pickle.dump(dictionary,open(\"dictionary.save\",\"wb\"))\n",
    "pickle.dump(corpus,open(\"corpus.save\", \"wb\"))\n",
    "\n",
    "tfidf = models.TfidfModel(corpus)\n",
    "tfidf.save('tfidf.save')\n",
    "\n",
    "lsi_matsim = make_lsi_similarity_matrix(tfidf[corpus], dictionary)\n",
    "lda_matsim = make_lda_similarity_matrix(corpus, dictionary)\n",
    "\n",
    "# The models are saved into files in the above routines\n",
    "# Save similarity matrices too:\n",
    "pickle.dump(lsi_matsim,open(\"lsi-matsim.save\",\"wb\"))\n",
    "pickle.dump(lda_matsim,open(\"lda-matsim.save\",\"wb\"))"
   ]
  },
  {
   "cell_type": "code",
   "execution_count": null,
   "metadata": {
    "collapsed": true
   },
   "outputs": [],
   "source": []
  }
 ],
 "metadata": {
  "kernelspec": {
   "display_name": "Python 3",
   "language": "python",
   "name": "python3"
  },
  "language_info": {
   "codemirror_mode": {
    "name": "ipython",
    "version": 3
   },
   "file_extension": ".py",
   "mimetype": "text/x-python",
   "name": "python",
   "nbconvert_exporter": "python",
   "pygments_lexer": "ipython3",
   "version": "3.6.1"
  }
 },
 "nbformat": 4,
 "nbformat_minor": 2
}
