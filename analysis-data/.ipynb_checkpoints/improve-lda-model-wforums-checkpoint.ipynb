{
 "cells": [
  {
   "cell_type": "markdown",
   "metadata": {},
   "source": [
    "Here I add forums and articles posts.   \n",
    "This follows the same steps as the previous notebook (improve-lda-model.ipynb)"
   ]
  },
  {
   "cell_type": "code",
   "execution_count": 1,
   "metadata": {
    "collapsed": true
   },
   "outputs": [],
   "source": [
    "import pandas as pd\n",
    "import os\n",
    "import numpy as np\n",
    "from gensim import corpora, models, similarities\n",
    "from gensim import models\n",
    "\n",
    "from nlp_models import make_corpus,\\\n",
    "make_lsi_similarity_matrix,make_lda_similarity_matrix\n",
    "#,get_model_score_wforums"
   ]
  },
  {
   "cell_type": "code",
   "execution_count": 2,
   "metadata": {
    "collapsed": true
   },
   "outputs": [],
   "source": [
    "def get_model_score_wforums(ids,matsim,categories,titles):\n",
    "    \"\"\" Function to evalate the score for a given model, following the equation defined in validate_model.ipynb \"\"\"\n",
    "    num_predictions=3\n",
    "    model_score=0\n",
    "    N=0\n",
    "    for id,doc in zip(ids,matsim.index):\n",
    "        sims=matsim[doc]\n",
    "        category1=eval(categories[id])\n",
    "        title1=titles[id]\n",
    "        if 'forums' in category1:\n",
    "            continue\n",
    "        i_pred=0\n",
    "        for other_id,score in sims:\n",
    "\n",
    "            #print(\"ID {} OTHER_ID {} SCORE {}\".format(id,other_id,score))\n",
    "            category2=eval(categories[other_id])\n",
    "            title2=titles[other_id]\n",
    "            if 'forums' in category2:\n",
    "                continue\n",
    "\n",
    "            # Remove categories which are too general for this test:\n",
    "            cats_to_remove=['category-magazine-issues','category-general',\n",
    "                            'category-autism-books','category-podcast','category-autism-news',\n",
    "                            'category-personal-narrative','autism_advocacy']\n",
    "\n",
    "            for cat in cats_to_remove:\n",
    "                category1=set(category1)\n",
    "                if cat in category1:\n",
    "                    category1.remove(cat)\n",
    "                category2=set(category2)\n",
    "                if cat in category2:\n",
    "                    category2.remove(cat)\n",
    "            \n",
    "            if (len(category1) == 0) | (len(category2) == 0):\n",
    "                continue\n",
    "            # Remove also 'magazine issues' are these are general articles:\n",
    "                \n",
    "            if id != other_id:\n",
    "                i_pred=i_pred+1\n",
    "\n",
    "                if i_pred ==  num_predictions+1 :\n",
    "                    break\n",
    "                #print(\"title1 {}\\n title2{}\".format(title1,title2))\n",
    "                #print(\"ID {} category{} \\n ID {} category {}, score {}\".format(id,category1,other_id,category2,score))\n",
    "                N=N+1\n",
    "                if any( x in category2 for x in category1):\n",
    "                    model_score+=1\n",
    "                #else:\n",
    "                #    print(\"ID {} category{} \\n ID {} category {}, score {}\".format(id,category1,other_id,category2,score))\n",
    "                #print(\"model_score {}, N {}\".format(model_score,N))\n",
    "    model_score=model_score/N\n",
    "    return model_score\n"
   ]
  },
  {
   "cell_type": "code",
   "execution_count": 3,
   "metadata": {
    "collapsed": true
   },
   "outputs": [],
   "source": [
    "# Set up paths/ os\n",
    "import os\n",
    "import sys\n",
    "\n",
    "this_path=os.getcwd()\n",
    "os.chdir(\"../data\")\n",
    "sys.path.insert(0, this_path)"
   ]
  },
  {
   "cell_type": "code",
   "execution_count": 4,
   "metadata": {},
   "outputs": [
    {
     "data": {
      "text/html": [
       "<div>\n",
       "<style>\n",
       "    .dataframe thead tr:only-child th {\n",
       "        text-align: right;\n",
       "    }\n",
       "\n",
       "    .dataframe thead th {\n",
       "        text-align: left;\n",
       "    }\n",
       "\n",
       "    .dataframe tbody tr th {\n",
       "        vertical-align: top;\n",
       "    }\n",
       "</style>\n",
       "<table border=\"1\" class=\"dataframe\">\n",
       "  <thead>\n",
       "    <tr style=\"text-align: right;\">\n",
       "      <th></th>\n",
       "      <th>category</th>\n",
       "      <th>href</th>\n",
       "      <th>source</th>\n",
       "      <th>text</th>\n",
       "      <th>title</th>\n",
       "      <th>tokens</th>\n",
       "    </tr>\n",
       "  </thead>\n",
       "  <tbody>\n",
       "    <tr>\n",
       "      <th>0</th>\n",
       "      <td>['category-autism-therapy']</td>\n",
       "      <td>https://www.autismparentingmagazine.com/autism...</td>\n",
       "      <td>https://www.autismparentingmagazine.com/</td>\n",
       "      <td>For children with autism spectrum disorder (AS...</td>\n",
       "      <td>Autism, Head Banging and other Self Harming Be...</td>\n",
       "      <td>['for', 'children', 'with', 'autism', 'spectru...</td>\n",
       "    </tr>\n",
       "    <tr>\n",
       "      <th>1</th>\n",
       "      <td>['category-autism-therapy']</td>\n",
       "      <td>https://www.autismparentingmagazine.com/high-q...</td>\n",
       "      <td>https://www.autismparentingmagazine.com/</td>\n",
       "      <td>Dr. Stephen Shore once said “If you’ve met one...</td>\n",
       "      <td>High Quality ABA Treatment:  What Every Parent...</td>\n",
       "      <td>['dr', 'stephen', 'shore', 'once', 'said', 'if...</td>\n",
       "    </tr>\n",
       "  </tbody>\n",
       "</table>\n",
       "</div>"
      ],
      "text/plain": [
       "                      category  \\\n",
       "0  ['category-autism-therapy']   \n",
       "1  ['category-autism-therapy']   \n",
       "\n",
       "                                                href  \\\n",
       "0  https://www.autismparentingmagazine.com/autism...   \n",
       "1  https://www.autismparentingmagazine.com/high-q...   \n",
       "\n",
       "                                     source  \\\n",
       "0  https://www.autismparentingmagazine.com/   \n",
       "1  https://www.autismparentingmagazine.com/   \n",
       "\n",
       "                                                text  \\\n",
       "0  For children with autism spectrum disorder (AS...   \n",
       "1  Dr. Stephen Shore once said “If you’ve met one...   \n",
       "\n",
       "                                               title  \\\n",
       "0  Autism, Head Banging and other Self Harming Be...   \n",
       "1  High Quality ABA Treatment:  What Every Parent...   \n",
       "\n",
       "                                              tokens  \n",
       "0  ['for', 'children', 'with', 'autism', 'spectru...  \n",
       "1  ['dr', 'stephen', 'shore', 'once', 'said', 'if...  "
      ]
     },
     "execution_count": 4,
     "metadata": {},
     "output_type": "execute_result"
    }
   ],
   "source": [
    "\n",
    "# Read dataframe\n",
    "#input_fname=\"AutismParentMagazine-posts-tokens.csv\"\n",
    "input_fname=\"articles-n-forums-posts.csv\"\n",
    "\n",
    "\n",
    "# Get categories and ids from dataset\n",
    "df = pd.read_csv(input_fname,index_col=0)\n",
    "\n",
    "df.head(2)"
   ]
  },
  {
   "cell_type": "code",
   "execution_count": 5,
   "metadata": {
    "collapsed": true
   },
   "outputs": [],
   "source": [
    "# Extract series from df:\n",
    "categories=df['category']\n",
    "titles=df['title']\n",
    "ids=df.index"
   ]
  },
  {
   "cell_type": "code",
   "execution_count": 6,
   "metadata": {
    "collapsed": true
   },
   "outputs": [],
   "source": [
    "from ast import literal_eval  \n",
    "\n",
    "# Get similarity matrices\n",
    "documents = df['tokens'].values\n",
    "for idoc in range(len(documents)):\n",
    "    documents[idoc]=literal_eval(str(documents[idoc]))\n",
    "\n"
   ]
  },
  {
   "cell_type": "code",
   "execution_count": 7,
   "metadata": {
    "collapsed": true
   },
   "outputs": [],
   "source": [
    "corpus,dictionary = make_corpus(documents)\n",
    "\n",
    "tfidf = models.TfidfModel(corpus)\n",
    "\n"
   ]
  },
  {
   "cell_type": "code",
   "execution_count": 8,
   "metadata": {},
   "outputs": [
    {
     "name": "stdout",
     "output_type": "stream",
     "text": [
      "LSI model\n",
      "N. topics 100, score 0.37333333333333335\n"
     ]
    }
   ],
   "source": [
    "print(\"LSI model\")\n",
    "\n",
    "for num_topics in range(100,200,100):\n",
    "    matsim,lsi = make_lsi_similarity_matrix(tfidf[corpus], dictionary, num_topics)\n",
    "    model_score= get_model_score_wforums(ids,matsim,categories,titles)\n",
    "    print(\"N. topics {}, score {}\".format(num_topics,model_score))\n"
   ]
  },
  {
   "cell_type": "code",
   "execution_count": 9,
   "metadata": {},
   "outputs": [
    {
     "name": "stdout",
     "output_type": "stream",
     "text": [
      "N. topics 10, score 0.2835820895522388\n",
      "N. topics 20, score 0.38636363636363635\n",
      "N. topics 30, score 0.3076923076923077\n",
      "N. topics 40, score 0.3617021276595745\n",
      "N. topics 50, score 0.25\n",
      "N. topics 60, score 0.2727272727272727\n",
      "N. topics 70, score 0.375\n",
      "N. topics 80, score 0.6\n",
      "N. topics 90, score 0.2\n",
      "N. topics 100, score 0.14285714285714285\n",
      "N. topics 110, score 0.11764705882352941\n",
      "N. topics 120, score 0.42857142857142855\n",
      "N. topics 130, score 0.1\n",
      "N. topics 140, score 0.0\n",
      "N. topics 150, score 0.75\n",
      "N. topics 160, score 0.16666666666666666\n",
      "N. topics 170, score 0.5555555555555556\n",
      "N. topics 180, score 0.6666666666666666\n",
      "N. topics 190, score 0.47368421052631576\n"
     ]
    }
   ],
   "source": [
    "num_iter=500\n",
    "x=[]\n",
    "y=[]\n",
    "for num_topics in range(10,200,10):\n",
    "    matsim,lda = make_lda_similarity_matrix(corpus, dictionary,num_topics,num_iter)\n",
    "    model_score= get_model_score_wforums(ids,matsim,categories,titles)\n",
    "    print(\"N. topics {}, score {}\".format(num_topics,model_score))\n",
    "    x.append(num_topics)\n",
    "    y.append(model_score)\n"
   ]
  },
  {
   "cell_type": "code",
   "execution_count": 10,
   "metadata": {
    "collapsed": true
   },
   "outputs": [],
   "source": [
    "import matplotlib.pyplot as plt\n",
    "import seaborn as sns\n",
    "import matplotlib.mlab as mlab\n",
    "from matplotlib import gridspec\n",
    "from scipy.stats import norm\n",
    "from scipy.optimize import curve_fit\n",
    "from lognormal import lognormal, lognormal_stats\n",
    "import numpy as np"
   ]
  },
  {
   "cell_type": "code",
   "execution_count": 11,
   "metadata": {},
   "outputs": [
    {
     "data": {
      "image/png": "[encoded data removed]",
      "text/plain": [
       "<matplotlib.figure.Figure at 0x1206adc18>"
      ]
     },
     "metadata": {},
     "output_type": "display_data"
    }
   ],
   "source": [
    "plt.rcParams['text.usetex'] = True\n",
    "plt.rcParams['text.latex.unicode'] = True\n",
    "\n",
    "plt.rcParams.update({'font.size': 24})\n",
    "label_size = 18\n",
    "plt.rcParams['xtick.labelsize'] = label_size \n",
    "plt.rcParams['ytick.labelsize'] = label_size \n",
    "\n",
    "\n",
    "fig = plt.figure()\n",
    "#plt.subplots_adjust(left=0.2,right=1.0,bottom=0.17,top=0.9)\n",
    "fig.set_size_inches(6,6)\n",
    "\n",
    "\n",
    "#plt.suptitle('Readability score')\n",
    "#fig.text(0.04,0.5,'Distribution',va='center',rotation='vertical')\n",
    "#fig.text(0.4,0.04,'Readability score',va='center')\n",
    "\n",
    "plt.xlabel('N. topics',fontsize=label_size)\n",
    "plt.ylabel('Score',fontsize=label_size)\n",
    "\n",
    "\n",
    "plt.plot(x, y)\n",
    "\n",
    "plt.show()"
   ]
  },
  {
   "cell_type": "code",
   "execution_count": null,
   "metadata": {
    "collapsed": true
   },
   "outputs": [],
   "source": []
  }
 ],
 "metadata": {
  "kernelspec": {
   "display_name": "Python 3",
   "language": "python",
   "name": "python3"
  },
  "language_info": {
   "codemirror_mode": {
    "name": "ipython",
    "version": 3
   },
   "file_extension": ".py",
   "mimetype": "text/x-python",
   "name": "python",
   "nbconvert_exporter": "python",
   "pygments_lexer": "ipython3",
   "version": "3.6.1"
  }
 },
 "nbformat": 4,
 "nbformat_minor": 2
}
