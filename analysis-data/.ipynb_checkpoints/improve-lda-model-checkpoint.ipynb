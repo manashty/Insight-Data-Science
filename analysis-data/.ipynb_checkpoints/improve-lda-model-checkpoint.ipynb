{
 "cells": [
  {
   "cell_type": "code",
   "execution_count": 1,
   "metadata": {
    "collapsed": true
   },
   "outputs": [],
   "source": [
    "import pandas as pd\n",
    "import os\n",
    "import numpy as np\n",
    "from gensim import corpora, models, similarities\n",
    "from gensim import models\n",
    "\n",
    "from nlp_models import get_model_score,make_corpus,\\\n",
    "make_lsi_similarity_matrix,make_lda_similarity_matrix\n"
   ]
  },
  {
   "cell_type": "code",
   "execution_count": 2,
   "metadata": {
    "collapsed": true
   },
   "outputs": [],
   "source": [
    "# Set up paths/ os\n",
    "import os\n",
    "import sys\n",
    "\n",
    "this_path=os.getcwd()\n",
    "os.chdir(\"../data\")\n",
    "sys.path.insert(0, this_path)"
   ]
  },
  {
   "cell_type": "code",
   "execution_count": 3,
   "metadata": {},
   "outputs": [
    {
     "data": {
      "text/html": [
       "<div>\n",
       "<style>\n",
       "    .dataframe thead tr:only-child th {\n",
       "        text-align: right;\n",
       "    }\n",
       "\n",
       "    .dataframe thead th {\n",
       "        text-align: left;\n",
       "    }\n",
       "\n",
       "    .dataframe tbody tr th {\n",
       "        vertical-align: top;\n",
       "    }\n",
       "</style>\n",
       "<table border=\"1\" class=\"dataframe\">\n",
       "  <thead>\n",
       "    <tr style=\"text-align: right;\">\n",
       "      <th></th>\n",
       "      <th>title</th>\n",
       "      <th>source</th>\n",
       "      <th>category</th>\n",
       "      <th>text</th>\n",
       "      <th>href</th>\n",
       "      <th>tokens</th>\n",
       "    </tr>\n",
       "  </thead>\n",
       "  <tbody>\n",
       "    <tr>\n",
       "      <th>0</th>\n",
       "      <td>Autism, Head Banging and other Self Harming Be...</td>\n",
       "      <td>https://www.autismparentingmagazine.com/</td>\n",
       "      <td>category-applied-behavior-analysis-aba</td>\n",
       "      <td>For children with autism spectrum disorder (AS...</td>\n",
       "      <td>https://www.autismparentingmagazine.com/autism...</td>\n",
       "      <td>['for', 'children', 'with', 'autism', 'spectru...</td>\n",
       "    </tr>\n",
       "    <tr>\n",
       "      <th>1</th>\n",
       "      <td>High Quality ABA Treatment:  What Every Parent...</td>\n",
       "      <td>https://www.autismparentingmagazine.com/</td>\n",
       "      <td>category-applied-behavior-analysis-aba</td>\n",
       "      <td>Dr. Stephen Shore once said “If you’ve met one...</td>\n",
       "      <td>https://www.autismparentingmagazine.com/high-q...</td>\n",
       "      <td>['dr', 'stephen', 'shore', 'once', 'said', 'if...</td>\n",
       "    </tr>\n",
       "  </tbody>\n",
       "</table>\n",
       "</div>"
      ],
      "text/plain": [
       "                                               title  \\\n",
       "0  Autism, Head Banging and other Self Harming Be...   \n",
       "1  High Quality ABA Treatment:  What Every Parent...   \n",
       "\n",
       "                                     source  \\\n",
       "0  https://www.autismparentingmagazine.com/   \n",
       "1  https://www.autismparentingmagazine.com/   \n",
       "\n",
       "                                 category  \\\n",
       "0  category-applied-behavior-analysis-aba   \n",
       "1  category-applied-behavior-analysis-aba   \n",
       "\n",
       "                                                text  \\\n",
       "0  For children with autism spectrum disorder (AS...   \n",
       "1  Dr. Stephen Shore once said “If you’ve met one...   \n",
       "\n",
       "                                                href  \\\n",
       "0  https://www.autismparentingmagazine.com/autism...   \n",
       "1  https://www.autismparentingmagazine.com/high-q...   \n",
       "\n",
       "                                              tokens  \n",
       "0  ['for', 'children', 'with', 'autism', 'spectru...  \n",
       "1  ['dr', 'stephen', 'shore', 'once', 'said', 'if...  "
      ]
     },
     "execution_count": 3,
     "metadata": {},
     "output_type": "execute_result"
    }
   ],
   "source": [
    "\n",
    "# Read dataframe\n",
    "input_fname=\"AutismParentMagazine-posts-tokens.csv\"\n",
    "\n",
    "# Get categories and ids from dataset\n",
    "df = pd.read_csv(input_fname,index_col=0)\n",
    "\n",
    "# Check if there are repeated elements, and make category a list.\n",
    "df=df.drop_duplicates()\n",
    "df=df.reset_index(drop=True)\n",
    "df.head(2)"
   ]
  },
  {
   "cell_type": "code",
   "execution_count": 4,
   "metadata": {},
   "outputs": [
    {
     "name": "stdout",
     "output_type": "stream",
     "text": [
      "Title Autism\n",
      "['category-autism-articles' 'category-general']\n",
      "Title Autism\n",
      "['category-autism-articles' 'category-general']\n"
     ]
    }
   ],
   "source": [
    "# Are there articles in several categories?\n",
    "for ii in df.index:\n",
    "    title=df.loc[ii,['title']].values[0]\n",
    "    rows=df.loc[df['title'] == title]\n",
    "    ncategory=len(pd.unique(rows['category']))\n",
    "    if ncategory > 1 :\n",
    "        print(\"Title {}\".format(title))\n",
    "        print(pd.unique(rows['category']))\n"
   ]
  },
  {
   "cell_type": "markdown",
   "metadata": {},
   "source": [
    "Only one article is found into two categories, the two categories are very similar, so I better merge them."
   ]
  },
  {
   "cell_type": "code",
   "execution_count": 5,
   "metadata": {},
   "outputs": [],
   "source": [
    "# Join the two categories above into one.\n",
    "cat1='category-autism-articles'\n",
    "cat2='category-general'\n",
    "\n",
    "row_index=df.loc[df['category']==cat1].index\n",
    "for row in row_index:\n",
    "    df.loc[row,['category']]=cat2\n",
    "\n",
    "#df.loc[df['category']==cat2]"
   ]
  },
  {
   "cell_type": "code",
   "execution_count": 6,
   "metadata": {
    "collapsed": true
   },
   "outputs": [],
   "source": [
    "# Extract series from df:\n",
    "categories=df['category']\n",
    "ids=df.index"
   ]
  },
  {
   "cell_type": "code",
   "execution_count": 7,
   "metadata": {},
   "outputs": [],
   "source": [
    "from ast import literal_eval  \n",
    "\n",
    "# Get similarity matrices\n",
    "documents = df['tokens'].values\n",
    "for idoc in range(len(documents)):\n",
    "    documents[idoc]=literal_eval(str(documents[idoc]))\n",
    "\n"
   ]
  },
  {
   "cell_type": "code",
   "execution_count": 11,
   "metadata": {},
   "outputs": [
    {
     "name": "stdout",
     "output_type": "stream",
     "text": [
      "LSI model\n",
      "N. topics 100, score 0.6901408450704225\n",
      "N. topics 200, score 0.6901408450704225\n",
      "N. topics 300, score 0.6901408450704225\n",
      "N. topics 400, score 0.6901408450704225\n"
     ]
    }
   ],
   "source": [
    "corpus,dictionary = make_corpus(documents)\n",
    "\n",
    "\n",
    "tfidf = models.TfidfModel(corpus)\n",
    "#tfidf.save('tfidf.save')\n",
    "print(\"LSI model\")\n",
    "\n",
    "for num_topics in range(100,500,100):\n",
    "    matsim,lsi = make_lsi_similarity_matrix(tfidf[corpus], dictionary, num_topics)\n",
    "    model_score= get_model_score(ids,matsim,categories)\n",
    "    print(\"N. topics {}, score {}\".format(num_topics,model_score))\n",
    "\n",
    "\n",
    "\n"
   ]
  },
  {
   "cell_type": "code",
   "execution_count": 12,
   "metadata": {},
   "outputs": [
    {
     "name": "stdout",
     "output_type": "stream",
     "text": [
      "LDA model\n",
      "N. topics 100, score 0.4413145539906103\n",
      "N. topics 200, score 0.2269170579029734\n",
      "N. topics 300, score 0.215962441314554\n",
      "N. topics 400, score 0.13615023474178403\n"
     ]
    }
   ],
   "source": [
    "print(\"LDA model\")\n",
    "\n",
    "for num_topics in range(100,500,100):\n",
    "    matsim,lda = make_lda_similarity_matrix(corpus, dictionary,num_topics)\n",
    "    model_score= get_model_score(ids,matsim,categories)\n",
    "    print(\"N. topics {}, score {}\".format(num_topics,model_score))\n"
   ]
  },
  {
   "cell_type": "code",
   "execution_count": 13,
   "metadata": {},
   "outputs": [
    {
     "name": "stdout",
     "output_type": "stream",
     "text": [
      "N. topics 10, score 0.7151799687010955\n",
      "N. topics 20, score 0.6447574334898278\n",
      "N. topics 30, score 0.6791862284820032\n",
      "N. topics 40, score 0.6103286384976526\n",
      "N. topics 50, score 0.5837245696400626\n",
      "N. topics 60, score 0.5305164319248826\n",
      "N. topics 70, score 0.5054773082942097\n",
      "N. topics 80, score 0.46322378716744916\n",
      "N. topics 90, score 0.5117370892018779\n"
     ]
    }
   ],
   "source": [
    "for num_topics in range(10,100,10):\n",
    "    matsim,lda = make_lda_similarity_matrix(corpus, dictionary,num_topics)\n",
    "    model_score= get_model_score(ids,matsim,categories)\n",
    "    print(\"N. topics {}, score {}\".format(num_topics,model_score))\n"
   ]
  },
  {
   "cell_type": "code",
   "execution_count": 14,
   "metadata": {},
   "outputs": [
    {
     "name": "stdout",
     "output_type": "stream",
     "text": [
      "N. topics 2, score 0.5852895148669797\n",
      "N. topics 4, score 0.6901408450704225\n",
      "N. topics 6, score 0.7856025039123631\n",
      "N. topics 8, score 0.755868544600939\n"
     ]
    }
   ],
   "source": [
    "for num_topics in range(2,10,2):\n",
    "    matsim,lda = make_lda_similarity_matrix(corpus, dictionary,num_topics)\n",
    "    model_score= get_model_score(ids,matsim,categories)\n",
    "    print(\"N. topics {}, score {}\".format(num_topics,model_score))"
   ]
  },
  {
   "cell_type": "code",
   "execution_count": null,
   "metadata": {
    "collapsed": true
   },
   "outputs": [],
   "source": []
  }
 ],
 "metadata": {
  "kernelspec": {
   "display_name": "Python 3",
   "language": "python",
   "name": "python3"
  },
  "language_info": {
   "codemirror_mode": {
    "name": "ipython",
    "version": 3
   },
   "file_extension": ".py",
   "mimetype": "text/x-python",
   "name": "python",
   "nbconvert_exporter": "python",
   "pygments_lexer": "ipython3",
   "version": "3.6.1"
  }
 },
 "nbformat": 4,
 "nbformat_minor": 2
}
