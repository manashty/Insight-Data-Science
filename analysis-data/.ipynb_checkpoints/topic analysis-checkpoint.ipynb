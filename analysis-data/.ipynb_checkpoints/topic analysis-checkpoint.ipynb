{
 "cells": [
  {
   "cell_type": "code",
   "execution_count": 1,
   "metadata": {
    "collapsed": true
   },
   "outputs": [],
   "source": [
    "%matplotlib inline\n",
    "import matplotlib.pyplot as plt\n",
    "from pprint import pprint\n",
    "import pandas as pd\n",
    "import os"
   ]
  },
  {
   "cell_type": "code",
   "execution_count": 2,
   "metadata": {
    "collapsed": true
   },
   "outputs": [],
   "source": [
    "from collections import defaultdict\n",
    "from gensim import corpora, models, similarities\n",
    "\n",
    "# plot projection of articles onto 2 axes/topics defined by the model; for models operating on tfidf-transformed inputs (LSI, RP)\n",
    "def plot_axes_with_tfidf(x, y, model, corpus, tfidf, titles):\n",
    "    \"\"\"Plot each article title according to the projection of its text \n",
    "    into the given x and y topic axes of model.\n",
    "    \n",
    "    :param x: the index of the x axis to plot\n",
    "    :param y: the index of the y axis to plot\n",
    "    :param model: the gensim model to project into\n",
    "    :param corpus: the gensim corpus of documents\n",
    "    :param tfidf: a tfidf model for converting documents into tfidf space\n",
    "    :param titles: a list of article titles\n",
    "    \"\"\"\n",
    "    x_data = defaultdict(list) \n",
    "    y_data = defaultdict(list) \n",
    "    arts = defaultdict(list)  \n",
    "    for title, doc in zip(titles, corpus):\n",
    "        x_data[0].append((model[tfidf[doc]][x][1]))\n",
    "        y_data[0].append((model[tfidf[doc]][y][1]))\n",
    "        arts[0].append(title)\n",
    "    plt.figure(figsize=(10, 10))\n",
    "    ax = plt.gca()\n",
    "    ax.set_xlabel('Topic '+str(x), fontsize=14)\n",
    "    ax.set_ylabel('Topic '+str(y), fontsize=14)\n",
    "    plt.scatter(x_data[0], y_data[0], s=40)\n",
    "    for art, x, y in zip(arts[0], x_data[0], y_data[0]):\n",
    "        ax.annotate(str(art), xy=(x, y), xycoords='data', xytext=(1, 1), \n",
    "        textcoords='offset points', size=10)\n",
    "    \n",
    "        \n",
    "# plot projection of articles onto 2 axes/topics defined by the model; for models operating on original corpus (LDA, HDP)\n",
    "def plot_axes(x, y, model, corpus, titles):\n",
    "    \"\"\"Plot each article title according to the projection of its text \n",
    "    into the given x and y topic axes of model.\n",
    "    \n",
    "    :param x: the index of the x axis to plot\n",
    "    :param y: the index of the y axis to plot\n",
    "    :param model: the gensim model to project into\n",
    "    :param corpus: the gensim corpus of documents\n",
    "    :param titles: a list of article titles\n",
    "    \"\"\"\n",
    "    x_data = defaultdict(list) \n",
    "    y_data = defaultdict(list) \n",
    "    arts = defaultdict(list)  \n",
    "    for title, doc in zip(titles, corpus):\n",
    "        x_data[0].append((model[doc][x][1]))\n",
    "        y_data[0].append((model[doc][y][1]))\n",
    "        arts[0].append(title)\n",
    "    plt.figure(figsize=(10, 10))\n",
    "    ax = plt.gca()\n",
    "    ax.set_xlabel('Topic '+str(x), fontsize=14)\n",
    "    ax.set_ylabel('Topic '+str(y), fontsize=14)\n",
    "    plt.scatter(x_data[0], y_data[0], s=40)\n",
    "    for art, x, y in zip(arts[0], x_data[0], y_data[0]):\n",
    "        ax.annotate(str(art), xy=(x, y), xycoords='data', xytext=(1, 1), \n",
    "        textcoords='offset points', size=10)  "
   ]
  },
  {
   "cell_type": "code",
   "execution_count": 3,
   "metadata": {},
   "outputs": [
    {
     "data": {
      "text/html": [
       "<div>\n",
       "<style>\n",
       "    .dataframe thead tr:only-child th {\n",
       "        text-align: right;\n",
       "    }\n",
       "\n",
       "    .dataframe thead th {\n",
       "        text-align: left;\n",
       "    }\n",
       "\n",
       "    .dataframe tbody tr th {\n",
       "        vertical-align: top;\n",
       "    }\n",
       "</style>\n",
       "<table border=\"1\" class=\"dataframe\">\n",
       "  <thead>\n",
       "    <tr style=\"text-align: right;\">\n",
       "      <th></th>\n",
       "      <th>category</th>\n",
       "      <th>href</th>\n",
       "      <th>source</th>\n",
       "      <th>text</th>\n",
       "      <th>title</th>\n",
       "      <th>user id</th>\n",
       "      <th>href_short</th>\n",
       "      <th>tokens</th>\n",
       "      <th>text_short</th>\n",
       "    </tr>\n",
       "    <tr>\n",
       "      <th>post id</th>\n",
       "      <th></th>\n",
       "      <th></th>\n",
       "      <th></th>\n",
       "      <th></th>\n",
       "      <th></th>\n",
       "      <th></th>\n",
       "      <th></th>\n",
       "      <th></th>\n",
       "      <th></th>\n",
       "    </tr>\n",
       "  </thead>\n",
       "  <tbody>\n",
       "    <tr>\n",
       "      <th>0</th>\n",
       "      <td>['category-applied-behavior-analysis-aba']</td>\n",
       "      <td>https://www.autismparentingmagazine.com/autism...</td>\n",
       "      <td>https://www.autismparentingmagazine.com/</td>\n",
       "      <td>For children with autism spectrum disorder (AS...</td>\n",
       "      <td>Autism, Head Banging and other Self Harming Be...</td>\n",
       "      <td>NaN</td>\n",
       "      <td>AutismParentingMagazine</td>\n",
       "      <td>['autism', 'head', 'bang', 'and', 'other', 'se...</td>\n",
       "      <td>For children with autism spectrum disorder (AS...</td>\n",
       "    </tr>\n",
       "    <tr>\n",
       "      <th>1</th>\n",
       "      <td>['category-applied-behavior-analysis-aba']</td>\n",
       "      <td>https://www.autismparentingmagazine.com/high-q...</td>\n",
       "      <td>https://www.autismparentingmagazine.com/</td>\n",
       "      <td>Dr. Stephen Shore once said “If you’ve met one...</td>\n",
       "      <td>High Quality ABA Treatment:  What Every Parent...</td>\n",
       "      <td>NaN</td>\n",
       "      <td>AutismParentingMagazine</td>\n",
       "      <td>['high', 'quality', 'aba', 'treatment', 'what'...</td>\n",
       "      <td>Dr. Stephen Shore once said “If you’ve met one...</td>\n",
       "    </tr>\n",
       "  </tbody>\n",
       "</table>\n",
       "</div>"
      ],
      "text/plain": [
       "                                           category  \\\n",
       "post id                                               \n",
       "0        ['category-applied-behavior-analysis-aba']   \n",
       "1        ['category-applied-behavior-analysis-aba']   \n",
       "\n",
       "                                                      href  \\\n",
       "post id                                                      \n",
       "0        https://www.autismparentingmagazine.com/autism...   \n",
       "1        https://www.autismparentingmagazine.com/high-q...   \n",
       "\n",
       "                                           source  \\\n",
       "post id                                             \n",
       "0        https://www.autismparentingmagazine.com/   \n",
       "1        https://www.autismparentingmagazine.com/   \n",
       "\n",
       "                                                      text  \\\n",
       "post id                                                      \n",
       "0        For children with autism spectrum disorder (AS...   \n",
       "1        Dr. Stephen Shore once said “If you’ve met one...   \n",
       "\n",
       "                                                     title  user id  \\\n",
       "post id                                                               \n",
       "0        Autism, Head Banging and other Self Harming Be...      NaN   \n",
       "1        High Quality ABA Treatment:  What Every Parent...      NaN   \n",
       "\n",
       "                      href_short  \\\n",
       "post id                            \n",
       "0        AutismParentingMagazine   \n",
       "1        AutismParentingMagazine   \n",
       "\n",
       "                                                    tokens  \\\n",
       "post id                                                      \n",
       "0        ['autism', 'head', 'bang', 'and', 'other', 'se...   \n",
       "1        ['high', 'quality', 'aba', 'treatment', 'what'...   \n",
       "\n",
       "                                                text_short  \n",
       "post id                                                     \n",
       "0        For children with autism spectrum disorder (AS...  \n",
       "1        Dr. Stephen Shore once said “If you’ve met one...  "
      ]
     },
     "execution_count": 3,
     "metadata": {},
     "output_type": "execute_result"
    }
   ],
   "source": [
    "os.chdir('../data/')\n",
    "# Read dataframe\n",
    "#input_fname=\"AutismParentMagazine-posts-tokens.csv\"\n",
    "input_fname=\"articles-n-forums-posts.csv\"\n",
    "\n",
    "df = pd.read_csv(input_fname,index_col=0)\n",
    "df.head(2)\n"
   ]
  },
  {
   "cell_type": "code",
   "execution_count": 32,
   "metadata": {
    "collapsed": true
   },
   "outputs": [],
   "source": [
    "import pickle\n",
    "# Read models\n",
    "corpus = pickle.load(open(\"corpus.save\", \"rb\"))\n",
    "tfidf = models.TfidfModel.load('tfidf.save')\n",
    "lsimodel = models.LsiModel.load('lsi-model.save')\n",
    "dictionary = pickle.load(open(\"dictionary.save\",\"rb\"))\n"
   ]
  },
  {
   "cell_type": "code",
   "execution_count": 5,
   "metadata": {
    "collapsed": true
   },
   "outputs": [],
   "source": [
    "# Plot topics\n",
    "titles = df['title']\n",
    "categories = df['category']\n",
    "\n",
    "topics_articles=[]\n",
    "topics_forums=[]\n",
    "for category,title, doc in zip(categories,titles, corpus):\n",
    "    top_topic=max(lsimodel[tfidf[doc]],key=lambda x:x[1])\n",
    "    if category == 'forums':\n",
    "        topics_forums.append(top_topic)\n",
    "    else:\n",
    "        topics_articles.append(top_topic)\n",
    "\n",
    "\n",
    "\n"
   ]
  },
  {
   "cell_type": "code",
   "execution_count": 6,
   "metadata": {},
   "outputs": [
    {
     "name": "stdout",
     "output_type": "stream",
     "text": [
      "category             ['category-applied-behavior-analysis-aba']\n",
      "href          https://www.autismparentingmagazine.com/autism...\n",
      "source                 https://www.autismparentingmagazine.com/\n",
      "text          For children with autism spectrum disorder (AS...\n",
      "title         Autism, Head Banging and other Self Harming Be...\n",
      "user id                                                     NaN\n",
      "href_short                              AutismParentingMagazine\n",
      "tokens        ['autism', 'head', 'bang', 'and', 'other', 'se...\n",
      "text_short    For children with autism spectrum disorder (AS...\n",
      "Name: 0, dtype: object\n"
     ]
    },
    {
     "data": {
      "text/plain": [
       "[('around', 0.12305158080174289),\n",
       " ('even', 0.098364952544514064),\n",
       " ('make', 0.092559040791065847),\n",
       " ('date', -0.089450466733059231),\n",
       " ('cat', 0.087545662636350441),\n",
       " ('maybe', -0.083542283033303466),\n",
       " ('dx', 0.080109234670521737),\n",
       " ('fight', 0.078660670623541679),\n",
       " ('13', 0.076877130095156287),\n",
       " ('water', 0.074540367371097843)]"
      ]
     },
     "execution_count": 6,
     "metadata": {},
     "output_type": "execute_result"
    }
   ],
   "source": [
    "print(df.loc[0])\n",
    "lsimodel.show_topic(289,topn=10)"
   ]
  },
  {
   "cell_type": "code",
   "execution_count": 7,
   "metadata": {},
   "outputs": [
    {
     "data": {
      "text/plain": [
       "[('son', 0.13063794954097041),\n",
       " ('school', 0.12704517649180411),\n",
       " ('get', 0.12431454448172294),\n",
       " ('autism', 0.11642186607889504),\n",
       " ('go', 0.11317346349203078)]"
      ]
     },
     "execution_count": 7,
     "metadata": {},
     "output_type": "execute_result"
    }
   ],
   "source": [
    "topic_index=0\n",
    "topn=5 #top five words in that topic\n",
    "lsimodel.show_topic(topic_index, topn=topn)"
   ]
  },
  {
   "cell_type": "code",
   "execution_count": 8,
   "metadata": {
    "collapsed": true
   },
   "outputs": [],
   "source": [
    "%matplotlib inline\n",
    "import matplotlib.pyplot as plt\n",
    "import seaborn as sns\n",
    "import matplotlib.mlab as mlab\n",
    "from matplotlib import gridspec\n",
    "import numpy as np\n"
   ]
  },
  {
   "cell_type": "code",
   "execution_count": 25,
   "metadata": {},
   "outputs": [
    {
     "data": {
      "text/plain": [
       "<matplotlib.text.Text at 0x13336ef98>"
      ]
     },
     "execution_count": 25,
     "metadata": {},
     "output_type": "execute_result"
    },
    {
     "data": {
      "text/plain": [
       "<matplotlib.figure.Figure at 0x13336ee48>"
      ]
     },
     "metadata": {},
     "output_type": "display_data"
    }
   ],
   "source": [
    "plt.rcParams['text.usetex'] = True\n",
    "plt.rcParams['text.latex.unicode'] = True\n",
    "\n",
    "plt.rcParams.update({'font.size': 24})\n",
    "label_size = 18\n",
    "plt.rcParams['xtick.labelsize'] = label_size \n",
    "plt.rcParams['ytick.labelsize'] = label_size \n",
    "plt.rcParams['axes.linewidth'] = 5 # set the value globally\n",
    "plt.rc('axes', linewidth=2)\n",
    "\n",
    "fig = plt.figure()\n",
    "gs = gridspec.GridSpec(2, 1)\n",
    "\n",
    "plt.subplots_adjust(left=0.2,right=1.0,bottom=0.17,top=0.9)\n",
    "fig.set_size_inches(6,6)\n",
    "\n",
    "\n",
    "#plt.suptitle('Readability score')\n",
    "fig.text(0.04,0.5,'Distribution',va='center',rotation='vertical')\n",
    "fig.text(0.4,0.04,'Topic',va='center')"
   ]
  },
  {
   "cell_type": "code",
   "execution_count": 26,
   "metadata": {},
   "outputs": [],
   "source": [
    "nbins=300 #300 topics"
   ]
  },
  {
   "cell_type": "code",
   "execution_count": 29,
   "metadata": {
    "scrolled": true
   },
   "outputs": [
    {
     "data": {
      "image/png": "[encoded data removed]",
      "text/plain": [
       "<matplotlib.figure.Figure at 0x1339cdcc0>"
      ]
     },
     "metadata": {},
     "output_type": "display_data"
    }
   ],
   "source": [
    "#X ticks\n",
    "\n",
    "xmax=320\n",
    "x=np.arange(0,xmax,20) #xtics\n",
    "xx=np.arange(1,xmax,1)\n",
    "\n",
    "# Panel 1\n",
    "ax1=plt.subplot(gs[0])\n",
    "ax1.set_xlim([0, xmax])\n",
    "ax1.set_ylim([0,0.02])\n",
    "ax1.set_xticks(x)\n",
    "ax1.tick_params(labelbottom='off')    \n",
    "\n",
    "\n",
    "plt.ylabel('Distribution',fontsize=18)\n",
    "#Class 0\n",
    "X=np.array(topics_articles)\n",
    "n_articles,bins_articles,patches=plt.hist(X,nbins,normed=1,facecolor='blue',align='mid',label='articles')\n",
    "#plt.legend(bbox_to_anchor=(0.45, 0.95), loc=2, borderaxespad=0., fontsize=14)\n",
    "\n",
    "\n",
    "\n",
    "# Panel 2\n",
    "ax2=plt.subplot(gs[1])\n",
    "ax2.set_xlim([0, xmax])\n",
    "ax2.set_xticks(x)\n",
    "ax2.set_ylim([0,0.02])\n",
    "\n",
    "plt.ylabel('Distribution',fontsize=18)\n",
    "plt.xlabel('Topic',fontsize=18)\n",
    "\n",
    "#Class 1\n",
    "X=np.array(topics_forums)\n",
    "n_forums,bins_forums,patches=plt.hist(X,nbins,normed=1,facecolor='orange',align='mid',label='forums')\n",
    "\n",
    "#plt.legend(bbox_to_anchor=(0.45, 0.95), loc=2, borderaxespad=0.,fontsize=14)\n",
    "\n",
    "fig.savefig('topic-presence.jpeg', dpi=300)\n",
    "#fig.savefig('topic-presence.jpeg')\n",
    "\n",
    "plt.show()"
   ]
  },
  {
   "cell_type": "code",
   "execution_count": 12,
   "metadata": {},
   "outputs": [],
   "source": [
    "#fig.facecolor=\"white\"\n",
    "#fig.savefig('topic-presence.jpeg', dpi=300)"
   ]
  },
  {
   "cell_type": "code",
   "execution_count": 13,
   "metadata": {},
   "outputs": [
    {
     "name": "stdout",
     "output_type": "stream",
     "text": [
      "301\n",
      "300\n",
      "(994, 0.076488552732848214)\n",
      "(957, 0.079762229154744374)\n"
     ]
    }
   ],
   "source": [
    "# Find top 10 topics in articles and forums\n",
    "print(len(bins_forums))\n",
    "print(len(n_forums[0]))\n",
    "#print(n_forums[0])\n",
    "print(max(topics_forums))\n",
    "print(max(topics_articles))"
   ]
  },
  {
   "cell_type": "code",
   "execution_count": 14,
   "metadata": {
    "collapsed": true
   },
   "outputs": [],
   "source": [
    "def mk_topic_presence(nn):\n",
    "    from operator import itemgetter\n",
    "\n",
    "    \"\"\"gets the topic presence. The result is sorteed.\n",
    "    nn refers to the output n of plt.hist, which contains the topic distribution for each bin\"\"\"\n",
    "    topic_presence=[]\n",
    "    for n in range(len(n_forums[0])):\n",
    "        topic_presence.append((n,nn[0][n]))\n",
    "    # Sort topic presence:\n",
    "    sorted_topic_presence=sorted(topic_presence,key=itemgetter(1),reverse=True)\n",
    "    return sorted_topic_presence\n",
    "\n",
    "from IPython.display import Markdown, display\n",
    "def printmd(string):\n",
    "    display(Markdown(string))\n",
    "    \n",
    "def print_topics(topic_presence_list):\n",
    "    topn=10 #top five words in that topic\n",
    "    for topic_presence in topic_presence_list[:5]:\n",
    "        topic_index=topic_presence[0]\n",
    "        topic=lsimodel.show_topic(topic_index, topn=topn)\n",
    "        word_list=[]\n",
    "        for word,score in topic:\n",
    "            word_list.append(word)\n",
    "        printmd('**Topic {}**: {}'.format(topic_index,', '.join(word_list)))\n"
   ]
  },
  {
   "cell_type": "code",
   "execution_count": 15,
   "metadata": {},
   "outputs": [
    {
     "data": {
      "text/plain": [
       "[(0, 0.16413319926657599),\n",
       " (4, 0.011829419766960432),\n",
       " (2, 0.01182941976696043),\n",
       " (1, 0.0073933873543502691),\n",
       " (18, 0.0044360324126101651)]"
      ]
     },
     "execution_count": 15,
     "metadata": {},
     "output_type": "execute_result"
    }
   ],
   "source": [
    "topic_presence_articles=mk_topic_presence(n_articles)\n",
    "topic_presence_articles[:5]\n"
   ]
  },
  {
   "cell_type": "code",
   "execution_count": 16,
   "metadata": {},
   "outputs": [
    {
     "data": {
      "text/plain": [
       "[(0, 0.22153120744670041),\n",
       " (1, 0.011686279291913093),\n",
       " (3, 0.0054197237295828858),\n",
       " (2, 0.0046575750801102897),\n",
       " (12, 0.0045728918968355597)]"
      ]
     },
     "execution_count": 16,
     "metadata": {},
     "output_type": "execute_result"
    }
   ],
   "source": [
    "topic_presence_forums=mk_topic_presence(n_forums)\n",
    "topic_presence_forums[:5]"
   ]
  },
  {
   "cell_type": "code",
   "execution_count": 17,
   "metadata": {},
   "outputs": [
    {
     "data": {
      "text/markdown": [
       "**Topics most present in articles**"
      ],
      "text/plain": [
       "<IPython.core.display.Markdown object>"
      ]
     },
     "metadata": {},
     "output_type": "display_data"
    },
    {
     "data": {
      "text/markdown": [
       "**Topic 0**: son, school, get, autism, go, know, like, child, say, help"
      ],
      "text/plain": [
       "<IPython.core.display.Markdown object>"
      ]
     },
     "metadata": {},
     "output_type": "display_data"
    },
    {
     "data": {
      "text/markdown": [
       "**Topic 4**: aspergers, discussion, school, relate, syndrome, start, people, asperger, old, speech"
      ],
      "text/plain": [
       "<IPython.core.display.Markdown object>"
      ]
     },
     "metadata": {},
     "output_type": "display_data"
    },
    {
     "data": {
      "text/markdown": [
       "**Topic 2**: http, com, www, aspergers, discussion, asperger, autism, relate, son, children"
      ],
      "text/plain": [
       "<IPython.core.display.Markdown object>"
      ]
     },
     "metadata": {},
     "output_type": "display_data"
    },
    {
     "data": {
      "text/markdown": [
       "**Topic 1**: aspergers, disorder, sensory, diagnosis, spectrum, speech, difficulties, children, child, discussion"
      ],
      "text/plain": [
       "<IPython.core.display.Markdown object>"
      ]
     },
     "metadata": {},
     "output_type": "display_data"
    },
    {
     "data": {
      "text/markdown": [
       "**Topic 18**: im, vaccines, adhd, thank, disorder, service, diagnosis, brother, dont, children"
      ],
      "text/plain": [
       "<IPython.core.display.Markdown object>"
      ]
     },
     "metadata": {},
     "output_type": "display_data"
    },
    {
     "data": {
      "text/markdown": [
       "**Topics most present in forums**"
      ],
      "text/plain": [
       "<IPython.core.display.Markdown object>"
      ]
     },
     "metadata": {},
     "output_type": "display_data"
    },
    {
     "data": {
      "text/markdown": [
       "**Topic 0**: son, school, get, autism, go, know, like, child, say, help"
      ],
      "text/plain": [
       "<IPython.core.display.Markdown object>"
      ]
     },
     "metadata": {},
     "output_type": "display_data"
    },
    {
     "data": {
      "text/markdown": [
       "**Topic 1**: aspergers, disorder, sensory, diagnosis, spectrum, speech, difficulties, children, child, discussion"
      ],
      "text/plain": [
       "<IPython.core.display.Markdown object>"
      ]
     },
     "metadata": {},
     "output_type": "display_data"
    },
    {
     "data": {
      "text/markdown": [
       "**Topic 3**: discussion, relate, asperger, start, syndrome, sensory, aspergers, http, speech, violence"
      ],
      "text/plain": [
       "<IPython.core.display.Markdown object>"
      ]
     },
     "metadata": {},
     "output_type": "display_data"
    },
    {
     "data": {
      "text/markdown": [
       "**Topic 2**: http, com, www, aspergers, discussion, asperger, autism, relate, son, children"
      ],
      "text/plain": [
       "<IPython.core.display.Markdown object>"
      ]
     },
     "metadata": {},
     "output_type": "display_data"
    },
    {
     "data": {
      "text/markdown": [
       "**Topic 12**: therapy, music, aspergers, diet, vaccines, school, sensory, say, doctor, flap"
      ],
      "text/plain": [
       "<IPython.core.display.Markdown object>"
      ]
     },
     "metadata": {},
     "output_type": "display_data"
    }
   ],
   "source": [
    "printmd(\"**Topics most present in articles**\")\n",
    "print_topics(topic_presence_articles)\n",
    "printmd(\"**Topics most present in forums**\")\n",
    "print_topics(topic_presence_forums)"
   ]
  },
  {
   "cell_type": "code",
   "execution_count": 33,
   "metadata": {},
   "outputs": [
    {
     "ename": "AttributeError",
     "evalue": "'LsiModel' object has no attribute 'inference'",
     "output_type": "error",
     "traceback": [
      "\u001b[0;31m---------------------------------------------------------------------------\u001b[0m",
      "\u001b[0;31mAttributeError\u001b[0m                            Traceback (most recent call last)",
      "\u001b[0;32m<ipython-input-33-7847ca726aa7>\u001b[0m in \u001b[0;36m<module>\u001b[0;34m()\u001b[0m\n\u001b[1;32m      3\u001b[0m \u001b[0mpyLDAvis\u001b[0m\u001b[0;34m.\u001b[0m\u001b[0menable_notebook\u001b[0m\u001b[0;34m(\u001b[0m\u001b[0;34m)\u001b[0m\u001b[0;34m\u001b[0m\u001b[0m\n\u001b[1;32m      4\u001b[0m \u001b[0;34m\u001b[0m\u001b[0m\n\u001b[0;32m----> 5\u001b[0;31m \u001b[0mdata\u001b[0m \u001b[0;34m=\u001b[0m \u001b[0mpyLDAvis\u001b[0m\u001b[0;34m.\u001b[0m\u001b[0mgensim\u001b[0m\u001b[0;34m.\u001b[0m\u001b[0mprepare\u001b[0m\u001b[0;34m(\u001b[0m\u001b[0mlsimodel\u001b[0m\u001b[0;34m,\u001b[0m \u001b[0mcorpus\u001b[0m\u001b[0;34m,\u001b[0m \u001b[0mdictionary\u001b[0m\u001b[0;34m)\u001b[0m\u001b[0;34m\u001b[0m\u001b[0m\n\u001b[0m\u001b[1;32m      6\u001b[0m \u001b[0mdata\u001b[0m\u001b[0;34m\u001b[0m\u001b[0m\n\u001b[1;32m      7\u001b[0m \u001b[0;34m\u001b[0m\u001b[0m\n",
      "\u001b[0;32m/Users/rangel/anaconda3/envs/cdips2017/lib/python3.6/site-packages/pyLDAvis/gensim.py\u001b[0m in \u001b[0;36mprepare\u001b[0;34m(topic_model, corpus, dictionary, doc_topic_dist, **kwargs)\u001b[0m\n\u001b[1;32m    109\u001b[0m     \u001b[0mSee\u001b[0m\u001b[0;31m \u001b[0m\u001b[0;31m`\u001b[0m\u001b[0mpyLDAvis\u001b[0m\u001b[0;34m.\u001b[0m\u001b[0mprepare\u001b[0m\u001b[0;31m`\u001b[0m \u001b[0;32mfor\u001b[0m \u001b[0;34m**\u001b[0m\u001b[0mkwargs\u001b[0m\u001b[0;34m.\u001b[0m\u001b[0;34m\u001b[0m\u001b[0m\n\u001b[1;32m    110\u001b[0m     \"\"\"\n\u001b[0;32m--> 111\u001b[0;31m     \u001b[0mopts\u001b[0m \u001b[0;34m=\u001b[0m \u001b[0mfp\u001b[0m\u001b[0;34m.\u001b[0m\u001b[0mmerge\u001b[0m\u001b[0;34m(\u001b[0m\u001b[0m_extract_data\u001b[0m\u001b[0;34m(\u001b[0m\u001b[0mtopic_model\u001b[0m\u001b[0;34m,\u001b[0m \u001b[0mcorpus\u001b[0m\u001b[0;34m,\u001b[0m \u001b[0mdictionary\u001b[0m\u001b[0;34m,\u001b[0m \u001b[0mdoc_topic_dist\u001b[0m\u001b[0;34m)\u001b[0m\u001b[0;34m,\u001b[0m \u001b[0mkwargs\u001b[0m\u001b[0;34m)\u001b[0m\u001b[0;34m\u001b[0m\u001b[0m\n\u001b[0m\u001b[1;32m    112\u001b[0m     \u001b[0;32mreturn\u001b[0m \u001b[0mvis_prepare\u001b[0m\u001b[0;34m(\u001b[0m\u001b[0;34m**\u001b[0m\u001b[0mopts\u001b[0m\u001b[0;34m)\u001b[0m\u001b[0;34m\u001b[0m\u001b[0m\n",
      "\u001b[0;32m/Users/rangel/anaconda3/envs/cdips2017/lib/python3.6/site-packages/pyLDAvis/gensim.py\u001b[0m in \u001b[0;36m_extract_data\u001b[0;34m(topic_model, corpus, dictionary, doc_topic_dists)\u001b[0m\n\u001b[1;32m     40\u001b[0m           \u001b[0mgamma\u001b[0m \u001b[0;34m=\u001b[0m \u001b[0mtopic_model\u001b[0m\u001b[0;34m.\u001b[0m\u001b[0minference\u001b[0m\u001b[0;34m(\u001b[0m\u001b[0mcorpus\u001b[0m\u001b[0;34m)\u001b[0m\u001b[0;34m\u001b[0m\u001b[0m\n\u001b[1;32m     41\u001b[0m       \u001b[0;32melse\u001b[0m\u001b[0;34m:\u001b[0m\u001b[0;34m\u001b[0m\u001b[0m\n\u001b[0;32m---> 42\u001b[0;31m           \u001b[0mgamma\u001b[0m\u001b[0;34m,\u001b[0m \u001b[0m_\u001b[0m \u001b[0;34m=\u001b[0m \u001b[0mtopic_model\u001b[0m\u001b[0;34m.\u001b[0m\u001b[0minference\u001b[0m\u001b[0;34m(\u001b[0m\u001b[0mcorpus\u001b[0m\u001b[0;34m)\u001b[0m\u001b[0;34m\u001b[0m\u001b[0m\n\u001b[0m\u001b[1;32m     43\u001b[0m       \u001b[0mdoc_topic_dists\u001b[0m \u001b[0;34m=\u001b[0m \u001b[0mgamma\u001b[0m \u001b[0;34m/\u001b[0m \u001b[0mgamma\u001b[0m\u001b[0;34m.\u001b[0m\u001b[0msum\u001b[0m\u001b[0;34m(\u001b[0m\u001b[0maxis\u001b[0m\u001b[0;34m=\u001b[0m\u001b[0;36m1\u001b[0m\u001b[0;34m)\u001b[0m\u001b[0;34m[\u001b[0m\u001b[0;34m:\u001b[0m\u001b[0;34m,\u001b[0m \u001b[0;32mNone\u001b[0m\u001b[0;34m]\u001b[0m\u001b[0;34m\u001b[0m\u001b[0m\n\u001b[1;32m     44\u001b[0m \u001b[0;34m\u001b[0m\u001b[0m\n",
      "\u001b[0;31mAttributeError\u001b[0m: 'LsiModel' object has no attribute 'inference'"
     ]
    }
   ],
   "source": [
    "import pyLDAvis.gensim\n",
    "import gensim\n",
    "pyLDAvis.enable_notebook()\n",
    "\n",
    "\n",
    "# This is only for LDA\n",
    "#data = pyLDAvis.gensim.prepare(lsimodel, corpus, dictionary)\n",
    "#data\n",
    "    "
   ]
  },
  {
   "cell_type": "code",
   "execution_count": null,
   "metadata": {
    "collapsed": true
   },
   "outputs": [],
   "source": []
  }
 ],
 "metadata": {
  "kernelspec": {
   "display_name": "Python 3",
   "language": "python",
   "name": "python3"
  },
  "language_info": {
   "codemirror_mode": {
    "name": "ipython",
    "version": 3
   },
   "file_extension": ".py",
   "mimetype": "text/x-python",
   "name": "python",
   "nbconvert_exporter": "python",
   "pygments_lexer": "ipython3",
   "version": "3.6.1"
  }
 },
 "nbformat": 4,
 "nbformat_minor": 2
}
