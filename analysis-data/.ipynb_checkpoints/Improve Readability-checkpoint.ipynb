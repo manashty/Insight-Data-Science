{
 "cells": [
  {
   "cell_type": "code",
   "execution_count": 2,
   "metadata": {
    "collapsed": true
   },
   "outputs": [],
   "source": [
    "# Set up paths/ os\n",
    "import os\n",
    "import sys\n",
    "\n",
    "this_path=os.getcwd()\n",
    "os.chdir(\"../data\")\n",
    "sys.path.insert(0, this_path)\n"
   ]
  },
  {
   "cell_type": "code",
   "execution_count": 3,
   "metadata": {
    "collapsed": true
   },
   "outputs": [],
   "source": [
    "import pandas as pd\n"
   ]
  },
  {
   "cell_type": "code",
   "execution_count": 4,
   "metadata": {
    "collapsed": true
   },
   "outputs": [],
   "source": [
    "import numpy as np\n",
    "\n",
    "def cohen_d(X1,X2):\n",
    "    std1=X1.std()\n",
    "    mean1=X1.mean()\n",
    "    N1=len(X1)\n",
    "    std2=X2.std()\n",
    "    mean2=X2.mean()\n",
    "    N2=len(X2)\n",
    "    #pooled std\n",
    "    s2=(float(N1-1)*std1 + float(N2-1)*std2)/float(N1+N2-2)\n",
    "    s=np.sqrt(s2)\n",
    "    cohend=abs(mean2-mean1)/s\n",
    "    return(cohend)"
   ]
  },
  {
   "cell_type": "code",
   "execution_count": 5,
   "metadata": {
    "collapsed": true
   },
   "outputs": [],
   "source": [
    "# Get 5% percentile:\n",
    "\n",
    "def get_fifth_p(X):\n",
    "    N = len(X)\n",
    "    Xsorted = np.sort(X)\n",
    "    fifth = int(N*0.05)-1\n",
    "    fifth_p  = Xsorted[fifth]\n",
    "    return fifth_p\n",
    "        \n",
    "def get_fraction_under_value(X,value):\n",
    "    N = len(X)\n",
    "    Xsorted = np.sort(X)\n",
    "    for ii in range(N):\n",
    "        v2 = Xsorted[ii]\n",
    "        if value <= v2:\n",
    "            fraction = float((ii+1)/N)*100\n",
    "            return fraction\n",
    "    return fraction\n",
    "            "
   ]
  },
  {
   "cell_type": "code",
   "execution_count": 6,
   "metadata": {},
   "outputs": [
    {
     "data": {
      "text/html": [
       "<div>\n",
       "<style>\n",
       "    .dataframe thead tr:only-child th {\n",
       "        text-align: right;\n",
       "    }\n",
       "\n",
       "    .dataframe thead th {\n",
       "        text-align: left;\n",
       "    }\n",
       "\n",
       "    .dataframe tbody tr th {\n",
       "        vertical-align: top;\n",
       "    }\n",
       "</style>\n",
       "<table border=\"1\" class=\"dataframe\">\n",
       "  <thead>\n",
       "    <tr style=\"text-align: right;\">\n",
       "      <th></th>\n",
       "      <th>title</th>\n",
       "      <th>text</th>\n",
       "      <th>href</th>\n",
       "      <th>user id</th>\n",
       "      <th>mother post id</th>\n",
       "    </tr>\n",
       "    <tr>\n",
       "      <th>post id</th>\n",
       "      <th></th>\n",
       "      <th></th>\n",
       "      <th></th>\n",
       "      <th></th>\n",
       "      <th></th>\n",
       "    </tr>\n",
       "  </thead>\n",
       "  <tbody>\n",
       "    <tr>\n",
       "      <th>1</th>\n",
       "      <td>Inappropriate Masterbation Down Syndrome</td>\n",
       "      <td>\\n        It is common for children and adoles...</td>\n",
       "      <td>http://www.medhelp.org//posts/Autism--Asperger...</td>\n",
       "      <td>user_340688</td>\n",
       "      <td>1</td>\n",
       "    </tr>\n",
       "  </tbody>\n",
       "</table>\n",
       "</div>"
      ],
      "text/plain": [
       "                                            title  \\\n",
       "post id                                             \n",
       "1        Inappropriate Masterbation Down Syndrome   \n",
       "\n",
       "                                                      text  \\\n",
       "post id                                                      \n",
       "1        \\n        It is common for children and adoles...   \n",
       "\n",
       "                                                      href      user id  \\\n",
       "post id                                                                   \n",
       "1        http://www.medhelp.org//posts/Autism--Asperger...  user_340688   \n",
       "\n",
       "         mother post id  \n",
       "post id                  \n",
       "1                     1  "
      ]
     },
     "execution_count": 6,
     "metadata": {},
     "output_type": "execute_result"
    }
   ],
   "source": [
    "infile=\"MedHelp-posts.csv\"\n",
    "df=pd.read_csv(infile,index_col=0)\n",
    "df.head(1)"
   ]
  },
  {
   "cell_type": "code",
   "execution_count": 7,
   "metadata": {},
   "outputs": [
    {
     "data": {
      "text/html": [
       "<div>\n",
       "<style>\n",
       "    .dataframe thead tr:only-child th {\n",
       "        text-align: right;\n",
       "    }\n",
       "\n",
       "    .dataframe thead th {\n",
       "        text-align: left;\n",
       "    }\n",
       "\n",
       "    .dataframe tbody tr th {\n",
       "        vertical-align: top;\n",
       "    }\n",
       "</style>\n",
       "<table border=\"1\" class=\"dataframe\">\n",
       "  <thead>\n",
       "    <tr style=\"text-align: right;\">\n",
       "      <th></th>\n",
       "      <th>user description</th>\n",
       "      <th>is expert</th>\n",
       "    </tr>\n",
       "    <tr>\n",
       "      <th>user id</th>\n",
       "      <th></th>\n",
       "      <th></th>\n",
       "    </tr>\n",
       "  </thead>\n",
       "  <tbody>\n",
       "    <tr>\n",
       "      <th>user_340688</th>\n",
       "      <td>Rachel  Thompson, Ph.D., BCBA</td>\n",
       "      <td>1</td>\n",
       "    </tr>\n",
       "  </tbody>\n",
       "</table>\n",
       "</div>"
      ],
      "text/plain": [
       "                          user description  is expert\n",
       "user id                                              \n",
       "user_340688  Rachel  Thompson, Ph.D., BCBA          1"
      ]
     },
     "execution_count": 7,
     "metadata": {},
     "output_type": "execute_result"
    }
   ],
   "source": [
    "infile=\"MedHelp-users-class.csv\"\n",
    "df_users=pd.read_csv(infile,index_col=0)\n",
    "df_users.head(1)"
   ]
  },
  {
   "cell_type": "code",
   "execution_count": 8,
   "metadata": {
    "collapsed": true
   },
   "outputs": [],
   "source": [
    "from textstat.textstat import textstat\n",
    "def get_grade(a,b,text):\n",
    "    ASL=textstat.avg_sentence_length(text)\n",
    "    ASW=textstat.avg_syllables_per_word(text)\n",
    "    #FKRA = float(0.39 * ASL) + float(11.8 * ASW) - 15.59\n",
    "    #grade=round(FKRA, 1)\n",
    "    grade = float(a*ASL) + float(b*ASW)\n",
    "    return grade\n",
    "\n"
   ]
  },
  {
   "cell_type": "code",
   "execution_count": 9,
   "metadata": {
    "collapsed": true
   },
   "outputs": [],
   "source": [
    "#def coleman_liau_index(n_chars, n_words, n_sents):\n",
    "#    \"\"\"https://en.wikipedia.org/wiki/Coleman%E2%80%93Liau_index\"\"\"\n",
    "#    return (5.879851 * n_chars / n_words) - (29.587280 * n_sents / n_words) - 15.800804\n",
    "def mod_cli(a,b,text):\n",
    "    L = round(textstat.avg_letter_per_word(text)*100, 2)\n",
    "    S = round(textstat.avg_sentence_per_word(text)*100, 2)\n",
    "    #CLI = float((0.058 * L) - (0.296 * S) - 15.8)\n",
    "    CLI = float(a*L) - (b*S)\n",
    "    return round(CLI, 2)\n"
   ]
  },
  {
   "cell_type": "code",
   "execution_count": 10,
   "metadata": {},
   "outputs": [
    {
     "name": "stdout",
     "output_type": "stream",
     "text": [
      "17.0\n"
     ]
    }
   ],
   "source": [
    "text=\"Whether or not your son has Chiari malformation is a question for your medical doctor.  If you have concerns, absolutely take them to your doctor and make sure they are addressed.\"\n",
    "grade=get_grade(1,1,text)\n",
    "print(grade)"
   ]
  },
  {
   "cell_type": "code",
   "execution_count": 11,
   "metadata": {
    "collapsed": true
   },
   "outputs": [],
   "source": [
    "# Calculate all smog scores for texts from professional and non-professional\n",
    "expert_uids=df_users.loc[df_users['is expert']==1].index\n",
    "non_expert_uids=df_users.loc[df_users['is expert']==0].index\n"
   ]
  },
  {
   "cell_type": "code",
   "execution_count": 12,
   "metadata": {},
   "outputs": [
    {
     "name": "stdout",
     "output_type": "stream",
     "text": [
      "1813\n",
      "727\n",
      "1086\n"
     ]
    }
   ],
   "source": [
    "print(len(df))\n",
    "df_experts=df.loc[df['user id'].isin(expert_uids)]\n",
    "print(len(df_experts))\n",
    "\n",
    "df_non_experts=df.loc[df['user id'].isin(non_expert_uids)]\n",
    "print(len(df_non_experts))"
   ]
  },
  {
   "cell_type": "code",
   "execution_count": 13,
   "metadata": {
    "collapsed": true
   },
   "outputs": [],
   "source": [
    "text_experts=df_experts['text']\n",
    "text_non_experts=df_non_experts['text']"
   ]
  },
  {
   "cell_type": "code",
   "execution_count": 14,
   "metadata": {
    "collapsed": true
   },
   "outputs": [],
   "source": [
    "#readability_experts=text_experts.apply(textstat.smog_index)\n",
    "#readability_non_experts=text_non_experts.apply(textstat.smog_index)\n",
    "\n",
    "readability_experts=text_experts.apply(textstat.flesch_kincaid_grade)\n",
    "readability_non_experts=text_non_experts.apply(textstat.flesch_kincaid_grade)"
   ]
  },
  {
   "cell_type": "code",
   "execution_count": 15,
   "metadata": {},
   "outputs": [
    {
     "name": "stdout",
     "output_type": "stream",
     "text": [
      "1.95321065231\n"
     ]
    }
   ],
   "source": [
    "print(cohen_d(readability_experts.values,readability_non_experts.values))\n"
   ]
  },
  {
   "cell_type": "code",
   "execution_count": 14,
   "metadata": {
    "collapsed": true
   },
   "outputs": [],
   "source": [
    "X = np.arange(100,0,-1)\n",
    "print(get_fifth_p(X))\n",
    "print(get_fraction_under_value(X,5))"
   ]
  },
  {
   "cell_type": "code",
   "execution_count": 26,
   "metadata": {},
   "outputs": [
    {
     "name": "stdout",
     "output_type": "stream",
     "text": [
      "7.6\n",
      "60.31307550644567\n"
     ]
    }
   ],
   "source": [
    "fifth_p = get_fifth_p(readability_experts.values)\n",
    "print(fifth_p)\n",
    "print(get_fraction_under_value(readability_non_experts.values,fifth_p))\n",
    "    "
   ]
  },
  {
   "cell_type": "code",
   "execution_count": 28,
   "metadata": {},
   "outputs": [
    {
     "name": "stdout",
     "output_type": "stream",
     "text": [
      "0.0\n",
      "0.09208103130755065\n"
     ]
    }
   ],
   "source": [
    "# Smog:\n",
    "\n",
    "X1=text_experts.apply(textstat.smog_index).values\n",
    "X2=text_non_experts.apply(textstat.smog_index).values\n",
    "fifth_p = get_fifth_p(X1)\n",
    "print(fifth_p)\n",
    "print(get_fraction_under_value(X2,fifth_p))"
   ]
  },
  {
   "cell_type": "code",
   "execution_count": 31,
   "metadata": {},
   "outputs": [
    {
     "name": "stdout",
     "output_type": "stream",
     "text": [
      "12.6\n",
      "48.98710865561694\n"
     ]
    }
   ],
   "source": [
    "# Smog + Flesch Kincaid grade\n",
    "X1 = text_experts.apply(textstat.smog_index).values\n",
    "X1 = X1 + text_experts.apply(textstat.flesch_kincaid_grade).values\n",
    "X2 = text_non_experts.apply(textstat.smog_index).values\n",
    "X2 = X2 + text_non_experts.apply(textstat.flesch_kincaid_grade).values\n",
    "\n",
    "fifth_p = get_fifth_p(X1)\n",
    "print(fifth_p)\n",
    "print(get_fraction_under_value(X2,fifth_p))"
   ]
  },
  {
   "cell_type": "code",
   "execution_count": 32,
   "metadata": {},
   "outputs": [
    {
     "name": "stdout",
     "output_type": "stream",
     "text": [
      "9.0\n",
      "55.52486187845304\n"
     ]
    }
   ],
   "source": [
    "# Coleman liau\n",
    "\n",
    "X1=text_experts.apply(textstat.coleman_liau_index).values\n",
    "X2=text_non_experts.apply(textstat.coleman_liau_index).values\n",
    "fifth_p = get_fifth_p(X1)\n",
    "print(fifth_p)\n",
    "print(get_fraction_under_value(X2,fifth_p))"
   ]
  },
  {
   "cell_type": "code",
   "execution_count": 13,
   "metadata": {
    "collapsed": true
   },
   "outputs": [],
   "source": [
    "# Coleman Liau + Flesch Kincaid grade\n",
    "#automated_readability_index\n",
    "def readability_cli(X):\n",
    "    return X.apply(textstat.coleman_liau_index).values \n",
    "def readability_fcg(X):\n",
    "    return X.apply(textstat.flesch_kincaid_grade).values "
   ]
  },
  {
   "cell_type": "code",
   "execution_count": 14,
   "metadata": {},
   "outputs": [
    {
     "name": "stdout",
     "output_type": "stream",
     "text": [
      "0 9.0 55.52486187845304\n",
      "1 17.19 63.07550644567219\n",
      "2 24.91 63.25966850828729\n",
      "3 32.85 63.996316758747696\n",
      "4 40.52 63.53591160220995\n",
      "5 48.15 63.44383057090239\n",
      "6 56.05 63.996316758747696\n",
      "7 63.41 63.07550644567219\n",
      "8 71.11 63.07550644567219\n",
      "9 78.81 62.89134438305709\n"
     ]
    }
   ],
   "source": [
    "# Colmena Liau + Flesch Kincaid grade\n",
    "X1a = readability_cli(text_experts)\n",
    "X1b = readability_fcg(text_experts)\n",
    "\n",
    "X2a = readability_cli(text_non_experts)\n",
    "X2b = readability_fcg(text_non_experts)\n",
    "\n",
    "for a in range(10):\n",
    "    X1 = X1a + a*X1b\n",
    "    X2 = X2a + a*X2b \n",
    "    fifth_p = get_fifth_p(X1)\n",
    "    print(a,fifth_p,get_fraction_under_value(X2,fifth_p))"
   ]
  },
  {
   "cell_type": "code",
   "execution_count": 16,
   "metadata": {},
   "outputs": [
    {
     "name": "stdout",
     "output_type": "stream",
     "text": [
      "9.2\n",
      "60.49723756906077\n"
     ]
    }
   ],
   "source": [
    "#automated_readability_index\n",
    "def readability_ari(X):\n",
    "    return X.apply(textstat.automated_readability_index).values \n",
    "\n",
    "X1=readability_ari(text_experts)\n",
    "X2=readability_ari(text_non_experts)\n",
    "fifth_p = get_fifth_p(X1)\n",
    "print(fifth_p)\n",
    "print(get_fraction_under_value(X2,fifth_p))\n"
   ]
  },
  {
   "cell_type": "code",
   "execution_count": 19,
   "metadata": {},
   "outputs": [
    {
     "name": "stdout",
     "output_type": "stream",
     "text": [
      "0 56.05 63.996316758747696\n",
      "1 65.12 63.07550644567219\n",
      "2 74.85 63.35174953959485\n",
      "3 83.65 62.79926335174954\n",
      "4 92.51 62.246777163904234\n",
      "5 102.28 62.79926335174954\n",
      "6 111.7 62.70718232044199\n",
      "7 120.8 62.523020257826886\n",
      "8 129.9 62.430939226519335\n",
      "9 139.0 62.246777163904234\n"
     ]
    }
   ],
   "source": [
    "# Colmena Liau + Flesch Kincaid grade + automated readability index\n",
    "X1a = readability_cli(text_experts)\n",
    "X1b = readability_fcg(text_experts)\n",
    "X1c = readability_ari(text_experts)\n",
    "\n",
    "X2a = readability_cli(text_non_experts)\n",
    "X2b = readability_fcg(text_non_experts)\n",
    "X2c = readability_ari(text_non_experts)\n",
    "\n",
    "X1ab = X1a + 6*X1b\n",
    "X2ab = X2a + 6*X2b\n",
    "\n",
    "for a in range(10):\n",
    "    X1 = X1ab + a*X1c\n",
    "    X2 = X2ab + a*X2c\n",
    "    fifth_p = get_fifth_p(X1)\n",
    "    print(a,fifth_p,get_fraction_under_value(X2,fifth_p))"
   ]
  },
  {
   "cell_type": "code",
   "execution_count": 23,
   "metadata": {},
   "outputs": [
    {
     "name": "stdout",
     "output_type": "stream",
     "text": [
      "8.34\n",
      "47.790055248618785\n"
     ]
    }
   ],
   "source": [
    "def readability_dcr(X):\n",
    "    return X.apply(textstat.dale_chall_readability_score).values\n",
    "X1_dcr=readability_dcr(text_experts)\n",
    "X2_dcr=readability_dcr(text_non_experts)\n",
    "fifth_p = get_fifth_p(X1_dcr)\n",
    "print(fifth_p)\n",
    "print(get_fraction_under_value(X2_dcr,fifth_p))"
   ]
  },
  {
   "cell_type": "code",
   "execution_count": 24,
   "metadata": {},
   "outputs": [
    {
     "name": "stdout",
     "output_type": "stream",
     "text": [
      "15\n",
      "30.11049723756906\n"
     ]
    }
   ],
   "source": [
    "def readability_dw(X):\n",
    "    return X.apply(textstat.difficult_words).values\n",
    "\n",
    "X1_dw=readability_dw(text_experts)\n",
    "X2_dw=readability_dw(text_non_experts)\n",
    "fifth_p = get_fifth_p(X1_dw)\n",
    "print(fifth_p)\n",
    "print(get_fraction_under_value(X2_dw,fifth_p))"
   ]
  },
  {
   "cell_type": "code",
   "execution_count": 25,
   "metadata": {},
   "outputs": [
    {
     "name": "stdout",
     "output_type": "stream",
     "text": [
      "0 56.05 63.996316758747696\n",
      "1 64.72 63.35174953959485\n"
     ]
    }
   ],
   "source": [
    "# Colmena Liau + Flesch Kincaid grade + automated readability index\n",
    "\n",
    "#X1a = readability_cli(text_experts)\n",
    "#X1b = readability_fcg(text_experts)\n",
    "#X2a = readability_cli(text_non_experts)\n",
    "#X2b = readability_fcg(text_non_experts)\n",
    "#X1ab = X1a + 6*X1b\n",
    "#X2ab = X2a + 6*X2b\n",
    "\n",
    "for a in range(2):\n",
    "    X1 = X1ab + a*X1_dcr\n",
    "    X2 = X2ab + a*X2_dcr\n",
    "    fifth_p = get_fifth_p(X1)\n",
    "    print(a,fifth_p,get_fraction_under_value(X2,fifth_p))"
   ]
  },
  {
   "cell_type": "code",
   "execution_count": 28,
   "metadata": {},
   "outputs": [
    {
     "name": "stdout",
     "output_type": "stream",
     "text": [
      "0 56.05 63.996316758747696\n",
      "1 78.78 45.11970534069982\n",
      "2 95.16 40.79189686924494\n",
      "3 111.82 37.93738489871086\n",
      "4 129.41 36.92449355432781\n"
     ]
    }
   ],
   "source": [
    "# add dw\n",
    "for a in range(5):\n",
    "    X1 = X1ab + a*X1_dw\n",
    "    X2 = X2ab + a*X2_dw\n",
    "    fifth_p = get_fifth_p(X1)\n",
    "    print(a,fifth_p,get_fraction_under_value(X2,fifth_p))"
   ]
  },
  {
   "cell_type": "code",
   "execution_count": 29,
   "metadata": {},
   "outputs": [
    {
     "name": "stdout",
     "output_type": "stream",
     "text": [
      "6.625\n",
      "43.370165745856355\n"
     ]
    }
   ],
   "source": [
    "def readability_lwf(X):\n",
    "    return X.apply(textstat.linsear_write_formula).values\n",
    "\n",
    "X1_lwf=readability_lwf(text_experts)\n",
    "X2_lwf=readability_lwf(text_non_experts)\n",
    "fifth_p = get_fifth_p(X1_lwf)\n",
    "print(fifth_p)\n",
    "print(get_fraction_under_value(X2_lwf,fifth_p))\n"
   ]
  },
  {
   "cell_type": "code",
   "execution_count": 30,
   "metadata": {},
   "outputs": [
    {
     "name": "stdout",
     "output_type": "stream",
     "text": [
      "0 56.05 63.996316758747696\n",
      "1 63.67 61.69429097605893\n",
      "2 71.8257142857 61.32596685082873\n",
      "3 78.625 58.93186003683242\n",
      "4 85.75 58.5635359116022\n"
     ]
    }
   ],
   "source": [
    "# add lwf\n",
    "for a in range(5):\n",
    "    X1 = X1ab + a*X1_lwf\n",
    "    X2 = X2ab + a*X2_lwf\n",
    "    fifth_p = get_fifth_p(X1)\n",
    "    print(a,fifth_p,get_fraction_under_value(X2,fifth_p))"
   ]
  },
  {
   "cell_type": "code",
   "execution_count": 31,
   "metadata": {},
   "outputs": [
    {
     "name": "stdout",
     "output_type": "stream",
     "text": [
      "19.1494505495\n",
      "55.70902394106814\n"
     ]
    }
   ],
   "source": [
    "def readability_gf(X):\n",
    "    return X.apply(textstat.gunning_fog).values\n",
    "\n",
    "X1_gf=readability_gf(text_experts)\n",
    "X2_gf=readability_gf(text_non_experts)\n",
    "fifth_p = get_fifth_p(X1_gf)\n",
    "print(fifth_p)\n",
    "print(get_fraction_under_value(X2_gf,fifth_p))"
   ]
  },
  {
   "cell_type": "code",
   "execution_count": 33,
   "metadata": {},
   "outputs": [
    {
     "name": "stdout",
     "output_type": "stream",
     "text": [
      "0 56.05 63.996316758747696\n",
      "1 75.3992307692 62.70718232044199\n",
      "2 95.0661403509 62.523020257826886\n",
      "3 113.707567568 61.233885819521184\n",
      "4 132.882280702 60.86556169429097\n"
     ]
    }
   ],
   "source": [
    "# add gf\n",
    "for a in range(5):\n",
    "    X1 = X1ab + a*X1_gf\n",
    "    X2 = X2ab + a*X2_gf\n",
    "    fifth_p = get_fifth_p(X1)\n",
    "    print(a,fifth_p,get_fraction_under_value(X2,fifth_p))"
   ]
  },
  {
   "cell_type": "code",
   "execution_count": 53,
   "metadata": {
    "collapsed": true
   },
   "outputs": [],
   "source": [
    "# vary a and b in Readability formula:\n",
    "# score = (a * ASL) + (b * ASW)\n",
    "\n",
    "step_b=5\n",
    "step_a=0.05\n",
    "\n",
    "results=[]\n",
    "#for aa in range(1,40,1):\n",
    "for aa in range(1,20,1):\n",
    "\n",
    "    a=aa*step_a\n",
    "    #for bb in range(1,40,1):\n",
    "    for bb in range(1,20,1):\n",
    "\n",
    "        b=bb*step_b\n",
    "        r1 = text_experts.apply(lambda x: get_grade(a,b,x)).values\n",
    "        r2 = text_non_experts.apply(lambda x: get_grade(a,b,x)).values\n",
    "        fifth_p = get_fifth_p(r1)\n",
    "        fraction = get_fraction_under_value(r2,fifth_p)\n",
    "        #d = cohen_d(r1,r2)\n",
    "        results.append(dict(a=a,b=b,fraction = fraction))\n",
    "        #print(a,b,d)"
   ]
  },
  {
   "cell_type": "code",
   "execution_count": 54,
   "metadata": {
    "collapsed": true
   },
   "outputs": [],
   "source": [
    "import pickle\n",
    "\n",
    "file_pi = open('readability_test.pi', 'wb')\n",
    "pickle.dump(results, file_pi)\n",
    "file_pi.close()\n",
    "#del results\n",
    "\n",
    "\n",
    "#file_pi = open('readability_test.pi', 'rb') \n",
    "#results = pickle.load(file_pi)\n",
    "#print(results)"
   ]
  },
  {
   "cell_type": "code",
   "execution_count": 55,
   "metadata": {},
   "outputs": [
    {
     "data": {
      "text/html": [
       "<div>\n",
       "<style>\n",
       "    .dataframe thead tr:only-child th {\n",
       "        text-align: right;\n",
       "    }\n",
       "\n",
       "    .dataframe thead th {\n",
       "        text-align: left;\n",
       "    }\n",
       "\n",
       "    .dataframe tbody tr th {\n",
       "        vertical-align: top;\n",
       "    }\n",
       "</style>\n",
       "<table border=\"1\" class=\"dataframe\">\n",
       "  <thead>\n",
       "    <tr style=\"text-align: right;\">\n",
       "      <th></th>\n",
       "      <th>a</th>\n",
       "      <th>b</th>\n",
       "      <th>fraction</th>\n",
       "    </tr>\n",
       "  </thead>\n",
       "  <tbody>\n",
       "    <tr>\n",
       "      <th>0</th>\n",
       "      <td>0.1</td>\n",
       "      <td>10</td>\n",
       "      <td>59.392265</td>\n",
       "    </tr>\n",
       "    <tr>\n",
       "      <th>1</th>\n",
       "      <td>0.1</td>\n",
       "      <td>20</td>\n",
       "      <td>56.906077</td>\n",
       "    </tr>\n",
       "  </tbody>\n",
       "</table>\n",
       "</div>"
      ],
      "text/plain": [
       "     a   b   fraction\n",
       "0  0.1  10  59.392265\n",
       "1  0.1  20  56.906077"
      ]
     },
     "execution_count": 55,
     "metadata": {},
     "output_type": "execute_result"
    }
   ],
   "source": [
    "df = pd.DataFrame.from_dict(results)\n",
    "\n",
    "df.head(2)"
   ]
  },
  {
   "cell_type": "code",
   "execution_count": 56,
   "metadata": {},
   "outputs": [
    {
     "data": {
      "image/png": "[encoded data removed]",
      "text/plain": [
       "<matplotlib.figure.Figure at 0x11843d898>"
      ]
     },
     "metadata": {},
     "output_type": "display_data"
    }
   ],
   "source": [
    "import seaborn as sns\n",
    "import matplotlib.pyplot as plt\n",
    "\n",
    "# Set up the matplotlib figure\n",
    "#f, ax = plt.subplots(figsize=(11, 9))\n",
    "\n",
    "#data = df.pivot(\"a\", \"b\", \"d\")\n",
    "#ax = sns.heatmap(df, cmap=\"YlGnBu\")\n",
    "\n",
    "\n",
    "\n",
    "import matplotlib.pyplot as plt\n",
    "import seaborn as sns\n",
    "sns.set()\n",
    "\n",
    "# Load the example flights dataset and conver to long-form\n",
    "data = df.pivot(\"a\", \"b\", \"fraction\")\n",
    "\n",
    "# Draw a heatmap with the numeric values in each cell\n",
    "f, ax = plt.subplots(figsize=(9, 6))\n",
    "sns.heatmap(data,  linewidths=.5, ax=ax)\n",
    "\n",
    "plt.show()\n"
   ]
  },
  {
   "cell_type": "code",
   "execution_count": 42,
   "metadata": {},
   "outputs": [
    {
     "name": "stdout",
     "output_type": "stream",
     "text": [
      "1 5 54.69613259668509\n",
      "1 10 62.338858195211785\n",
      "1 15 64.82504604051566\n",
      "1 20 66.66666666666666\n",
      "1 25 64.9171270718232\n",
      "1 30 65.56169429097606\n",
      "1 35 64.1804788213628\n",
      "1 40 61.418047882136285\n",
      "1 45 58.83977900552486\n",
      "2 5 52.67034990791897\n",
      "2 10 54.69613259668509\n",
      "2 15 59.30018416206262\n",
      "2 20 62.338858195211785\n",
      "2 25 64.08839779005525\n",
      "2 30 64.82504604051566\n",
      "2 35 65.83793738489871\n",
      "2 40 66.66666666666666\n",
      "2 45 65.74585635359117\n",
      "3 5 50.552486187845304\n",
      "3 10 53.95948434622467\n",
      "3 15 54.69613259668509\n",
      "3 20 58.74769797421732\n",
      "3 25 60.036832412523026\n",
      "3 30 62.338858195211785\n",
      "3 35 63.07550644567219\n",
      "3 40 64.27255985267035\n",
      "3 45 64.82504604051566\n",
      "4 5 50.82872928176796\n",
      "4 10 52.67034990791897\n",
      "4 15 54.32780847145487\n",
      "4 20 54.69613259668509\n",
      "4 25 58.011049723756905\n",
      "4 30 59.30018416206262\n",
      "4 35 60.40515653775322\n",
      "4 40 62.338858195211785\n",
      "4 45 62.338858195211785\n",
      "5 5 49.72375690607735\n",
      "5 10 50.64456721915286\n",
      "5 15 53.40699815837937\n",
      "5 20 54.41988950276243\n",
      "5 25 54.69613259668509\n",
      "5 30 57.36648250460406\n",
      "5 35 58.3793738489871\n",
      "5 40 59.852670349907925\n",
      "5 45 60.12891344383057\n",
      "6 5 49.72375690607735\n",
      "6 10 50.552486187845304\n",
      "6 15 52.67034990791897\n",
      "6 20 53.95948434622467\n",
      "6 25 54.972375690607734\n",
      "6 30 54.69613259668509\n",
      "6 35 57.36648250460406\n",
      "6 40 58.74769797421732\n",
      "6 45 59.30018416206262\n",
      "7 5 49.72375690607735\n",
      "7 10 50.920810313075506\n",
      "7 15 51.93370165745856\n",
      "7 20 53.40699815837937\n",
      "7 25 54.32780847145487\n",
      "7 30 55.06445672191529\n",
      "7 35 54.69613259668509\n",
      "7 40 57.0902394106814\n",
      "7 45 58.103130755064456\n",
      "8 5 49.72375690607735\n",
      "8 10 50.82872928176796\n",
      "8 15 50.736648250460405\n",
      "8 20 52.67034990791897\n",
      "8 25 53.86740331491713\n",
      "8 30 54.32780847145487\n",
      "8 35 55.06445672191529\n",
      "8 40 54.69613259668509\n",
      "8 45 56.62983425414365\n",
      "9 5 49.72375690607735\n",
      "9 10 50.64456721915286\n",
      "9 15 50.552486187845304\n",
      "9 20 52.117863720073665\n",
      "9 25 53.40699815837937\n",
      "9 30 53.95948434622467\n",
      "9 35 54.51197053406999\n",
      "9 40 55.06445672191529\n",
      "9 45 54.69613259668509\n"
     ]
    }
   ],
   "source": [
    "# Now try to get more on the Coleman-Liau Index\n",
    "a=7\n",
    "b=30.0\n",
    "\n",
    "# vary a and b in Readability formula:\n",
    "# score = (a * ASL) + (b * ASW)\n",
    "\n",
    "step_c=1\n",
    "step_d=5\n",
    "\n",
    "del results\n",
    "results=[]\n",
    "for cc in range(1,10,1):\n",
    "    c=cc*step_c\n",
    "    for dd in range(1,10,1):\n",
    "\n",
    "        d=dd*step_d\n",
    "        #\n",
    "        r1 = text_experts.apply(lambda x: mod_cli(c,d,x)).values\n",
    "        #\n",
    "        r2 = text_non_experts.apply(lambda x: mod_cli(c,d,x)).values\n",
    "        \n",
    "        fifth_p = get_fifth_p(r1)\n",
    "        fraction = get_fraction_under_value(r2,fifth_p)\n",
    "        #d = cohen_d(r1,r2)\n",
    "        results.append(dict(c=c,d=d,fraction = fraction))\n",
    "        print(c,d,fraction)\n"
   ]
  },
  {
   "cell_type": "code",
   "execution_count": 46,
   "metadata": {},
   "outputs": [],
   "source": [
    "df = pd.DataFrame.from_dict(results)\n"
   ]
  },
  {
   "cell_type": "code",
   "execution_count": 44,
   "metadata": {},
   "outputs": [
    {
     "data": {
      "image/png": "[encoded data removed]",
      "text/plain": [
       "<matplotlib.figure.Figure at 0x1108a85f8>"
      ]
     },
     "metadata": {},
     "output_type": "display_data"
    }
   ],
   "source": [
    "import seaborn as sns\n",
    "import matplotlib.pyplot as plt\n",
    "\n",
    "sns.set()\n",
    "\n",
    "# Load the example flights dataset and conver to long-form\n",
    "data = df.pivot(\"c\", \"d\", \"fraction\")\n",
    "\n",
    "# Draw a heatmap with the numeric values in each cell\n",
    "f, ax = plt.subplots(figsize=(9, 6))\n",
    "sns.heatmap(data,  linewidths=.5, ax=ax)\n",
    "\n",
    "plt.show()"
   ]
  },
  {
   "cell_type": "code",
   "execution_count": 45,
   "metadata": {},
   "outputs": [
    {
     "data": {
      "text/html": [
       "<div>\n",
       "<style>\n",
       "    .dataframe thead tr:only-child th {\n",
       "        text-align: right;\n",
       "    }\n",
       "\n",
       "    .dataframe thead th {\n",
       "        text-align: left;\n",
       "    }\n",
       "\n",
       "    .dataframe tbody tr th {\n",
       "        vertical-align: top;\n",
       "    }\n",
       "</style>\n",
       "<table border=\"1\" class=\"dataframe\">\n",
       "  <thead>\n",
       "    <tr style=\"text-align: right;\">\n",
       "      <th></th>\n",
       "      <th>c</th>\n",
       "      <th>d</th>\n",
       "      <th>fraction</th>\n",
       "    </tr>\n",
       "  </thead>\n",
       "  <tbody>\n",
       "    <tr>\n",
       "      <th>3</th>\n",
       "      <td>1</td>\n",
       "      <td>20</td>\n",
       "      <td>66.666667</td>\n",
       "    </tr>\n",
       "    <tr>\n",
       "      <th>16</th>\n",
       "      <td>2</td>\n",
       "      <td>40</td>\n",
       "      <td>66.666667</td>\n",
       "    </tr>\n",
       "    <tr>\n",
       "      <th>15</th>\n",
       "      <td>2</td>\n",
       "      <td>35</td>\n",
       "      <td>65.837937</td>\n",
       "    </tr>\n",
       "    <tr>\n",
       "      <th>17</th>\n",
       "      <td>2</td>\n",
       "      <td>45</td>\n",
       "      <td>65.745856</td>\n",
       "    </tr>\n",
       "    <tr>\n",
       "      <th>5</th>\n",
       "      <td>1</td>\n",
       "      <td>30</td>\n",
       "      <td>65.561694</td>\n",
       "    </tr>\n",
       "  </tbody>\n",
       "</table>\n",
       "</div>"
      ],
      "text/plain": [
       "    c   d   fraction\n",
       "3   1  20  66.666667\n",
       "16  2  40  66.666667\n",
       "15  2  35  65.837937\n",
       "17  2  45  65.745856\n",
       "5   1  30  65.561694"
      ]
     },
     "execution_count": 45,
     "metadata": {},
     "output_type": "execute_result"
    }
   ],
   "source": [
    "df_sorted=df.sort_values(['fraction'], ascending=[False])\n",
    "df_sorted.head()"
   ]
  },
  {
   "cell_type": "code",
   "execution_count": 49,
   "metadata": {},
   "outputs": [
    {
     "name": "stdout",
     "output_type": "stream",
     "text": [
      "3 1103.0 67.12707182320442\n",
      "4 1452.41 67.21915285451196\n",
      "5 1801.41 67.12707182320442\n",
      "6 2150.41 67.21915285451196\n",
      "7 2499.41 67.03499079189686\n",
      "8 2848.41 67.03499079189686\n",
      "9 3197.41 67.03499079189686\n"
     ]
    }
   ],
   "source": [
    "# Mix them:\n",
    "\n",
    "a=0.7\n",
    "b=30.0\n",
    "c=1\n",
    "d=20\n",
    "\n",
    "\n",
    "for fact in range(3,10):\n",
    "    r1 = text_experts.apply(lambda x: fact * mod_cli(c,d,x) + get_grade(a,b,x) ).values\n",
    "    r2 = text_non_experts.apply(lambda x: fact * mod_cli(c,d,x) + get_grade(a,b,x)).values\n",
    "\n",
    "    fifth_p = get_fifth_p(r1)\n",
    "    fraction = get_fraction_under_value(r2,fifth_p)\n",
    "    print(fact,fifth_p,fraction)\n"
   ]
  },
  {
   "cell_type": "code",
   "execution_count": 39,
   "metadata": {
    "collapsed": true
   },
   "outputs": [],
   "source": [
    "import matplotlib.pyplot as plt\n",
    "import seaborn as sns\n",
    "import matplotlib.mlab as mlab\n",
    "from matplotlib import gridspec\n",
    "from scipy.stats import norm\n",
    "from scipy.optimize import curve_fit\n",
    "from lognormal import lognormal, lognormal_stats\n",
    "import numpy as np\n"
   ]
  },
  {
   "cell_type": "code",
   "execution_count": 59,
   "metadata": {},
   "outputs": [
    {
     "name": "stdout",
     "output_type": "stream",
     "text": [
      "0.7 30.0\n"
     ]
    }
   ],
   "source": [
    "a=df_sorted.iloc[0]['a']\n",
    "b=df_sorted.iloc[0]['b']\n",
    "print(a,b)\n"
   ]
  },
  {
   "cell_type": "code",
   "execution_count": 40,
   "metadata": {
    "collapsed": true
   },
   "outputs": [],
   "source": [
    "a=0.7\n",
    "b=30.0\n",
    "r1 = text_experts.apply(lambda x: get_grade(a,b,x))\n",
    "r2 = text_non_experts.apply(lambda x: get_grade(a,b,x))"
   ]
  },
  {
   "cell_type": "code",
   "execution_count": 47,
   "metadata": {},
   "outputs": [
    {
     "name": "stdout",
     "output_type": "stream",
     "text": [
      "<class 'numpy.ndarray'> <class 'numpy.ndarray'>\n",
      "727 1086\n",
      "62.4511554333\n",
      "53.3201841621\n",
      "5.29138206067\n",
      "10.4811529072\n"
     ]
    }
   ],
   "source": [
    "xmax =int(r1.values.max())\n",
    "xmin = int(r2.values.min())\n",
    "print(type(r1.values),type(r2.values))\n",
    "print(len(r1),len(r2))\n",
    "print(r1.values.mean())\n",
    "print(r2.values.mean())\n",
    "print(r1.values.std())\n",
    "print(r2.values.std())"
   ]
  },
  {
   "cell_type": "code",
   "execution_count": 48,
   "metadata": {},
   "outputs": [
    {
     "data": {
      "text/plain": [
       "<matplotlib.text.Text at 0x11cad10b8>"
      ]
     },
     "execution_count": 48,
     "metadata": {},
     "output_type": "execute_result"
    }
   ],
   "source": [
    "plt.rcParams['text.usetex'] = True\n",
    "plt.rcParams['text.latex.unicode'] = True\n",
    "\n",
    "plt.rcParams.update({'font.size': 24})\n",
    "label_size = 18\n",
    "plt.rcParams['xtick.labelsize'] = label_size \n",
    "plt.rcParams['ytick.labelsize'] = label_size \n",
    "plt.rcParams['axes.linewidth'] = 5 # set the value globally\n",
    "plt.rc('axes', linewidth=2)\n",
    "\n",
    "fig = plt.figure()\n",
    "#fig=plt.figure(figsize=(2,1))\n",
    "#fig.set_size_inches(6.6,3.3)\n",
    "gs = gridspec.GridSpec(2, 1)\n",
    "#fig, ax = plt.subplots(ncols=1, nrows=1) # These arguments can be omitted for one\n",
    "\n",
    "\n",
    "plt.subplots_adjust(left=0.2,right=1.0,bottom=0.17,top=0.9)\n",
    "fig.set_size_inches(6,6)\n",
    "\n",
    "\n",
    "\n",
    "#plt.suptitle('Readability score')\n",
    "fig.text(0.04,0.5,'Distribution',va='center',rotation='vertical')\n",
    "fig.text(0.4,0.04,'Readability score',va='center')"
   ]
  },
  {
   "cell_type": "code",
   "execution_count": 49,
   "metadata": {},
   "outputs": [
    {
     "name": "stdout",
     "output_type": "stream",
     "text": [
      "Experts: Mean,variance: (62.45115543328749,27.998724112016554)\n",
      "Non experts: Mean,variance: 53.3201841621 109.854566264\n"
     ]
    },
    {
     "data": {
      "image/png": "[encoded data removed]",
      "text/plain": [
       "<matplotlib.figure.Figure at 0x11cccf5f8>"
      ]
     },
     "metadata": {},
     "output_type": "display_data"
    }
   ],
   "source": [
    "#X ticks\n",
    "\n",
    "#plt.ylabel('Distribution')\n",
    "\n",
    "#xmax=1000\n",
    "xsteps=int(xmax/10)\n",
    "xsteps_bins=int(xsteps/4)\n",
    "x=np.arange(xmin,xmax,xsteps) #xtics\n",
    "xx=np.arange(xmin,xmax,xsteps)\n",
    "\n",
    "# Panel 1\n",
    "ax1=plt.subplot(gs[0],facecolor='w')\n",
    "ax1.set_xlim([xmin, xmax])\n",
    "ax1.set_xticks(x)\n",
    "#ax1.set_ylim([0, 0.2])\n",
    "#ax1.set_yticks(np.arange(0,0.3,0.1))\n",
    "\n",
    "ax1.tick_params(labelbottom='off')  \n",
    "# Customize the grid\n",
    "ax1.grid(linestyle='--', linewidth='0.5', color='black',which='both')\n",
    "ax1.axhline(linewidth=4, color=\"black\")        # inc. width of x-axis and color it green\n",
    "ax1.axvline(linewidth=4, color=\"black\")\n",
    "\n",
    "#Class 0\n",
    "\n",
    "X=r1.values\n",
    "\n",
    "#n,bins,patches=plt.hist(X,nbins,normed=1,facecolor='blue',align='mid',label='Experts')\n",
    "n,bins,patches=plt.hist(X, bins=np.arange(0, xmax, xsteps_bins),normed=1,facecolor='blue',align='mid',label='Experts')\n",
    "\n",
    "mu=X.mean()\n",
    "var=X.var()\n",
    "#legend1=plt.legend(bbox_to_anchor=(0.45, 0.95), loc=0, borderaxespad=0., fontsize=label_size)\n",
    "\n",
    "\n",
    "print(\"Experts: Mean,variance: ({},{})\".format(mu,var))\n",
    "\n",
    "\n",
    "# Panel 2\n",
    "ax2=plt.subplot(gs[1],facecolor='w')\n",
    "ax2.set_xlim([xmin, xmax])\n",
    "ax2.set_xticks(x)\n",
    "#ax2.set_ylim([0, 0.2])\n",
    "#ax2.set_yticks(np.arange(0,0.3,0.1))\n",
    "ax2.grid(linestyle='--', linewidth='0.5', color='black',which='both')\n",
    "ax2.axhline(linewidth=4, color=\"black\")        # inc. width of x-axis and color it green\n",
    "ax2.axvline(linewidth=4, color=\"black\")\n",
    "\n",
    "\n",
    "#Class 1\n",
    "X=r2.values\n",
    "\n",
    "        \n",
    "#n,bins,patches=plt.hist(X,nbins,normed=1,facecolor='orange',align='mid',label='Non experts')\n",
    "n,bins,patches=plt.hist(X, bins=np.arange(0, xmax, xsteps_bins),normed=1,facecolor='orange',align='mid',label='Non experts')\n",
    "\n",
    "\n",
    "mu=X.mean()\n",
    "var=X.var()\n",
    "\n",
    "#legend2=plt.legend(bbox_to_anchor=(0.45, 0.95), loc=0, borderaxespad=0., fontsize=label_size,frameon=1)\n",
    "\n",
    "\n",
    "print(\"Non experts: Mean,variance:\",mu,var)\n",
    "\n",
    "\n",
    "plt.show()"
   ]
  },
  {
   "cell_type": "code",
   "execution_count": 53,
   "metadata": {},
   "outputs": [
    {
     "name": "stdout",
     "output_type": "stream",
     "text": [
      "<class 'numpy.ndarray'> <class 'numpy.ndarray'>\n",
      "727 1086\n",
      "81.3188995873\n",
      "53.2105156538\n",
      "16.4380956504\n",
      "34.5862290071\n"
     ]
    }
   ],
   "source": [
    "def combined_grade(text):\n",
    "    fcg = textstat.flesch_kincaid_grade(text)\n",
    "    cli = textstat.coleman_liau_index(text)\n",
    "    return cli + 6 * fcg\n",
    "\n",
    "    \n",
    "r1 = text_experts.apply(lambda x: combined_grade(x))\n",
    "r2 = text_non_experts.apply(lambda x: combined_grade(x))\n",
    "\n",
    "xmax =int(r1.values.max())\n",
    "xmin = int(r2.values.min())\n",
    "xmin = 0\n",
    "print(type(r1.values),type(r2.values))\n",
    "print(len(r1),len(r2))\n",
    "print(r1.values.mean())\n",
    "print(r2.values.mean())\n",
    "print(r1.values.std())\n",
    "print(r2.values.std())\n"
   ]
  },
  {
   "cell_type": "code",
   "execution_count": 54,
   "metadata": {},
   "outputs": [
    {
     "data": {
      "text/plain": [
       "<matplotlib.text.Text at 0x11d492630>"
      ]
     },
     "execution_count": 54,
     "metadata": {},
     "output_type": "execute_result"
    }
   ],
   "source": [
    "plt.rcParams['text.usetex'] = True\n",
    "plt.rcParams['text.latex.unicode'] = True\n",
    "\n",
    "plt.rcParams.update({'font.size': 24})\n",
    "label_size = 18\n",
    "plt.rcParams['xtick.labelsize'] = label_size \n",
    "plt.rcParams['ytick.labelsize'] = label_size \n",
    "plt.rcParams['axes.linewidth'] = 5 # set the value globally\n",
    "plt.rc('axes', linewidth=2)\n",
    "\n",
    "fig = plt.figure()\n",
    "#fig=plt.figure(figsize=(2,1))\n",
    "#fig.set_size_inches(6.6,3.3)\n",
    "gs = gridspec.GridSpec(2, 1)\n",
    "#fig, ax = plt.subplots(ncols=1, nrows=1) # These arguments can be omitted for one\n",
    "\n",
    "\n",
    "plt.subplots_adjust(left=0.2,right=1.0,bottom=0.17,top=0.9)\n",
    "fig.set_size_inches(6,6)\n",
    "\n",
    "\n",
    "\n",
    "#plt.suptitle('Readability score')\n",
    "fig.text(0.04,0.5,'Distribution',va='center',rotation='vertical')\n",
    "fig.text(0.4,0.04,'Readability score',va='center')"
   ]
  },
  {
   "cell_type": "code",
   "execution_count": 55,
   "metadata": {},
   "outputs": [
    {
     "name": "stdout",
     "output_type": "stream",
     "text": [
      "Experts: Mean,variance: (81.31889958734524,270.2109886102749)\n",
      "Non experts: Mean,variance: 53.2105156538 1196.20723693\n"
     ]
    },
    {
     "data": {
      "image/png": "[encoded data removed]",
      "text/plain": [
       "<matplotlib.figure.Figure at 0x11d277fd0>"
      ]
     },
     "metadata": {},
     "output_type": "display_data"
    }
   ],
   "source": [
    "#X ticks\n",
    "\n",
    "#plt.ylabel('Distribution')\n",
    "\n",
    "#xmax=1000\n",
    "xsteps=int(xmax/10)\n",
    "xsteps_bins=int(xsteps/4)\n",
    "x=np.arange(xmin,xmax,xsteps) #xtics\n",
    "xx=np.arange(xmin,xmax,xsteps)\n",
    "\n",
    "# Panel 1\n",
    "ax1=plt.subplot(gs[0],facecolor='w')\n",
    "ax1.set_xlim([xmin, xmax])\n",
    "ax1.set_xticks(x)\n",
    "#ax1.set_ylim([0, 0.2])\n",
    "#ax1.set_yticks(np.arange(0,0.3,0.1))\n",
    "\n",
    "ax1.tick_params(labelbottom='off')  \n",
    "# Customize the grid\n",
    "ax1.grid(linestyle='--', linewidth='0.5', color='black',which='both')\n",
    "ax1.axhline(linewidth=4, color=\"black\")        # inc. width of x-axis and color it green\n",
    "ax1.axvline(linewidth=4, color=\"black\")\n",
    "\n",
    "#Class 0\n",
    "\n",
    "X=r1.values\n",
    "\n",
    "#n,bins,patches=plt.hist(X,nbins,normed=1,facecolor='blue',align='mid',label='Experts')\n",
    "n,bins,patches=plt.hist(X, bins=np.arange(0, xmax, xsteps_bins),normed=1,facecolor='blue',align='mid',label='Experts')\n",
    "\n",
    "mu=X.mean()\n",
    "var=X.var()\n",
    "#legend1=plt.legend(bbox_to_anchor=(0.45, 0.95), loc=0, borderaxespad=0., fontsize=label_size)\n",
    "\n",
    "\n",
    "print(\"Experts: Mean,variance: ({},{})\".format(mu,var))\n",
    "\n",
    "\n",
    "# Panel 2\n",
    "ax2=plt.subplot(gs[1],facecolor='w')\n",
    "ax2.set_xlim([xmin, xmax])\n",
    "ax2.set_xticks(x)\n",
    "#ax2.set_ylim([0, 0.2])\n",
    "#ax2.set_yticks(np.arange(0,0.3,0.1))\n",
    "ax2.grid(linestyle='--', linewidth='0.5', color='black',which='both')\n",
    "ax2.axhline(linewidth=4, color=\"black\")        # inc. width of x-axis and color it green\n",
    "ax2.axvline(linewidth=4, color=\"black\")\n",
    "\n",
    "\n",
    "#Class 1\n",
    "X=r2.values\n",
    "\n",
    "        \n",
    "#n,bins,patches=plt.hist(X,nbins,normed=1,facecolor='orange',align='mid',label='Non experts')\n",
    "n,bins,patches=plt.hist(X, bins=np.arange(0, xmax, xsteps_bins),normed=1,facecolor='orange',align='mid',label='Non experts')\n",
    "\n",
    "\n",
    "mu=X.mean()\n",
    "var=X.var()\n",
    "\n",
    "#legend2=plt.legend(bbox_to_anchor=(0.45, 0.95), loc=0, borderaxespad=0., fontsize=label_size,frameon=1)\n",
    "\n",
    "\n",
    "print(\"Non experts: Mean,variance:\",mu,var)\n",
    "\n",
    "\n",
    "plt.show()"
   ]
  },
  {
   "cell_type": "code",
   "execution_count": null,
   "metadata": {
    "collapsed": true
   },
   "outputs": [],
   "source": []
  }
 ],
 "metadata": {
  "kernelspec": {
   "display_name": "Python 3",
   "language": "python",
   "name": "python3"
  },
  "language_info": {
   "codemirror_mode": {
    "name": "ipython",
    "version": 3
   },
   "file_extension": ".py",
   "mimetype": "text/x-python",
   "name": "python",
   "nbconvert_exporter": "python",
   "pygments_lexer": "ipython3",
   "version": "3.6.1"
  }
 },
 "nbformat": 4,
 "nbformat_minor": 2
}
