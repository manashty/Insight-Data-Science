{
 "cells": [
  {
   "cell_type": "code",
   "execution_count": 1,
   "metadata": {
    "collapsed": true
   },
   "outputs": [],
   "source": [
    "from collections import defaultdict\n",
    "from gensim import corpora, models, similarities\n",
    "def make_dictionary(documents):\n",
    "    \"\"\"\n",
    "    construct a dictionary, i.e. mapping btwn word ids and their freq of occurence in the whole corpus\n",
    "    filter dictionary to remove stopwords and words occuring < min_count times\n",
    "    \n",
    "    input: documents is an iterable consisting of all the words in the corpus \n",
    "    output: filtered dictionary\n",
    "    \"\"\"\n",
    "\n",
    "    \n",
    "    dictionary = corpora.Dictionary(documents)\n",
    "\n",
    "    stop_words = nltk.corpus.stopwords.words('english') \n",
    "    min_count = 2\n",
    "    stop_ids = [dictionary.token2id[word] for word in stop_words\n",
    "               if word in dictionary.token2id]\n",
    "    rare_ids = [id for id, freq in dictionary.dfs.items()\n",
    "                if freq < min_count]\n",
    "    dictionary.filter_tokens(stop_ids + rare_ids)\n",
    "    dictionary.compactify()\n",
    "    return(dictionary)\n",
    "\n",
    "def make_corpus(documents):\n",
    "    \"\"\"\n",
    "    \"\"\"\n",
    "    dictionary = make_dictionary(documents)\n",
    "    # convert corpus to vectors using bag-of-words representation, i.e. tuples of word indices and word counts\n",
    "    corpus = [dictionary.doc2bow(words) for words in documents]\n",
    "    return(corpus, dictionary)\n",
    "\n",
    "\n"
   ]
  },
  {
   "cell_type": "code",
   "execution_count": 2,
   "metadata": {
    "collapsed": true
   },
   "outputs": [],
   "source": [
    "import pandas as pd\n",
    "import os\n",
    "\n",
    "# Read datasets from file:\n",
    "\n",
    "os.chdir('../data/')\n",
    "# Read dataframe\n",
    "input_fname=\"AutismParentMagazine-posts-tokens.csv\"\n",
    "\n",
    "# Get categories and ids from dataset\n",
    "df = pd.read_csv(input_fname,index_col=0)\n",
    "df.head(2)\n",
    "ids=df.index"
   ]
  },
  {
   "cell_type": "code",
   "execution_count": 3,
   "metadata": {
    "collapsed": true
   },
   "outputs": [],
   "source": [
    "import pickle\n",
    "# Read models and evaluate the score\n",
    "lsi = models.LsiModel.load('lsi-model.save')\n",
    "tfidf = models.TfidfModel.load('tfidf.save')\n",
    "dictionary = pickle.load(open(\"dictionary.save\", \"rb\"))\n",
    "matsim = similarities.MatrixSimilarity.load('lsi-matsim.save')\n"
   ]
  },
  {
   "cell_type": "code",
   "execution_count": 4,
   "metadata": {},
   "outputs": [
    {
     "name": "stdout",
     "output_type": "stream",
     "text": [
      "child school\n",
      "['child', 'school']\n"
     ]
    }
   ],
   "source": [
    "\n"
   ]
  },
  {
   "cell_type": "code",
   "execution_count": 11,
   "metadata": {},
   "outputs": [
    {
     "name": "stdout",
     "output_type": "stream",
     "text": [
      "language speaking\n",
      "['language', 'speaking']\n",
      "[(120, 0.81458425521850586), (191, 0.34226500988006592), (44, 0.31233096122741699), (31, 0.31233096122741699)]\n",
      "Targeting Language Delays: 0.8145842552185059\n",
      "Issue 19 – Power of Language: 0.3422650098800659\n",
      "Successful Indian Head Massage for People with Special Needs: 0.312330961227417\n",
      "Successful Indian Head Massage for People with Special Needs: 0.312330961227417\n"
     ]
    }
   ],
   "source": [
    "query=\"language speaking\"\n",
    "\n",
    "# Tokenize data\n",
    "import nltk\n",
    "tokenizer = nltk.RegexpTokenizer(r'\\w+')\n",
    "\n",
    "# Get list of tokens from text in first article:\n",
    "text = query.lower()\n",
    "ttext = tokenizer.tokenize(text)\n",
    "print( text )\n",
    "print( ttext )\n",
    "vec_bow = dictionary.doc2bow(query.lower().split())\n",
    "\n",
    "vec_lsi = lsi[tfidf[vec_bow]] # convert the query to LSI space\n",
    "\n",
    "sims = matsim[vec_lsi]\n",
    "print(sims)\n",
    "\n",
    "for aid,score in sims:\n",
    "    title=df['title'][aid]\n",
    "    print(\"{}: {}\".format(title,score))\n"
   ]
  },
  {
   "cell_type": "code",
   "execution_count": null,
   "metadata": {
    "collapsed": true
   },
   "outputs": [],
   "source": []
  }
 ],
 "metadata": {
  "kernelspec": {
   "display_name": "Python 3",
   "language": "python",
   "name": "python3"
  },
  "language_info": {
   "codemirror_mode": {
    "name": "ipython",
    "version": 3
   },
   "file_extension": ".py",
   "mimetype": "text/x-python",
   "name": "python",
   "nbconvert_exporter": "python",
   "pygments_lexer": "ipython3",
   "version": "3.6.1"
  }
 },
 "nbformat": 4,
 "nbformat_minor": 2
}
