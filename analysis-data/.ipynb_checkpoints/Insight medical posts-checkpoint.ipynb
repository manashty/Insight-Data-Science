{
 "cells": [
  {
   "cell_type": "markdown",
   "metadata": {},
   "source": [
    "# Insights from medical posts\n",
    "\n",
    "\n",
    "In this notebook, I try to find characteristics of medical posts.\n",
    "\n",
    "1. What is the ratio of post from professionals vs. those from general public?   \n",
    "2. What are the characteristics that well-separate professional-level posts?   \n",
    "  * Length of text   \n",
    "  * Usage of offending vocabulary   \n",
    "  * Writing level   \n",
    "  "
   ]
  },
  {
   "cell_type": "code",
   "execution_count": 1,
   "metadata": {
    "collapsed": true
   },
   "outputs": [],
   "source": [
    "\n",
    "# Set up paths/ os\n",
    "import os\n",
    "import sys\n",
    "\n",
    "this_path=os.getcwd()\n",
    "os.chdir(\"../data\")\n",
    "sys.path.insert(0, this_path)\n"
   ]
  },
  {
   "cell_type": "code",
   "execution_count": 2,
   "metadata": {},
   "outputs": [
    {
     "data": {
      "text/html": [
       "<div>\n",
       "<style>\n",
       "    .dataframe thead tr:only-child th {\n",
       "        text-align: right;\n",
       "    }\n",
       "\n",
       "    .dataframe thead th {\n",
       "        text-align: left;\n",
       "    }\n",
       "\n",
       "    .dataframe tbody tr th {\n",
       "        vertical-align: top;\n",
       "    }\n",
       "</style>\n",
       "<table border=\"1\" class=\"dataframe\">\n",
       "  <thead>\n",
       "    <tr style=\"text-align: right;\">\n",
       "      <th></th>\n",
       "      <th>title</th>\n",
       "      <th>text</th>\n",
       "      <th>href</th>\n",
       "      <th>user id</th>\n",
       "      <th>mother post id</th>\n",
       "    </tr>\n",
       "    <tr>\n",
       "      <th>post id</th>\n",
       "      <th></th>\n",
       "      <th></th>\n",
       "      <th></th>\n",
       "      <th></th>\n",
       "      <th></th>\n",
       "    </tr>\n",
       "  </thead>\n",
       "  <tbody>\n",
       "    <tr>\n",
       "      <th>1</th>\n",
       "      <td>Inappropriate Masterbation Down Syndrome</td>\n",
       "      <td>\\n        It is common for children and adoles...</td>\n",
       "      <td>http://www.medhelp.org//posts/Autism--Asperger...</td>\n",
       "      <td>user_340688</td>\n",
       "      <td>1</td>\n",
       "    </tr>\n",
       "    <tr>\n",
       "      <th>2</th>\n",
       "      <td>Inappropriate Masterbation Down Syndrome</td>\n",
       "      <td>\\n        A related discussion, self injusry i...</td>\n",
       "      <td>http://www.medhelp.org//posts/Autism--Asperger...</td>\n",
       "      <td>user_1566928</td>\n",
       "      <td>1</td>\n",
       "    </tr>\n",
       "  </tbody>\n",
       "</table>\n",
       "</div>"
      ],
      "text/plain": [
       "                                            title  \\\n",
       "post id                                             \n",
       "1        Inappropriate Masterbation Down Syndrome   \n",
       "2        Inappropriate Masterbation Down Syndrome   \n",
       "\n",
       "                                                      text  \\\n",
       "post id                                                      \n",
       "1        \\n        It is common for children and adoles...   \n",
       "2        \\n        A related discussion, self injusry i...   \n",
       "\n",
       "                                                      href       user id  \\\n",
       "post id                                                                    \n",
       "1        http://www.medhelp.org//posts/Autism--Asperger...   user_340688   \n",
       "2        http://www.medhelp.org//posts/Autism--Asperger...  user_1566928   \n",
       "\n",
       "         mother post id  \n",
       "post id                  \n",
       "1                     1  \n",
       "2                     1  "
      ]
     },
     "execution_count": 2,
     "metadata": {},
     "output_type": "execute_result"
    }
   ],
   "source": [
    "# Load datasets\n",
    "import pandas as pd\n",
    "\n",
    "df =  pd.read_csv(\"MedHelp-posts.csv\",index_col=0)\n",
    "df.head(2)"
   ]
  },
  {
   "cell_type": "code",
   "execution_count": 3,
   "metadata": {},
   "outputs": [
    {
     "data": {
      "text/html": [
       "<div>\n",
       "<style>\n",
       "    .dataframe thead tr:only-child th {\n",
       "        text-align: right;\n",
       "    }\n",
       "\n",
       "    .dataframe thead th {\n",
       "        text-align: left;\n",
       "    }\n",
       "\n",
       "    .dataframe tbody tr th {\n",
       "        vertical-align: top;\n",
       "    }\n",
       "</style>\n",
       "<table border=\"1\" class=\"dataframe\">\n",
       "  <thead>\n",
       "    <tr style=\"text-align: right;\">\n",
       "      <th></th>\n",
       "      <th>user description</th>\n",
       "    </tr>\n",
       "    <tr>\n",
       "      <th>user id</th>\n",
       "      <th></th>\n",
       "    </tr>\n",
       "  </thead>\n",
       "  <tbody>\n",
       "    <tr>\n",
       "      <th>user_340688</th>\n",
       "      <td>Rachel  Thompson, Ph.D., BCBA</td>\n",
       "    </tr>\n",
       "    <tr>\n",
       "      <th>user_1566928</th>\n",
       "      <td>CirclesLady29</td>\n",
       "    </tr>\n",
       "  </tbody>\n",
       "</table>\n",
       "</div>"
      ],
      "text/plain": [
       "                           user description\n",
       "user id                                    \n",
       "user_340688   Rachel  Thompson, Ph.D., BCBA\n",
       "user_1566928                  CirclesLady29"
      ]
     },
     "execution_count": 3,
     "metadata": {},
     "output_type": "execute_result"
    }
   ],
   "source": [
    "df_users = pd.read_csv(\"MedHelp-users.csv\",index_col=0)\n",
    "df_users.head(2)"
   ]
  },
  {
   "cell_type": "code",
   "execution_count": 4,
   "metadata": {},
   "outputs": [
    {
     "name": "stdout",
     "output_type": "stream",
     "text": [
      "Rachel  Thompson, Ph.D., BCBA\n",
      "Myrna  Libby, Ph.D., BCBA\n",
      "Jason C Bourret, Ph.D., BCBA-D\n",
      "Tali  Shenfield, PhD\n",
      "Richard B. Graff, PhD, BCBA-D\n",
      "Jessica L Thomason Sassi, Ph.D., BCBA-D\n",
      "William L. Holcomb, Ph.D., BCBA-D\n",
      "Eileen  Roscoe, PhD\n",
      "Rebecca  MacDonald, Ph.D., BCBA\n",
      "William H Ahearn, Ph.D., BCBA\n"
     ]
    }
   ],
   "source": [
    "# 1 classify users as professionals and general public:\n",
    "\n",
    "df_users['is expert']=0\n",
    "\n",
    "for user_id in df_users.index:\n",
    "    user_description=df_users.loc[user_id,['user description']].values\n",
    "    if ( \",\" in user_description[0]):\n",
    "        print(user_description[0])\n",
    "        df_users.loc[user_id,['is expert']]=1\n",
    "\n"
   ]
  },
  {
   "cell_type": "code",
   "execution_count": 5,
   "metadata": {},
   "outputs": [
    {
     "data": {
      "text/plain": [
       "False    495\n",
       "True      10\n",
       "Name: is expert, dtype: int64"
      ]
     },
     "execution_count": 5,
     "metadata": {},
     "output_type": "execute_result"
    }
   ],
   "source": [
    "is_expert=df_users['is expert'] == 1\n",
    "is_expert.value_counts()"
   ]
  },
  {
   "cell_type": "markdown",
   "metadata": {},
   "source": [
    "Only **10 out of 505** users are experts!   \n",
    "This corresponds to **2 %** of users."
   ]
  },
  {
   "cell_type": "code",
   "execution_count": 6,
   "metadata": {
    "collapsed": true
   },
   "outputs": [],
   "source": [
    "# Select user_id from DB where is_professional = 1\n",
    "experts_ids = df_users[df_users['is expert'] == 1 ].index.values\n",
    "experts_ids\n",
    "\n",
    "non_experts_ids = df_users[df_users['is expert'] == 0 ].index.values"
   ]
  },
  {
   "cell_type": "code",
   "execution_count": 7,
   "metadata": {},
   "outputs": [
    {
     "name": "stdout",
     "output_type": "stream",
     "text": [
      "Total of posts from expert users 727\n",
      "Total of posts 1813\n",
      "Ratio 0.40099282956425814\n"
     ]
    }
   ],
   "source": [
    "# Select * where user_id in experts_ids\n",
    "#df_users.loc[df_users.index.isin(experts_ids)]\n",
    "\n",
    "df_experts=df.loc[df['user id'].isin(experts_ids)]\n",
    "print('Total of posts from expert users {}'.format(len(df_experts)))\n",
    "print('Total of posts {}'.format(len(df)))\n",
    "print('Ratio {}'.format(len(df_experts)/len(df)))\n",
    "del df_experts"
   ]
  },
  {
   "cell_type": "markdown",
   "metadata": {},
   "source": [
    "# Length ot text"
   ]
  },
  {
   "cell_type": "code",
   "execution_count": 8,
   "metadata": {
    "collapsed": true
   },
   "outputs": [],
   "source": [
    "# Tokenize data\n",
    "import nltk\n",
    "tokenizer = nltk.RegexpTokenizer(r'\\w+')\n",
    "\n",
    "# Get the length of tokens into a columns\n",
    "df_text = df['text'].str.lower()\n",
    "df_token = df_text.apply(tokenizer.tokenize)\n",
    "df['token length'] = df_token.apply(len)\n",
    "\n",
    "\n",
    "\n",
    "\n",
    "# Get list of tokens from text in first article:\n",
    "\n",
    "#for text in df_text.values:\n",
    "#    ttext = tokenizer.tokenize(text.lower())\n",
    "#    lenght_text=len(ttext)\n",
    "#    break"
   ]
  },
  {
   "cell_type": "code",
   "execution_count": 9,
   "metadata": {
    "collapsed": true
   },
   "outputs": [],
   "source": [
    "import matplotlib.pyplot as plt\n",
    "import seaborn as sns\n",
    "import matplotlib.mlab as mlab\n",
    "from matplotlib import gridspec\n",
    "from scipy.stats import norm\n",
    "import numpy as np\n",
    "from scipy.optimize import curve_fit\n",
    "from lognormal import lognormal, lognormal_stats,truncated_normal\n",
    "from scipy.stats import truncnorm\n"
   ]
  },
  {
   "cell_type": "code",
   "execution_count": 10,
   "metadata": {},
   "outputs": [
    {
     "data": {
      "text/plain": [
       "<matplotlib.text.Text at 0x118de45f8>"
      ]
     },
     "execution_count": 10,
     "metadata": {},
     "output_type": "execute_result"
    }
   ],
   "source": [
    "plt.rcParams['text.usetex'] = True\n",
    "plt.rcParams['text.latex.unicode'] = True\n",
    "\n",
    "plt.rcParams.update({'font.size': 24})\n",
    "\n",
    "nbins=100\n",
    "\n",
    "\n",
    "fig = plt.figure()\n",
    "#fig=plt.figure(figsize=(2,1))\n",
    "#fig.set_size_inches(6.6,3.3)\n",
    "gs = gridspec.GridSpec(2, 1)\n",
    "#plt.subplots_adjust(left=0.1,right=1.0,bottom=0.17,top=0.9)\n",
    "\n",
    "\n",
    "#plt.suptitle('Text length (words count)')\n",
    "fig.text(0.04,0.5,'Distribution',va='center',rotation='vertical')"
   ]
  },
  {
   "cell_type": "code",
   "execution_count": 13,
   "metadata": {},
   "outputs": [
    {
     "name": "stdout",
     "output_type": "stream",
     "text": [
      "[ 96.97554606  52.03452703]\n",
      "Class 0: Mean,variance: (176.15745856353593,37789.182389121204)\n",
      "Class 1: Mean,variance: (159.5126437825775, 14611.355984084914)\n"
     ]
    },
    {
     "data": {
      "image/png": "[encoded data removed]",
      "text/plain": [
       "<matplotlib.figure.Figure at 0x11c2188d0>"
      ]
     },
     "metadata": {},
     "output_type": "display_data"
    }
   ],
   "source": [
    "#X ticks\n",
    "\n",
    "xmax=1000\n",
    "x=np.arange(0,xmax,100) #xtics\n",
    "xx=np.arange(1,xmax,1)\n",
    "\n",
    "# Panel 1\n",
    "ax1=plt.subplot(gs[0])\n",
    "ax1.set_xlim([0, xmax])\n",
    "ax1.set_xticks(x)\n",
    "ax1.tick_params(labelbottom='off')    \n",
    "\n",
    "\n",
    "#plt.ylabel('')\n",
    "#Class 0\n",
    "X=df.loc[df['user id'].isin(non_experts_ids)]['token length'].values\n",
    "n,bins,patches=plt.hist(X,nbins,normed=1,facecolor='cyan',align='mid')\n",
    "\n",
    "popt,pcov = curve_fit(truncated_normal,bins[:nbins],n)\n",
    "plt.legend(handles=[c0],bbox_to_anchor=(0.45, 0.95), loc=2, borderaxespad=0.)\n",
    "\n",
    "\n",
    "c0,=plt.plot(xx,truncated_normal(xx,*popt),color='blue',label='non expert')\n",
    "\n",
    "print(popt)\n",
    "mu=X.mean()\n",
    "var=X.var()\n",
    "print(\"Class 0: Mean,variance: ({},{})\".format(mu,var))\n",
    "\n",
    "\n",
    "\n",
    "# Panel 2\n",
    "ax2=plt.subplot(gs[1])\n",
    "ax2.set_xlim([0, xmax])\n",
    "ax2.set_xticks(x)\n",
    "#ax2.set_yticks(np.arange(0,8,2))\n",
    "#plt.ylabel('Normal distribution')\n",
    "\n",
    "#Class 1\n",
    "X=df.loc[df['user id'].isin(experts_ids)]['token length'].values\n",
    "#(mu,sigma) = norm.fit(X)\n",
    "n,bins,patches=plt.hist(X,nbins,normed=1,facecolor='orange',align='mid')\n",
    "popt,pcov = curve_fit(lognormal,bins[:nbins],n)\n",
    "#c1,=plt.plot(xx,mlab.normpdf(xx, mu, sigma),color='darkorange',label='layered')\n",
    "c1,=plt.plot(xx,lognormal(xx,*popt),color='red',label='expert')\n",
    "plt.legend(handles=[c1],bbox_to_anchor=(0.45, 0.95), loc=2, borderaxespad=0.)\n",
    "print(\"Class 1: Mean,variance:\",lognormal_stats(*popt))\n",
    "\n",
    "\n",
    "#plt.xlabel('Volume ratio (theor./expt.)')\n",
    "\n",
    "plt.show()"
   ]
  },
  {
   "cell_type": "raw",
   "metadata": {},
   "source": [
    "#This is a useful example of truncated Gaussian\n",
    "fig=plt.figure()\n",
    "\n",
    "\n",
    "from scipy.stats import truncnorm\n",
    "\n",
    "def get_truncated_normal(mean=0, sd=1, low=0, upp=10):\n",
    "    return truncnorm(\n",
    "        (low - mean) / sd, (upp - mean) / sd, loc=mean, scale=sd)\n",
    "\n",
    "X1 = get_truncated_normal(mean=0, sd=1, low=1, upp=10)\n",
    "X2 = get_truncated_normal(mean=5.5, sd=1, low=1, upp=10)\n",
    "X3 = get_truncated_normal(mean=8, sd=1, low=1, upp=10)\n",
    "\n",
    "import matplotlib.pyplot as plt\n",
    "fig, ax = plt.subplots(3, sharex=True)\n",
    "ax[0].hist(X1.rvs(10000), normed=True)\n",
    "\n",
    "ax[1].hist(X2.rvs(10000), normed=True)\n",
    "ax[2].hist(X3.rvs(10000), normed=True)\n",
    "plt.show()\n"
   ]
  },
  {
   "cell_type": "code",
   "execution_count": null,
   "metadata": {
    "collapsed": true
   },
   "outputs": [],
   "source": []
  }
 ],
 "metadata": {
  "kernelspec": {
   "display_name": "Python 3",
   "language": "python",
   "name": "python3"
  },
  "language_info": {
   "codemirror_mode": {
    "name": "ipython",
    "version": 3
   },
   "file_extension": ".py",
   "mimetype": "text/x-python",
   "name": "python",
   "nbconvert_exporter": "python",
   "pygments_lexer": "ipython3",
   "version": "3.6.1"
  }
 },
 "nbformat": 4,
 "nbformat_minor": 2
}
