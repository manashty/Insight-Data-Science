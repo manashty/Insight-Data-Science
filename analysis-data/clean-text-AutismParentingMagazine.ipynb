{
 "cells": [
  {
   "cell_type": "code",
   "execution_count": 1,
   "metadata": {
    "collapsed": true
   },
   "outputs": [],
   "source": [
    "import pandas as pd"
   ]
  },
  {
   "cell_type": "code",
   "execution_count": 2,
   "metadata": {
    "collapsed": true
   },
   "outputs": [],
   "source": [
    "# Set up paths/ os\n",
    "import os\n",
    "import sys\n",
    "\n",
    "this_path=os.getcwd()\n",
    "os.chdir(\"../data\")\n",
    "sys.path.insert(0, this_path)"
   ]
  },
  {
   "cell_type": "code",
   "execution_count": 3,
   "metadata": {},
   "outputs": [
    {
     "data": {
      "text/html": [
       "<div>\n",
       "<style>\n",
       "    .dataframe thead tr:only-child th {\n",
       "        text-align: right;\n",
       "    }\n",
       "\n",
       "    .dataframe thead th {\n",
       "        text-align: left;\n",
       "    }\n",
       "\n",
       "    .dataframe tbody tr th {\n",
       "        vertical-align: top;\n",
       "    }\n",
       "</style>\n",
       "<table border=\"1\" class=\"dataframe\">\n",
       "  <thead>\n",
       "    <tr style=\"text-align: right;\">\n",
       "      <th></th>\n",
       "      <th>title</th>\n",
       "      <th>source</th>\n",
       "      <th>category</th>\n",
       "      <th>text</th>\n",
       "      <th>href</th>\n",
       "    </tr>\n",
       "  </thead>\n",
       "  <tbody>\n",
       "    <tr>\n",
       "      <th>0</th>\n",
       "      <td>Autism, Head Banging and other Self Harming Be...</td>\n",
       "      <td>https://www.autismparentingmagazine.com/</td>\n",
       "      <td>category-applied-behavior-analysis-aba</td>\n",
       "      <td>For children with autism spectrum disorder (AS...</td>\n",
       "      <td>https://www.autismparentingmagazine.com/autism...</td>\n",
       "    </tr>\n",
       "    <tr>\n",
       "      <th>1</th>\n",
       "      <td>High Quality ABA Treatment:  What Every Parent...</td>\n",
       "      <td>https://www.autismparentingmagazine.com/</td>\n",
       "      <td>category-applied-behavior-analysis-aba</td>\n",
       "      <td>Dr. Stephen Shore once said “If you’ve met one...</td>\n",
       "      <td>https://www.autismparentingmagazine.com/high-q...</td>\n",
       "    </tr>\n",
       "  </tbody>\n",
       "</table>\n",
       "</div>"
      ],
      "text/plain": [
       "                                               title  \\\n",
       "0  Autism, Head Banging and other Self Harming Be...   \n",
       "1  High Quality ABA Treatment:  What Every Parent...   \n",
       "\n",
       "                                     source  \\\n",
       "0  https://www.autismparentingmagazine.com/   \n",
       "1  https://www.autismparentingmagazine.com/   \n",
       "\n",
       "                                 category  \\\n",
       "0  category-applied-behavior-analysis-aba   \n",
       "1  category-applied-behavior-analysis-aba   \n",
       "\n",
       "                                                text  \\\n",
       "0  For children with autism spectrum disorder (AS...   \n",
       "1  Dr. Stephen Shore once said “If you’ve met one...   \n",
       "\n",
       "                                                href  \n",
       "0  https://www.autismparentingmagazine.com/autism...  \n",
       "1  https://www.autismparentingmagazine.com/high-q...  "
      ]
     },
     "execution_count": 3,
     "metadata": {},
     "output_type": "execute_result"
    }
   ],
   "source": [
    "infile=\"AutismParentMagazine-posts.csv\"\n",
    "df = pd.read_csv(infile,index_col=0)\n",
    "df.head(2)"
   ]
  },
  {
   "cell_type": "code",
   "execution_count": 4,
   "metadata": {
    "collapsed": true
   },
   "outputs": [],
   "source": [
    "df['text']=df['text'].map(lambda x: x.replace(\"Continue Reading\",\"\"))"
   ]
  },
  {
   "cell_type": "code",
   "execution_count": 5,
   "metadata": {
    "collapsed": true
   },
   "outputs": [],
   "source": [
    "# Make categories, a list of categories in case of duplicates:\n",
    "\n",
    "# Find list of unique titles\n",
    "unique_titles=df['title'].unique()\n",
    "\n",
    "# Find list of categories for each title:\n",
    "dic_category={}\n",
    "for title in unique_titles:\n",
    "    cat_list=df.loc[df['title']==title]['category'].values\n",
    "    # Remove repated elements, by converting to set and back to list\n",
    "    cat_set=set(cat_list)\n",
    "    cat_list=list(cat_set)\n",
    "    dic_category[title]=cat_list\n"
   ]
  },
  {
   "cell_type": "raw",
   "metadata": {},
   "source": [
    "# Join the two very similar categories into one.\n",
    "\n",
    "cat1='category-general'\n",
    "cat2='category-autism-articles'\n",
    "\n",
    "row_index=df.loc[df['category']==cat2].index\n",
    "for row in row_index:\n",
    "    df.loc[row,['category']]=cat1\n",
    "    \n",
    "cat1='category-autism-therapy'\n",
    "cat2='category-applied-behavior-analysis-aba'\n",
    "row_index=df.loc[df['category']==cat2].index\n",
    "for row in row_index:\n",
    "    df.loc[row,['category']]=cat1\n",
    "    \n",
    "cat1='category-autism-and-diet'\n",
    "cat2='category-autism-and-food'\n",
    "row_index=df.loc[df['category']==cat2].index\n",
    "for row in row_index:\n",
    "    df.loc[row,['category']]=cat1"
   ]
  },
  {
   "cell_type": "code",
   "execution_count": 6,
   "metadata": {},
   "outputs": [
    {
     "data": {
      "text/html": [
       "<div>\n",
       "<style>\n",
       "    .dataframe thead tr:only-child th {\n",
       "        text-align: right;\n",
       "    }\n",
       "\n",
       "    .dataframe thead th {\n",
       "        text-align: left;\n",
       "    }\n",
       "\n",
       "    .dataframe tbody tr th {\n",
       "        vertical-align: top;\n",
       "    }\n",
       "</style>\n",
       "<table border=\"1\" class=\"dataframe\">\n",
       "  <thead>\n",
       "    <tr style=\"text-align: right;\">\n",
       "      <th></th>\n",
       "      <th>title</th>\n",
       "      <th>source</th>\n",
       "      <th>category</th>\n",
       "      <th>text</th>\n",
       "      <th>href</th>\n",
       "    </tr>\n",
       "  </thead>\n",
       "  <tbody>\n",
       "    <tr>\n",
       "      <th>0</th>\n",
       "      <td>Autism, Head Banging and other Self Harming Be...</td>\n",
       "      <td>https://www.autismparentingmagazine.com/</td>\n",
       "      <td>category-applied-behavior-analysis-aba</td>\n",
       "      <td>For children with autism spectrum disorder (AS...</td>\n",
       "      <td>https://www.autismparentingmagazine.com/autism...</td>\n",
       "    </tr>\n",
       "    <tr>\n",
       "      <th>1</th>\n",
       "      <td>High Quality ABA Treatment:  What Every Parent...</td>\n",
       "      <td>https://www.autismparentingmagazine.com/</td>\n",
       "      <td>category-applied-behavior-analysis-aba</td>\n",
       "      <td>Dr. Stephen Shore once said “If you’ve met one...</td>\n",
       "      <td>https://www.autismparentingmagazine.com/high-q...</td>\n",
       "    </tr>\n",
       "  </tbody>\n",
       "</table>\n",
       "</div>"
      ],
      "text/plain": [
       "                                               title  \\\n",
       "0  Autism, Head Banging and other Self Harming Be...   \n",
       "1  High Quality ABA Treatment:  What Every Parent...   \n",
       "\n",
       "                                     source  \\\n",
       "0  https://www.autismparentingmagazine.com/   \n",
       "1  https://www.autismparentingmagazine.com/   \n",
       "\n",
       "                                 category  \\\n",
       "0  category-applied-behavior-analysis-aba   \n",
       "1  category-applied-behavior-analysis-aba   \n",
       "\n",
       "                                                text  \\\n",
       "0  For children with autism spectrum disorder (AS...   \n",
       "1  Dr. Stephen Shore once said “If you’ve met one...   \n",
       "\n",
       "                                                href  \n",
       "0  https://www.autismparentingmagazine.com/autism...  \n",
       "1  https://www.autismparentingmagazine.com/high-q...  "
      ]
     },
     "execution_count": 6,
     "metadata": {},
     "output_type": "execute_result"
    }
   ],
   "source": [
    "# Check if there are repeated elements, and make category a list.\n",
    "df=df.drop_duplicates('title')\n",
    "df=df.reset_index(drop=True)\n",
    "df.head(2)"
   ]
  },
  {
   "cell_type": "code",
   "execution_count": 7,
   "metadata": {
    "collapsed": true
   },
   "outputs": [],
   "source": [
    "for ii in df.index:\n",
    "    title=df.loc[ii,['title']].values[0]\n",
    "    category=dic_category[title]\n",
    "    df.loc[ii,['category']]=str(category)"
   ]
  },
  {
   "cell_type": "code",
   "execution_count": 8,
   "metadata": {
    "collapsed": true
   },
   "outputs": [],
   "source": [
    "outfile=\"AutismParentMagazine-posts-clean.csv\"\n",
    "df.to_csv(outfile)"
   ]
  }
 ],
 "metadata": {
  "kernelspec": {
   "display_name": "Python 3",
   "language": "python",
   "name": "python3"
  },
  "language_info": {
   "codemirror_mode": {
    "name": "ipython",
    "version": 3
   },
   "file_extension": ".py",
   "mimetype": "text/x-python",
   "name": "python",
   "nbconvert_exporter": "python",
   "pygments_lexer": "ipython3",
   "version": "3.6.1"
  }
 },
 "nbformat": 4,
 "nbformat_minor": 2
}
