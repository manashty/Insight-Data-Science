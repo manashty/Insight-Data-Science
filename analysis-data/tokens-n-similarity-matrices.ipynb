{
 "cells": [
  {
   "cell_type": "code",
   "execution_count": 1,
   "metadata": {
    "collapsed": true
   },
   "outputs": [],
   "source": [
    "import sys, os\n",
    "import nltk\n",
    "import pandas as pd"
   ]
  },
  {
   "cell_type": "code",
   "execution_count": 2,
   "metadata": {
    "collapsed": true
   },
   "outputs": [],
   "source": [
    "from collections import defaultdict\n",
    "from gensim import corpora, models, similarities\n",
    "def make_dictionary(documents):\n",
    "    \"\"\"\n",
    "    construct a dictionary, i.e. mapping btwn word ids and their freq of occurence in the whole corpus\n",
    "    filter dictionary to remove stopwords and words occuring < min_count times\n",
    "    \n",
    "    input: documents is an iterable consisting of all the words in the corpus \n",
    "    output: filtered dictionary\n",
    "    \"\"\"\n",
    "\n",
    "    \n",
    "    dictionary = corpora.Dictionary(documents)\n",
    "\n",
    "    stop_words = nltk.corpus.stopwords.words('english') \n",
    "    min_count = 2\n",
    "    stop_ids = [dictionary.token2id[word] for word in stop_words\n",
    "               if word in dictionary.token2id]\n",
    "    rare_ids = [id for id, freq in dictionary.dfs.items()\n",
    "                if freq < min_count]\n",
    "    dictionary.filter_tokens(stop_ids + rare_ids)\n",
    "    dictionary.compactify()\n",
    "    return(dictionary)\n",
    "\n",
    "def make_corpus(documents):\n",
    "    \"\"\"\n",
    "    \"\"\"\n",
    "    dictionary = make_dictionary(documents)\n",
    "    # convert corpus to vectors using bag-of-words representation, i.e. tuples of word indices and word counts\n",
    "    corpus = [dictionary.doc2bow(words) for words in documents]\n",
    "    return(corpus, dictionary)\n",
    "\n",
    "def make_lsi_similarity_matrix(tfidf_corpus, dictionary):\n",
    "    \"\"\"\n",
    "    construct LSI (latent semantic indexing) model on Tfidf-transformed corpus, print model topics, \n",
    "    return similarity matrix.\n",
    "    \"\"\"\n",
    "    # construct model\n",
    "    lsi = models.lsimodel.LsiModel(tfidf_corpus, id2word=dictionary, num_topics=200) \n",
    "    lsi.save('similarity-matrix.lsi')\n",
    "    # create similarity matrix\n",
    "    matsim = similarities.MatrixSimilarity(lsi[tfidf_corpus], num_best=3)\n",
    "    return(matsim)\n",
    "\n",
    "def make_lda_similarity_matrix(corpus, dictionary):\n",
    "    \"\"\"\n",
    "    Latent Dirichlet Allocation (LDA) model\n",
    "    \"\"\"\n",
    "    # construct model\n",
    "    lda = models.ldamodel.LdaModel(corpus, id2word=dictionary, num_topics=200)\n",
    "    lda.save('similarity-matrix.lda')\n",
    "    # create similarity matrix\n",
    "    matsim = similarities.MatrixSimilarity(lda[corpus], num_best=3)\n",
    "    return(matsim)"
   ]
  },
  {
   "cell_type": "code",
   "execution_count": 3,
   "metadata": {},
   "outputs": [
    {
     "data": {
      "text/html": [
       "<div>\n",
       "<style>\n",
       "    .dataframe thead tr:only-child th {\n",
       "        text-align: right;\n",
       "    }\n",
       "\n",
       "    .dataframe thead th {\n",
       "        text-align: left;\n",
       "    }\n",
       "\n",
       "    .dataframe tbody tr th {\n",
       "        vertical-align: top;\n",
       "    }\n",
       "</style>\n",
       "<table border=\"1\" class=\"dataframe\">\n",
       "  <thead>\n",
       "    <tr style=\"text-align: right;\">\n",
       "      <th></th>\n",
       "      <th>title</th>\n",
       "      <th>source</th>\n",
       "      <th>category</th>\n",
       "      <th>text</th>\n",
       "      <th>href</th>\n",
       "    </tr>\n",
       "  </thead>\n",
       "  <tbody>\n",
       "    <tr>\n",
       "      <th>0</th>\n",
       "      <td>Autism, Head Banging and other Self Harming Be...</td>\n",
       "      <td>https://www.autismparentingmagazine.com/</td>\n",
       "      <td>category-applied-behavior-analysis-aba</td>\n",
       "      <td>For children with autism spectrum disorder (AS...</td>\n",
       "      <td>https://www.autismparentingmagazine.com/autism...</td>\n",
       "    </tr>\n",
       "    <tr>\n",
       "      <th>1</th>\n",
       "      <td>High Quality ABA Treatment:  What Every Parent...</td>\n",
       "      <td>https://www.autismparentingmagazine.com/</td>\n",
       "      <td>category-applied-behavior-analysis-aba</td>\n",
       "      <td>Dr. Stephen Shore once said “If you’ve met one...</td>\n",
       "      <td>https://www.autismparentingmagazine.com/high-q...</td>\n",
       "    </tr>\n",
       "    <tr>\n",
       "      <th>2</th>\n",
       "      <td>Help: I Don’t Know How to Choose an Applied Be...</td>\n",
       "      <td>https://www.autismparentingmagazine.com/</td>\n",
       "      <td>category-applied-behavior-analysis-aba</td>\n",
       "      <td>Help! I am going to be starting Applied Behav...</td>\n",
       "      <td>https://www.autismparentingmagazine.com/choosi...</td>\n",
       "    </tr>\n",
       "    <tr>\n",
       "      <th>3</th>\n",
       "      <td>HELP: My Autistic Child is Absolutely Terrifie...</td>\n",
       "      <td>https://www.autismparentingmagazine.com/</td>\n",
       "      <td>category-applied-behavior-analysis-aba</td>\n",
       "      <td>How do you handle high anxiety of a child on t...</td>\n",
       "      <td>https://www.autismparentingmagazine.com/help-a...</td>\n",
       "    </tr>\n",
       "    <tr>\n",
       "      <th>4</th>\n",
       "      <td>HELP: I Need Communication Advice for Autistic...</td>\n",
       "      <td>https://www.autismparentingmagazine.com/</td>\n",
       "      <td>category-applied-behavior-analysis-aba</td>\n",
       "      <td>A grandfather from Singapore asks… My eldest g...</td>\n",
       "      <td>https://www.autismparentingmagazine.com/help-i...</td>\n",
       "    </tr>\n",
       "  </tbody>\n",
       "</table>\n",
       "</div>"
      ],
      "text/plain": [
       "                                               title  \\\n",
       "0  Autism, Head Banging and other Self Harming Be...   \n",
       "1  High Quality ABA Treatment:  What Every Parent...   \n",
       "2  Help: I Don’t Know How to Choose an Applied Be...   \n",
       "3  HELP: My Autistic Child is Absolutely Terrifie...   \n",
       "4  HELP: I Need Communication Advice for Autistic...   \n",
       "\n",
       "                                     source  \\\n",
       "0  https://www.autismparentingmagazine.com/   \n",
       "1  https://www.autismparentingmagazine.com/   \n",
       "2  https://www.autismparentingmagazine.com/   \n",
       "3  https://www.autismparentingmagazine.com/   \n",
       "4  https://www.autismparentingmagazine.com/   \n",
       "\n",
       "                                 category  \\\n",
       "0  category-applied-behavior-analysis-aba   \n",
       "1  category-applied-behavior-analysis-aba   \n",
       "2  category-applied-behavior-analysis-aba   \n",
       "3  category-applied-behavior-analysis-aba   \n",
       "4  category-applied-behavior-analysis-aba   \n",
       "\n",
       "                                                text  \\\n",
       "0  For children with autism spectrum disorder (AS...   \n",
       "1  Dr. Stephen Shore once said “If you’ve met one...   \n",
       "2   Help! I am going to be starting Applied Behav...   \n",
       "3  How do you handle high anxiety of a child on t...   \n",
       "4  A grandfather from Singapore asks… My eldest g...   \n",
       "\n",
       "                                                href  \n",
       "0  https://www.autismparentingmagazine.com/autism...  \n",
       "1  https://www.autismparentingmagazine.com/high-q...  \n",
       "2  https://www.autismparentingmagazine.com/choosi...  \n",
       "3  https://www.autismparentingmagazine.com/help-a...  \n",
       "4  https://www.autismparentingmagazine.com/help-i...  "
      ]
     },
     "execution_count": 3,
     "metadata": {},
     "output_type": "execute_result"
    }
   ],
   "source": [
    "# Read database of data\n",
    "input_fname=\"AutismParentMagazine-posts.csv\"\n",
    "output_fname=input_fname.replace(\".csv\",\"-tokens.csv\")\n",
    "\n",
    "os.chdir('../data')\n",
    "df=pd.read_csv(input_fname,index_col=0)\n",
    "df.head(5)"
   ]
  },
  {
   "cell_type": "code",
   "execution_count": 4,
   "metadata": {},
   "outputs": [
    {
     "name": "stdout",
     "output_type": "stream",
     "text": [
      "for children with autism spectrum disorder (asd), head banging is a common way to self-soothe and communicate needs. both neurotypical and autistic babies and toddlers seek to recreate the rhythm that stimulated their vestibular system while in utero. other rhythmic habits that fuel a child’s kinesthetic drive include head rolling, body rocking, biting, and thumb… continue reading\n",
      "\n",
      "['for', 'children', 'with', 'autism', 'spectrum', 'disorder', 'asd', 'head', 'banging', 'is', 'a', 'common', 'way', 'to', 'self', 'soothe', 'and', 'communicate', 'needs', 'both', 'neurotypical', 'and', 'autistic', 'babies', 'and', 'toddlers', 'seek', 'to', 'recreate', 'the', 'rhythm', 'that', 'stimulated', 'their', 'vestibular', 'system', 'while', 'in', 'utero', 'other', 'rhythmic', 'habits', 'that', 'fuel', 'a', 'child', 's', 'kinesthetic', 'drive', 'include', 'head', 'rolling', 'body', 'rocking', 'biting', 'and', 'thumb', 'continue', 'reading']\n"
     ]
    }
   ],
   "source": [
    "# Tokenize data\n",
    "import nltk\n",
    "tokenizer = nltk.RegexpTokenizer(r'\\w+')\n",
    "\n",
    "# Get list of tokens from text in first article:\n",
    "text = df['text'][0].lower()\n",
    "ttext = tokenizer.tokenize(text)\n",
    "print( text )\n",
    "print( ttext )"
   ]
  },
  {
   "cell_type": "code",
   "execution_count": 6,
   "metadata": {},
   "outputs": [],
   "source": [
    "# Get a column with list of tokens:\n",
    "\n",
    "# 1) convert to lower case \n",
    "# 2) get tokens\n",
    "# 2) save data in a new column (tokens)\n",
    "df['tokens'] = df['text'].map(lambda x: tokenizer.tokenize(x.lower()))\n",
    "df['tokens'].head(5)\n",
    "\n",
    "# Save dataframe with tokens into files\n",
    "df.to_csv(output_fname)"
   ]
  },
  {
   "cell_type": "code",
   "execution_count": 10,
   "metadata": {},
   "outputs": [],
   "source": [
    "# Get similarity matrices\n",
    "documents = df['tokens'].values\n",
    "corpus,dictionary = make_corpus(documents)\n",
    "\n",
    "#Save corpus into file\n",
    "import pickle\n",
    "pickle.dump(corpus,open(\"corpus.save\", \"wb\"))\n",
    "\n",
    "tfidf = models.TfidfModel(corpus)\n",
    "tfidf.save('tfidf.save')\n",
    "\n",
    "lsi_matsim = make_lsi_similarity_matrix(tfidf[corpus], dictionary)\n",
    "lda_matsim = make_lda_similarity_matrix(corpus, dictionary)\n",
    "\n",
    "# The models are saved into files in the above routines"
   ]
  },
  {
   "cell_type": "code",
   "execution_count": null,
   "metadata": {
    "collapsed": true
   },
   "outputs": [],
   "source": []
  }
 ],
 "metadata": {
  "kernelspec": {
   "display_name": "Python 3",
   "language": "python",
   "name": "python3"
  },
  "language_info": {
   "codemirror_mode": {
    "name": "ipython",
    "version": 3
   },
   "file_extension": ".py",
   "mimetype": "text/x-python",
   "name": "python",
   "nbconvert_exporter": "python",
   "pygments_lexer": "ipython3",
   "version": "3.6.1"
  }
 },
 "nbformat": 4,
 "nbformat_minor": 2
}
