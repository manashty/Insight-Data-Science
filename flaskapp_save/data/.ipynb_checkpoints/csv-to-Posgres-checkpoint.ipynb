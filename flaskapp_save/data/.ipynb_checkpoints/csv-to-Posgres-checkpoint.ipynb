{
 "cells": [
  {
   "cell_type": "markdown",
   "metadata": {},
   "source": [
    "# Convert a csv database into posgres\n",
    "\n",
    "This follows the notebook: ../general-docs/python_sql_dev_setups.ipynb\n"
   ]
  },
  {
   "cell_type": "code",
   "execution_count": 1,
   "metadata": {
    "collapsed": true
   },
   "outputs": [],
   "source": [
    "## Python packages - you may have to pip install sqlalchemy, sqlalchemy_utils, and psycopg2.\n",
    "from sqlalchemy import create_engine\n",
    "from sqlalchemy_utils import database_exists, create_database\n",
    "import psycopg2\n",
    "import pandas as pd"
   ]
  },
  {
   "cell_type": "code",
   "execution_count": 2,
   "metadata": {
    "collapsed": true
   },
   "outputs": [],
   "source": [
    "#In Python: Define a database name (we're using a dataset on births, so I call it \n",
    "# birth_db), and your username for your computer (CHANGE IT BELOW). \n",
    "dbname = 'autism-docs'\n",
    "username = 'rangel'"
   ]
  },
  {
   "cell_type": "code",
   "execution_count": 3,
   "metadata": {},
   "outputs": [
    {
     "name": "stdout",
     "output_type": "stream",
     "text": [
      "postgres://rangel@localhost/autism-docs\n"
     ]
    }
   ],
   "source": [
    "## 'engine' is a connection to a database\n",
    "## Here, we're using postgres, but sqlalchemy can connect to other things too.\n",
    "engine = create_engine('postgres://%s@localhost/%s'%(username,dbname))\n",
    "print (engine.url)"
   ]
  },
  {
   "cell_type": "code",
   "execution_count": 4,
   "metadata": {},
   "outputs": [
    {
     "name": "stdout",
     "output_type": "stream",
     "text": [
      "True\n"
     ]
    }
   ],
   "source": [
    "## create a database (if it doesn't exist)\n",
    "if not database_exists(engine.url):\n",
    "    create_database(engine.url)\n",
    "print(database_exists(engine.url))"
   ]
  },
  {
   "cell_type": "code",
   "execution_count": 5,
   "metadata": {},
   "outputs": [
    {
     "data": {
      "text/html": [
       "<div>\n",
       "<style>\n",
       "    .dataframe thead tr:only-child th {\n",
       "        text-align: right;\n",
       "    }\n",
       "\n",
       "    .dataframe thead th {\n",
       "        text-align: left;\n",
       "    }\n",
       "\n",
       "    .dataframe tbody tr th {\n",
       "        vertical-align: top;\n",
       "    }\n",
       "</style>\n",
       "<table border=\"1\" class=\"dataframe\">\n",
       "  <thead>\n",
       "    <tr style=\"text-align: right;\">\n",
       "      <th></th>\n",
       "      <th>category</th>\n",
       "      <th>href</th>\n",
       "      <th>source</th>\n",
       "      <th>text</th>\n",
       "      <th>title</th>\n",
       "      <th>tokens</th>\n",
       "    </tr>\n",
       "  </thead>\n",
       "  <tbody>\n",
       "    <tr>\n",
       "      <th>0</th>\n",
       "      <td>['category-autism-therapy']</td>\n",
       "      <td>https://www.autismparentingmagazine.com/autism...</td>\n",
       "      <td>https://www.autismparentingmagazine.com/</td>\n",
       "      <td>For children with autism spectrum disorder (AS...</td>\n",
       "      <td>Autism, Head Banging and other Self Harming Be...</td>\n",
       "      <td>['for', 'children', 'with', 'autism', 'spectru...</td>\n",
       "    </tr>\n",
       "    <tr>\n",
       "      <th>1</th>\n",
       "      <td>['category-autism-therapy']</td>\n",
       "      <td>https://www.autismparentingmagazine.com/high-q...</td>\n",
       "      <td>https://www.autismparentingmagazine.com/</td>\n",
       "      <td>Dr. Stephen Shore once said “If you’ve met one...</td>\n",
       "      <td>High Quality ABA Treatment:  What Every Parent...</td>\n",
       "      <td>['dr', 'stephen', 'shore', 'once', 'said', 'if...</td>\n",
       "    </tr>\n",
       "  </tbody>\n",
       "</table>\n",
       "</div>"
      ],
      "text/plain": [
       "                      category  \\\n",
       "0  ['category-autism-therapy']   \n",
       "1  ['category-autism-therapy']   \n",
       "\n",
       "                                                href  \\\n",
       "0  https://www.autismparentingmagazine.com/autism...   \n",
       "1  https://www.autismparentingmagazine.com/high-q...   \n",
       "\n",
       "                                     source  \\\n",
       "0  https://www.autismparentingmagazine.com/   \n",
       "1  https://www.autismparentingmagazine.com/   \n",
       "\n",
       "                                                text  \\\n",
       "0  For children with autism spectrum disorder (AS...   \n",
       "1  Dr. Stephen Shore once said “If you’ve met one...   \n",
       "\n",
       "                                               title  \\\n",
       "0  Autism, Head Banging and other Self Harming Be...   \n",
       "1  High Quality ABA Treatment:  What Every Parent...   \n",
       "\n",
       "                                              tokens  \n",
       "0  ['for', 'children', 'with', 'autism', 'spectru...  \n",
       "1  ['dr', 'stephen', 'shore', 'once', 'said', 'if...  "
      ]
     },
     "execution_count": 5,
     "metadata": {},
     "output_type": "execute_result"
    }
   ],
   "source": [
    "# read a database from CSV and load it into a pandas dataframe\n",
    "df = pd.DataFrame.from_csv('articles-n-forums-posts.csv')\n",
    "df.head(2)"
   ]
  },
  {
   "cell_type": "code",
   "execution_count": 6,
   "metadata": {
    "collapsed": true
   },
   "outputs": [],
   "source": [
    "## insert data into database from Python (proof of concept - this won't be useful for big data, of course)\n",
    "df.to_sql('articles-n-forums-posts', engine, if_exists='replace')"
   ]
  },
  {
   "cell_type": "code",
   "execution_count": 7,
   "metadata": {},
   "outputs": [
    {
     "data": {
      "text/html": [
       "<div>\n",
       "<style>\n",
       "    .dataframe thead tr:only-child th {\n",
       "        text-align: right;\n",
       "    }\n",
       "\n",
       "    .dataframe thead th {\n",
       "        text-align: left;\n",
       "    }\n",
       "\n",
       "    .dataframe tbody tr th {\n",
       "        vertical-align: top;\n",
       "    }\n",
       "</style>\n",
       "<table border=\"1\" class=\"dataframe\">\n",
       "  <thead>\n",
       "    <tr style=\"text-align: right;\">\n",
       "      <th></th>\n",
       "      <th>index</th>\n",
       "      <th>category</th>\n",
       "      <th>href</th>\n",
       "      <th>source</th>\n",
       "      <th>text</th>\n",
       "      <th>title</th>\n",
       "      <th>tokens</th>\n",
       "    </tr>\n",
       "  </thead>\n",
       "  <tbody>\n",
       "    <tr>\n",
       "      <th>0</th>\n",
       "      <td>21</td>\n",
       "      <td>['category-autism-and-diet']</td>\n",
       "      <td>https://www.autismparentingmagazine.com/sugary...</td>\n",
       "      <td>https://www.autismparentingmagazine.com/</td>\n",
       "      <td>Sivakumari asks: My daughter loves to eat ice-...</td>\n",
       "      <td>Q and A Do sugary foods make children with aut...</td>\n",
       "      <td>['sivakumari', 'asks', 'my', 'daughter', 'love...</td>\n",
       "    </tr>\n",
       "    <tr>\n",
       "      <th>1</th>\n",
       "      <td>269</td>\n",
       "      <td>['forums']</td>\n",
       "      <td>http://www.medhelp.org//posts/Autism--Asperger...</td>\n",
       "      <td>http://www.medhelp.org</td>\n",
       "      <td>\\n        It is hard at so young age to conclu...</td>\n",
       "      <td>is my 2years son normal or he have autism</td>\n",
       "      <td>['it', 'is', 'hard', 'at', 'so', 'young', 'age...</td>\n",
       "    </tr>\n",
       "    <tr>\n",
       "      <th>2</th>\n",
       "      <td>238</td>\n",
       "      <td>['forums']</td>\n",
       "      <td>http://www.medhelp.org//posts/Autism--Asperger...</td>\n",
       "      <td>http://www.medhelp.org</td>\n",
       "      <td>\\n        From what I can tell, what you descr...</td>\n",
       "      <td>is my 2 year old son has sign of autism?</td>\n",
       "      <td>['from', 'what', 'i', 'can', 'tell', 'what', '...</td>\n",
       "    </tr>\n",
       "    <tr>\n",
       "      <th>3</th>\n",
       "      <td>267</td>\n",
       "      <td>['forums']</td>\n",
       "      <td>http://www.medhelp.org//posts/Autism--Asperger...</td>\n",
       "      <td>http://www.medhelp.org</td>\n",
       "      <td>\\n        At this point, it is not possible to...</td>\n",
       "      <td>does the e.e.g confirm if the baby has autism</td>\n",
       "      <td>['at', 'this', 'point', 'it', 'is', 'not', 'po...</td>\n",
       "    </tr>\n",
       "    <tr>\n",
       "      <th>4</th>\n",
       "      <td>271</td>\n",
       "      <td>['forums']</td>\n",
       "      <td>http://www.medhelp.org//posts/Autism--Asperger...</td>\n",
       "      <td>http://www.medhelp.org</td>\n",
       "      <td>\\n        Sounds like post-traumatic stress di...</td>\n",
       "      <td>I am diagnosed with autism but id it true...?</td>\n",
       "      <td>['sounds', 'like', 'post', 'traumatic', 'stres...</td>\n",
       "    </tr>\n",
       "  </tbody>\n",
       "</table>\n",
       "</div>"
      ],
      "text/plain": [
       "   index                      category  \\\n",
       "0     21  ['category-autism-and-diet']   \n",
       "1    269                    ['forums']   \n",
       "2    238                    ['forums']   \n",
       "3    267                    ['forums']   \n",
       "4    271                    ['forums']   \n",
       "\n",
       "                                                href  \\\n",
       "0  https://www.autismparentingmagazine.com/sugary...   \n",
       "1  http://www.medhelp.org//posts/Autism--Asperger...   \n",
       "2  http://www.medhelp.org//posts/Autism--Asperger...   \n",
       "3  http://www.medhelp.org//posts/Autism--Asperger...   \n",
       "4  http://www.medhelp.org//posts/Autism--Asperger...   \n",
       "\n",
       "                                     source  \\\n",
       "0  https://www.autismparentingmagazine.com/   \n",
       "1                    http://www.medhelp.org   \n",
       "2                    http://www.medhelp.org   \n",
       "3                    http://www.medhelp.org   \n",
       "4                    http://www.medhelp.org   \n",
       "\n",
       "                                                text  \\\n",
       "0  Sivakumari asks: My daughter loves to eat ice-...   \n",
       "1  \\n        It is hard at so young age to conclu...   \n",
       "2  \\n        From what I can tell, what you descr...   \n",
       "3  \\n        At this point, it is not possible to...   \n",
       "4  \\n        Sounds like post-traumatic stress di...   \n",
       "\n",
       "                                               title  \\\n",
       "0  Q and A Do sugary foods make children with aut...   \n",
       "1          is my 2years son normal or he have autism   \n",
       "2           is my 2 year old son has sign of autism?   \n",
       "3      does the e.e.g confirm if the baby has autism   \n",
       "4      I am diagnosed with autism but id it true...?   \n",
       "\n",
       "                                              tokens  \n",
       "0  ['sivakumari', 'asks', 'my', 'daughter', 'love...  \n",
       "1  ['it', 'is', 'hard', 'at', 'so', 'young', 'age...  \n",
       "2  ['from', 'what', 'i', 'can', 'tell', 'what', '...  \n",
       "3  ['at', 'this', 'point', 'it', 'is', 'not', 'po...  \n",
       "4  ['sounds', 'like', 'post', 'traumatic', 'stres...  "
      ]
     },
     "execution_count": 7,
     "metadata": {},
     "output_type": "execute_result"
    }
   ],
   "source": [
    "## Now try the same queries, but in python!\n",
    "\n",
    "# connect:\n",
    "con = None\n",
    "con = psycopg2.connect(database = dbname, user = username)\n",
    "\n",
    "# query:\n",
    "sql_query = \"\"\"\n",
    "SELECT * FROM \\\"articles-n-forums-posts\\\" WHERE title LIKE '%autism%';\n",
    "\"\"\"\n",
    "query = pd.read_sql_query(sql_query,con)\n",
    "\n",
    "query.head()"
   ]
  },
  {
   "cell_type": "code",
   "execution_count": null,
   "metadata": {
    "collapsed": true
   },
   "outputs": [],
   "source": []
  }
 ],
 "metadata": {
  "kernelspec": {
   "display_name": "Python 3",
   "language": "python",
   "name": "python3"
  },
  "language_info": {
   "codemirror_mode": {
    "name": "ipython",
    "version": 3
   },
   "file_extension": ".py",
   "mimetype": "text/x-python",
   "name": "python",
   "nbconvert_exporter": "python",
   "pygments_lexer": "ipython3",
   "version": "3.6.1"
  }
 },
 "nbformat": 4,
 "nbformat_minor": 2
}
