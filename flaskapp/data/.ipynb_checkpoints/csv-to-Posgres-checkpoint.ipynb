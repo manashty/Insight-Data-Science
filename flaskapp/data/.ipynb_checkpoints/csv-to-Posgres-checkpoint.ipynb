{
 "cells": [
  {
   "cell_type": "markdown",
   "metadata": {},
   "source": [
    "# Convert a csv database into posgres\n",
    "\n",
    "This follows the notebook: ../general-docs/python_sql_dev_setups.ipynb\n"
   ]
  },
  {
   "cell_type": "code",
   "execution_count": 1,
   "metadata": {
    "collapsed": true
   },
   "outputs": [],
   "source": [
    "## Python packages - you may have to pip install sqlalchemy, sqlalchemy_utils, and psycopg2.\n",
    "from sqlalchemy import create_engine\n",
    "from sqlalchemy_utils import database_exists, create_database\n",
    "import psycopg2\n",
    "import pandas as pd"
   ]
  },
  {
   "cell_type": "code",
   "execution_count": 2,
   "metadata": {
    "collapsed": true
   },
   "outputs": [],
   "source": [
    "#In Python: Define a database name (we're using a dataset on births, so I call it \n",
    "# birth_db), and your username for your computer (CHANGE IT BELOW). \n",
    "dbname = 'autism-docs'\n",
    "username = 'rangel'"
   ]
  },
  {
   "cell_type": "code",
   "execution_count": 3,
   "metadata": {},
   "outputs": [
    {
     "name": "stdout",
     "output_type": "stream",
     "text": [
      "postgres://rangel@localhost/autism-docs\n"
     ]
    }
   ],
   "source": [
    "## 'engine' is a connection to a database\n",
    "## Here, we're using postgres, but sqlalchemy can connect to other things too.\n",
    "engine = create_engine('postgres://%s@localhost/%s'%(username,dbname))\n",
    "print (engine.url)"
   ]
  },
  {
   "cell_type": "code",
   "execution_count": 4,
   "metadata": {},
   "outputs": [
    {
     "name": "stdout",
     "output_type": "stream",
     "text": [
      "True\n"
     ]
    }
   ],
   "source": [
    "## create a database (if it doesn't exist)\n",
    "if not database_exists(engine.url):\n",
    "    create_database(engine.url)\n",
    "print(database_exists(engine.url))"
   ]
  },
  {
   "cell_type": "code",
   "execution_count": 5,
   "metadata": {},
   "outputs": [
    {
     "data": {
      "text/html": [
       "<div>\n",
       "<style>\n",
       "    .dataframe thead tr:only-child th {\n",
       "        text-align: right;\n",
       "    }\n",
       "\n",
       "    .dataframe thead th {\n",
       "        text-align: left;\n",
       "    }\n",
       "\n",
       "    .dataframe tbody tr th {\n",
       "        vertical-align: top;\n",
       "    }\n",
       "</style>\n",
       "<table border=\"1\" class=\"dataframe\">\n",
       "  <thead>\n",
       "    <tr style=\"text-align: right;\">\n",
       "      <th></th>\n",
       "      <th>index</th>\n",
       "      <th>category</th>\n",
       "      <th>href</th>\n",
       "      <th>source</th>\n",
       "      <th>text</th>\n",
       "      <th>title</th>\n",
       "      <th>user id</th>\n",
       "      <th>tokens</th>\n",
       "      <th>text_short</th>\n",
       "    </tr>\n",
       "  </thead>\n",
       "  <tbody>\n",
       "    <tr>\n",
       "      <th>0</th>\n",
       "      <td>0</td>\n",
       "      <td>['category-applied-behavior-analysis-aba']</td>\n",
       "      <td>https://www.autismparentingmagazine.com/autism...</td>\n",
       "      <td>https://www.autismparentingmagazine.com/</td>\n",
       "      <td>For children with autism spectrum disorder (AS...</td>\n",
       "      <td>Autism, Head Banging and other Self Harming Be...</td>\n",
       "      <td>NaN</td>\n",
       "      <td>['autism', 'head', 'banging', 'and', 'other', ...</td>\n",
       "      <td>For children with autism spectrum disorder (AS...</td>\n",
       "    </tr>\n",
       "    <tr>\n",
       "      <th>1</th>\n",
       "      <td>1</td>\n",
       "      <td>['category-applied-behavior-analysis-aba']</td>\n",
       "      <td>https://www.autismparentingmagazine.com/high-q...</td>\n",
       "      <td>https://www.autismparentingmagazine.com/</td>\n",
       "      <td>Dr. Stephen Shore once said “If you’ve met one...</td>\n",
       "      <td>High Quality ABA Treatment:  What Every Parent...</td>\n",
       "      <td>NaN</td>\n",
       "      <td>['high', 'quality', 'aba', 'treatment', 'what'...</td>\n",
       "      <td>Dr. Stephen Shore once said “If you’ve met one...</td>\n",
       "    </tr>\n",
       "  </tbody>\n",
       "</table>\n",
       "</div>"
      ],
      "text/plain": [
       "   index                                    category  \\\n",
       "0      0  ['category-applied-behavior-analysis-aba']   \n",
       "1      1  ['category-applied-behavior-analysis-aba']   \n",
       "\n",
       "                                                href  \\\n",
       "0  https://www.autismparentingmagazine.com/autism...   \n",
       "1  https://www.autismparentingmagazine.com/high-q...   \n",
       "\n",
       "                                     source  \\\n",
       "0  https://www.autismparentingmagazine.com/   \n",
       "1  https://www.autismparentingmagazine.com/   \n",
       "\n",
       "                                                text  \\\n",
       "0  For children with autism spectrum disorder (AS...   \n",
       "1  Dr. Stephen Shore once said “If you’ve met one...   \n",
       "\n",
       "                                               title  user id  \\\n",
       "0  Autism, Head Banging and other Self Harming Be...      NaN   \n",
       "1  High Quality ABA Treatment:  What Every Parent...      NaN   \n",
       "\n",
       "                                              tokens  \\\n",
       "0  ['autism', 'head', 'banging', 'and', 'other', ...   \n",
       "1  ['high', 'quality', 'aba', 'treatment', 'what'...   \n",
       "\n",
       "                                          text_short  \n",
       "0  For children with autism spectrum disorder (AS...  \n",
       "1  Dr. Stephen Shore once said “If you’ve met one...  "
      ]
     },
     "execution_count": 5,
     "metadata": {},
     "output_type": "execute_result"
    }
   ],
   "source": [
    "# read a database from CSV and load it into a pandas dataframe\n",
    "df = pd.DataFrame.from_csv('articles-n-forums-posts.csv')\n",
    "df.head(2)"
   ]
  },
  {
   "cell_type": "code",
   "execution_count": 6,
   "metadata": {
    "collapsed": true
   },
   "outputs": [],
   "source": [
    "## insert data into database from Python (proof of concept - this won't be useful for big data, of course)\n",
    "df.to_sql('articles-n-forums-posts', engine, if_exists='replace')"
   ]
  },
  {
   "cell_type": "code",
   "execution_count": 7,
   "metadata": {},
   "outputs": [
    {
     "data": {
      "text/html": [
       "<div>\n",
       "<style>\n",
       "    .dataframe thead tr:only-child th {\n",
       "        text-align: right;\n",
       "    }\n",
       "\n",
       "    .dataframe thead th {\n",
       "        text-align: left;\n",
       "    }\n",
       "\n",
       "    .dataframe tbody tr th {\n",
       "        vertical-align: top;\n",
       "    }\n",
       "</style>\n",
       "<table border=\"1\" class=\"dataframe\">\n",
       "  <thead>\n",
       "    <tr style=\"text-align: right;\">\n",
       "      <th></th>\n",
       "      <th>level_0</th>\n",
       "      <th>index</th>\n",
       "      <th>category</th>\n",
       "      <th>href</th>\n",
       "      <th>source</th>\n",
       "      <th>text</th>\n",
       "      <th>title</th>\n",
       "      <th>user id</th>\n",
       "      <th>tokens</th>\n",
       "      <th>text_short</th>\n",
       "    </tr>\n",
       "  </thead>\n",
       "  <tbody>\n",
       "    <tr>\n",
       "      <th>0</th>\n",
       "      <td>686</td>\n",
       "      <td>686</td>\n",
       "      <td>forums</td>\n",
       "      <td>http://ehealthforum.com/health/autism-or-no-te...</td>\n",
       "      <td>http://ehealthforum.com</td>\n",
       "      <td>only qualified professionals AFTER evaluation ...</td>\n",
       "      <td>autism or no teaching  or talking  about thing...</td>\n",
       "      <td>382013.0</td>\n",
       "      <td>['autism', 'or', 'no', 'teaching', 'or', 'talk...</td>\n",
       "      <td>only qualified professionals AFTER evaluation ...</td>\n",
       "    </tr>\n",
       "    <tr>\n",
       "      <th>1</th>\n",
       "      <td>691</td>\n",
       "      <td>691</td>\n",
       "      <td>forums</td>\n",
       "      <td>http://ehealthforum.com/health/could-my-year-o...</td>\n",
       "      <td>http://ehealthforum.com</td>\n",
       "      <td>Might be she takes some time to improve hersel...</td>\n",
       "      <td>could my 4 year old daughter have autism</td>\n",
       "      <td>391690.0</td>\n",
       "      <td>['could', 'my', '4', 'year', 'old', 'daughter'...</td>\n",
       "      <td>Might be she takes some time to improve hersel...</td>\n",
       "    </tr>\n",
       "    <tr>\n",
       "      <th>2</th>\n",
       "      <td>21</td>\n",
       "      <td>21</td>\n",
       "      <td>['category-autism-and-food']</td>\n",
       "      <td>https://www.autismparentingmagazine.com/sugary...</td>\n",
       "      <td>https://www.autismparentingmagazine.com/</td>\n",
       "      <td>Sivakumari asks: My daughter loves to eat ice-...</td>\n",
       "      <td>Q and A Do sugary foods make children with aut...</td>\n",
       "      <td>NaN</td>\n",
       "      <td>['q', 'and', 'a', 'do', 'sugary', 'foods', 'ma...</td>\n",
       "      <td>Sivakumari asks: My daughter loves to eat ice-...</td>\n",
       "    </tr>\n",
       "    <tr>\n",
       "      <th>3</th>\n",
       "      <td>1067</td>\n",
       "      <td>1068</td>\n",
       "      <td>forums</td>\n",
       "      <td>http://ehealthforum.com/health/topic129176.html</td>\n",
       "      <td>http://ehealthforum.com</td>\n",
       "      <td>Ummmmm.................</td>\n",
       "      <td>Student services for autism</td>\n",
       "      <td>102180.0</td>\n",
       "      <td>['student', 'services', 'for', 'autism', 'ummm...</td>\n",
       "      <td>Ummmmm.................</td>\n",
       "    </tr>\n",
       "    <tr>\n",
       "      <th>4</th>\n",
       "      <td>1068</td>\n",
       "      <td>1069</td>\n",
       "      <td>forums</td>\n",
       "      <td>http://ehealthforum.com/health/topic129176.html</td>\n",
       "      <td>http://ehealthforum.com</td>\n",
       "      <td>this is wonderful! this is a good step for him...</td>\n",
       "      <td>Student services for autism</td>\n",
       "      <td>71395.0</td>\n",
       "      <td>['student', 'services', 'for', 'autism', 'this...</td>\n",
       "      <td>this is wonderful! this is a good step for him...</td>\n",
       "    </tr>\n",
       "  </tbody>\n",
       "</table>\n",
       "</div>"
      ],
      "text/plain": [
       "   level_0  index                      category  \\\n",
       "0      686    686                        forums   \n",
       "1      691    691                        forums   \n",
       "2       21     21  ['category-autism-and-food']   \n",
       "3     1067   1068                        forums   \n",
       "4     1068   1069                        forums   \n",
       "\n",
       "                                                href  \\\n",
       "0  http://ehealthforum.com/health/autism-or-no-te...   \n",
       "1  http://ehealthforum.com/health/could-my-year-o...   \n",
       "2  https://www.autismparentingmagazine.com/sugary...   \n",
       "3    http://ehealthforum.com/health/topic129176.html   \n",
       "4    http://ehealthforum.com/health/topic129176.html   \n",
       "\n",
       "                                     source  \\\n",
       "0                   http://ehealthforum.com   \n",
       "1                   http://ehealthforum.com   \n",
       "2  https://www.autismparentingmagazine.com/   \n",
       "3                   http://ehealthforum.com   \n",
       "4                   http://ehealthforum.com   \n",
       "\n",
       "                                                text  \\\n",
       "0  only qualified professionals AFTER evaluation ...   \n",
       "1  Might be she takes some time to improve hersel...   \n",
       "2  Sivakumari asks: My daughter loves to eat ice-...   \n",
       "3                            Ummmmm.................   \n",
       "4  this is wonderful! this is a good step for him...   \n",
       "\n",
       "                                               title   user id  \\\n",
       "0  autism or no teaching  or talking  about thing...  382013.0   \n",
       "1           could my 4 year old daughter have autism  391690.0   \n",
       "2  Q and A Do sugary foods make children with aut...       NaN   \n",
       "3                        Student services for autism  102180.0   \n",
       "4                        Student services for autism   71395.0   \n",
       "\n",
       "                                              tokens  \\\n",
       "0  ['autism', 'or', 'no', 'teaching', 'or', 'talk...   \n",
       "1  ['could', 'my', '4', 'year', 'old', 'daughter'...   \n",
       "2  ['q', 'and', 'a', 'do', 'sugary', 'foods', 'ma...   \n",
       "3  ['student', 'services', 'for', 'autism', 'ummm...   \n",
       "4  ['student', 'services', 'for', 'autism', 'this...   \n",
       "\n",
       "                                          text_short  \n",
       "0  only qualified professionals AFTER evaluation ...  \n",
       "1  Might be she takes some time to improve hersel...  \n",
       "2  Sivakumari asks: My daughter loves to eat ice-...  \n",
       "3                            Ummmmm.................  \n",
       "4  this is wonderful! this is a good step for him...  "
      ]
     },
     "execution_count": 7,
     "metadata": {},
     "output_type": "execute_result"
    }
   ],
   "source": [
    "## Now try the same queries, but in python!\n",
    "\n",
    "# connect:\n",
    "con = None\n",
    "con = psycopg2.connect(database = dbname, user = username)\n",
    "\n",
    "# query:\n",
    "sql_query = \"\"\"\n",
    "SELECT * FROM \\\"articles-n-forums-posts\\\" WHERE title LIKE '%autism%';\n",
    "\"\"\"\n",
    "query = pd.read_sql_query(sql_query,con)\n",
    "\n",
    "query.head()"
   ]
  },
  {
   "cell_type": "code",
   "execution_count": null,
   "metadata": {
    "collapsed": true
   },
   "outputs": [],
   "source": []
  }
 ],
 "metadata": {
  "kernelspec": {
   "display_name": "Python 3",
   "language": "python",
   "name": "python3"
  },
  "language_info": {
   "codemirror_mode": {
    "name": "ipython",
    "version": 3
   },
   "file_extension": ".py",
   "mimetype": "text/x-python",
   "name": "python",
   "nbconvert_exporter": "python",
   "pygments_lexer": "ipython3",
   "version": "3.6.1"
  }
 },
 "nbformat": 4,
 "nbformat_minor": 2
}
