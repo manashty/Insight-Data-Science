{
 "cells": [
  {
   "cell_type": "code",
   "execution_count": 1,
   "metadata": {
    "collapsed": true
   },
   "outputs": [],
   "source": [
    "## Python packages - you may have to pip install sqlalchemy, sqlalchemy_utils, and psycopg2.\n",
    "from sqlalchemy import create_engine\n",
    "from sqlalchemy_utils import database_exists, create_database\n",
    "import psycopg2\n",
    "import pandas as pd"
   ]
  },
  {
   "cell_type": "code",
   "execution_count": 2,
   "metadata": {
    "collapsed": true
   },
   "outputs": [],
   "source": [
    "#In Python: Define a database name (we're using a dataset on births, so I call it \n",
    "# birth_db), and your username for your computer (CHANGE IT BELOW). \n",
    "dbname = 'autism-docs'\n",
    "username = 'rangel'"
   ]
  },
  {
   "cell_type": "code",
   "execution_count": 3,
   "metadata": {},
   "outputs": [
    {
     "name": "stdout",
     "output_type": "stream",
     "text": [
      "postgres://rangel@localhost/autism-docs\n"
     ]
    }
   ],
   "source": [
    "## 'engine' is a connection to a database\n",
    "## Here, we're using postgres, but sqlalchemy can connect to other things too.\n",
    "engine = create_engine('postgres://%s@localhost/%s'%(username,dbname))\n",
    "print (engine.url)"
   ]
  },
  {
   "cell_type": "code",
   "execution_count": 5,
   "metadata": {},
   "outputs": [
    {
     "data": {
      "text/html": [
       "<div>\n",
       "<style>\n",
       "    .dataframe thead tr:only-child th {\n",
       "        text-align: right;\n",
       "    }\n",
       "\n",
       "    .dataframe thead th {\n",
       "        text-align: left;\n",
       "    }\n",
       "\n",
       "    .dataframe tbody tr th {\n",
       "        vertical-align: top;\n",
       "    }\n",
       "</style>\n",
       "<table border=\"1\" class=\"dataframe\">\n",
       "  <thead>\n",
       "    <tr style=\"text-align: right;\">\n",
       "      <th></th>\n",
       "      <th>post id</th>\n",
       "      <th>category</th>\n",
       "      <th>href</th>\n",
       "      <th>source</th>\n",
       "      <th>text</th>\n",
       "      <th>title</th>\n",
       "      <th>user id</th>\n",
       "      <th>tokens</th>\n",
       "      <th>text_short</th>\n",
       "    </tr>\n",
       "  </thead>\n",
       "  <tbody>\n",
       "    <tr>\n",
       "      <th>3773</th>\n",
       "      <td>3773</td>\n",
       "      <td>forums</td>\n",
       "      <td>http://www.reddit.com/r/autism/comments/mbq4k/...</td>\n",
       "      <td>http://www.reditt.com</td>\n",
       "      <td>I've been aware that I have Asperger's for abo...</td>\n",
       "      <td>Should I give up my writing goals? (Asperger's...</td>\n",
       "      <td>1004.0</td>\n",
       "      <td>['should', 'i', 'give', 'up', 'my', 'writing',...</td>\n",
       "      <td>I've been aware that I have Asperger's for abo...</td>\n",
       "    </tr>\n",
       "    <tr>\n",
       "      <th>3774</th>\n",
       "      <td>3774</td>\n",
       "      <td>forums</td>\n",
       "      <td>http://www.reddit.com/r/autism/comments/m89b8/...</td>\n",
       "      <td>http://www.reditt.com</td>\n",
       "      <td>Recently I came across Wyndham autism friendly...</td>\n",
       "      <td>Autistic friendly family vacation areas?</td>\n",
       "      <td>984.0</td>\n",
       "      <td>['autistic', 'friendly', 'family', 'vacation',...</td>\n",
       "      <td>Recently I came across Wyndham autism friendly...</td>\n",
       "    </tr>\n",
       "    <tr>\n",
       "      <th>3775</th>\n",
       "      <td>3775</td>\n",
       "      <td>forums</td>\n",
       "      <td>http://www.reddit.com/r/autism/comments/lz53j/...</td>\n",
       "      <td>http://www.reditt.com</td>\n",
       "      <td>I was informed yesterday that two autistic adu...</td>\n",
       "      <td>How do I manage autistic employees?</td>\n",
       "      <td>1005.0</td>\n",
       "      <td>['how', 'do', 'i', 'manage', 'autistic', 'empl...</td>\n",
       "      <td>I was informed yesterday that two autistic adu...</td>\n",
       "    </tr>\n",
       "    <tr>\n",
       "      <th>3776</th>\n",
       "      <td>3776</td>\n",
       "      <td>forums</td>\n",
       "      <td>http://www.reddit.com/r/autism/comments/lxn3g/...</td>\n",
       "      <td>http://www.reditt.com</td>\n",
       "      <td>I am a student at Bicton College, Devon carryi...</td>\n",
       "      <td>Equine Assisted Therapy for Autistic Adults</td>\n",
       "      <td>1006.0</td>\n",
       "      <td>['equine', 'assisted', 'therapy', 'for', 'auti...</td>\n",
       "      <td>I am a student at Bicton College, Devon carryi...</td>\n",
       "    </tr>\n",
       "    <tr>\n",
       "      <th>3777</th>\n",
       "      <td>3777</td>\n",
       "      <td>forums</td>\n",
       "      <td>http://www.reddit.com/r/autism/comments/lwwfy/...</td>\n",
       "      <td>http://www.reditt.com</td>\n",
       "      <td>Hi everyone.  I just found this sub-Reddit aft...</td>\n",
       "      <td>36 month old only partially showing signs of a...</td>\n",
       "      <td>1007.0</td>\n",
       "      <td>['36', 'month', 'old', 'only', 'partially', 's...</td>\n",
       "      <td>Hi everyone.  I just found this sub-Reddit aft...</td>\n",
       "    </tr>\n",
       "  </tbody>\n",
       "</table>\n",
       "</div>"
      ],
      "text/plain": [
       "      post id category                                               href  \\\n",
       "3773     3773   forums  http://www.reddit.com/r/autism/comments/mbq4k/...   \n",
       "3774     3774   forums  http://www.reddit.com/r/autism/comments/m89b8/...   \n",
       "3775     3775   forums  http://www.reddit.com/r/autism/comments/lz53j/...   \n",
       "3776     3776   forums  http://www.reddit.com/r/autism/comments/lxn3g/...   \n",
       "3777     3777   forums  http://www.reddit.com/r/autism/comments/lwwfy/...   \n",
       "\n",
       "                     source  \\\n",
       "3773  http://www.reditt.com   \n",
       "3774  http://www.reditt.com   \n",
       "3775  http://www.reditt.com   \n",
       "3776  http://www.reditt.com   \n",
       "3777  http://www.reditt.com   \n",
       "\n",
       "                                                   text  \\\n",
       "3773  I've been aware that I have Asperger's for abo...   \n",
       "3774  Recently I came across Wyndham autism friendly...   \n",
       "3775  I was informed yesterday that two autistic adu...   \n",
       "3776  I am a student at Bicton College, Devon carryi...   \n",
       "3777  Hi everyone.  I just found this sub-Reddit aft...   \n",
       "\n",
       "                                                  title  user id  \\\n",
       "3773  Should I give up my writing goals? (Asperger's...   1004.0   \n",
       "3774           Autistic friendly family vacation areas?    984.0   \n",
       "3775                How do I manage autistic employees?   1005.0   \n",
       "3776        Equine Assisted Therapy for Autistic Adults   1006.0   \n",
       "3777  36 month old only partially showing signs of a...   1007.0   \n",
       "\n",
       "                                                 tokens  \\\n",
       "3773  ['should', 'i', 'give', 'up', 'my', 'writing',...   \n",
       "3774  ['autistic', 'friendly', 'family', 'vacation',...   \n",
       "3775  ['how', 'do', 'i', 'manage', 'autistic', 'empl...   \n",
       "3776  ['equine', 'assisted', 'therapy', 'for', 'auti...   \n",
       "3777  ['36', 'month', 'old', 'only', 'partially', 's...   \n",
       "\n",
       "                                             text_short  \n",
       "3773  I've been aware that I have Asperger's for abo...  \n",
       "3774  Recently I came across Wyndham autism friendly...  \n",
       "3775  I was informed yesterday that two autistic adu...  \n",
       "3776  I am a student at Bicton College, Devon carryi...  \n",
       "3777  Hi everyone.  I just found this sub-Reddit aft...  "
      ]
     },
     "execution_count": 5,
     "metadata": {},
     "output_type": "execute_result"
    }
   ],
   "source": [
    "## Now try the same queries, but in python!\n",
    "\n",
    "# connect:\n",
    "con = None\n",
    "con = psycopg2.connect(database = dbname, user = username)\n",
    "\n",
    "# query:\n",
    "sql_query = \"\"\"\n",
    "SELECT * FROM \\\"articles-n-forums-posts\\\";\n",
    "\"\"\"\n",
    "query = pd.read_sql_query(sql_query,con)\n",
    "\n",
    "query.tail()"
   ]
  },
  {
   "cell_type": "code",
   "execution_count": null,
   "metadata": {
    "collapsed": true
   },
   "outputs": [],
   "source": []
  }
 ],
 "metadata": {
  "kernelspec": {
   "display_name": "Python 3",
   "language": "python",
   "name": "python3"
  },
  "language_info": {
   "codemirror_mode": {
    "name": "ipython",
    "version": 3
   },
   "file_extension": ".py",
   "mimetype": "text/x-python",
   "name": "python",
   "nbconvert_exporter": "python",
   "pygments_lexer": "ipython3",
   "version": "3.6.1"
  }
 },
 "nbformat": 4,
 "nbformat_minor": 2
}
