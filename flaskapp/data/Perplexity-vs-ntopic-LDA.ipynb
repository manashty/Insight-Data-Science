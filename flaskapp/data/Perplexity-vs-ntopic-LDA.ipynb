{
 "cells": [
  {
   "cell_type": "markdown",
   "metadata": {},
   "source": [
    "# Perplexity\n",
    "\n",
    "Here I show perplexity as a metric to find the optimal number of topics.\n",
    "\n",
    "https://radimrehurek.com/gensim/models/ldamodel.html\n",
    "log_perplexity(chunk, total_docs=None)\n",
    "Calculate and return per-word likelihood bound, using the chunk of documents as evaluation corpus. Also output the calculated statistics. incl. perplexity=2^(-bound), to log at INFO level.\n",
    "\n",
    "\n",
    "https://stackoverflow.com/questions/21355156/topic-models-cross-validation-with-loglikelihood-or-perplexity\n",
    "\n",
    "\n",
    "http://qpleple.com/perplexity-to-evaluate-topic-models/"
   ]
  },
  {
   "cell_type": "code",
   "execution_count": 1,
   "metadata": {
    "collapsed": true
   },
   "outputs": [],
   "source": [
    "import pandas as pd\n",
    "import os\n",
    "import numpy as np\n",
    "from gensim import corpora, models, similarities\n",
    "from gensim import models\n",
    "\n",
    "from nlp_models import make_corpus,\\\n",
    "make_lsi_similarity_matrix,make_lda_similarity_matrix,get_model_score_wforums"
   ]
  },
  {
   "cell_type": "code",
   "execution_count": 2,
   "metadata": {
    "collapsed": true
   },
   "outputs": [],
   "source": [
    "# Set up paths/ os\n",
    "import os\n",
    "import sys\n",
    "\n",
    "this_path=os.getcwd()\n",
    "os.chdir(\"../data\")\n",
    "sys.path.insert(0, this_path)"
   ]
  },
  {
   "cell_type": "code",
   "execution_count": 3,
   "metadata": {},
   "outputs": [
    {
     "data": {
      "text/html": [
       "<div>\n",
       "<style>\n",
       "    .dataframe thead tr:only-child th {\n",
       "        text-align: right;\n",
       "    }\n",
       "\n",
       "    .dataframe thead th {\n",
       "        text-align: left;\n",
       "    }\n",
       "\n",
       "    .dataframe tbody tr th {\n",
       "        vertical-align: top;\n",
       "    }\n",
       "</style>\n",
       "<table border=\"1\" class=\"dataframe\">\n",
       "  <thead>\n",
       "    <tr style=\"text-align: right;\">\n",
       "      <th></th>\n",
       "      <th>category</th>\n",
       "      <th>href</th>\n",
       "      <th>source</th>\n",
       "      <th>text</th>\n",
       "      <th>title</th>\n",
       "      <th>user id</th>\n",
       "      <th>tokens</th>\n",
       "      <th>text_short</th>\n",
       "    </tr>\n",
       "  </thead>\n",
       "  <tbody>\n",
       "    <tr>\n",
       "      <th>0</th>\n",
       "      <td>['category-applied-behavior-analysis-aba']</td>\n",
       "      <td>https://www.autismparentingmagazine.com/autism...</td>\n",
       "      <td>https://www.autismparentingmagazine.com/</td>\n",
       "      <td>For children with autism spectrum disorder (AS...</td>\n",
       "      <td>Autism, Head Banging and other Self Harming Be...</td>\n",
       "      <td>NaN</td>\n",
       "      <td>['autism', 'head', 'banging', 'and', 'other', ...</td>\n",
       "      <td>For children with autism spectrum disorder (AS...</td>\n",
       "    </tr>\n",
       "    <tr>\n",
       "      <th>1</th>\n",
       "      <td>['category-applied-behavior-analysis-aba']</td>\n",
       "      <td>https://www.autismparentingmagazine.com/high-q...</td>\n",
       "      <td>https://www.autismparentingmagazine.com/</td>\n",
       "      <td>Dr. Stephen Shore once said “If you’ve met one...</td>\n",
       "      <td>High Quality ABA Treatment:  What Every Parent...</td>\n",
       "      <td>NaN</td>\n",
       "      <td>['high', 'quality', 'aba', 'treatment', 'what'...</td>\n",
       "      <td>Dr. Stephen Shore once said “If you’ve met one...</td>\n",
       "    </tr>\n",
       "  </tbody>\n",
       "</table>\n",
       "</div>"
      ],
      "text/plain": [
       "                                     category  \\\n",
       "0  ['category-applied-behavior-analysis-aba']   \n",
       "1  ['category-applied-behavior-analysis-aba']   \n",
       "\n",
       "                                                href  \\\n",
       "0  https://www.autismparentingmagazine.com/autism...   \n",
       "1  https://www.autismparentingmagazine.com/high-q...   \n",
       "\n",
       "                                     source  \\\n",
       "0  https://www.autismparentingmagazine.com/   \n",
       "1  https://www.autismparentingmagazine.com/   \n",
       "\n",
       "                                                text  \\\n",
       "0  For children with autism spectrum disorder (AS...   \n",
       "1  Dr. Stephen Shore once said “If you’ve met one...   \n",
       "\n",
       "                                               title  user id  \\\n",
       "0  Autism, Head Banging and other Self Harming Be...      NaN   \n",
       "1  High Quality ABA Treatment:  What Every Parent...      NaN   \n",
       "\n",
       "                                              tokens  \\\n",
       "0  ['autism', 'head', 'banging', 'and', 'other', ...   \n",
       "1  ['high', 'quality', 'aba', 'treatment', 'what'...   \n",
       "\n",
       "                                          text_short  \n",
       "0  For children with autism spectrum disorder (AS...  \n",
       "1  Dr. Stephen Shore once said “If you’ve met one...  "
      ]
     },
     "execution_count": 3,
     "metadata": {},
     "output_type": "execute_result"
    }
   ],
   "source": [
    "\n",
    "# Read dataframe\n",
    "#input_fname=\"AutismParentMagazine-posts-tokens.csv\"\n",
    "input_fname=\"articles-n-forums-posts.csv\"\n",
    "\n",
    "\n",
    "# Get categories and ids from dataset\n",
    "df = pd.read_csv(input_fname,index_col=0)\n",
    "\n",
    "df.head(2)"
   ]
  },
  {
   "cell_type": "code",
   "execution_count": 4,
   "metadata": {
    "collapsed": true
   },
   "outputs": [],
   "source": [
    "# Extract series from df:\n",
    "ids=df.index"
   ]
  },
  {
   "cell_type": "code",
   "execution_count": 5,
   "metadata": {
    "collapsed": true
   },
   "outputs": [],
   "source": [
    "from ast import literal_eval  \n",
    "\n",
    "# Get similarity matrices\n",
    "documents = df['tokens'].values\n",
    "for idoc in range(len(documents)):\n",
    "    documents[idoc]=literal_eval(str(documents[idoc]))\n",
    "\n"
   ]
  },
  {
   "cell_type": "code",
   "execution_count": 6,
   "metadata": {
    "collapsed": true
   },
   "outputs": [],
   "source": [
    "corpus,dictionary = make_corpus(documents)\n",
    "\n",
    "\n",
    "tfidf = models.TfidfModel(corpus)\n",
    "\n",
    "\n"
   ]
  },
  {
   "cell_type": "code",
   "execution_count": 7,
   "metadata": {
    "collapsed": true
   },
   "outputs": [],
   "source": [
    "msk = np.random.rand(len(corpus)) < 0.6\n",
    "\n",
    "#corpus_train = documents[msk]\n",
    "#corpus_test = documents[~msk]\n",
    "#chunk=corpus[msk]\n",
    "\n",
    "#print(len(corpus))\n",
    "len_60p=int(len(corpus)*0.6)\n",
    "chunk1=corpus[:len_60p]\n",
    "chunk2=corpus[len_60p:]\n",
    "\n"
   ]
  },
  {
   "cell_type": "code",
   "execution_count": 9,
   "metadata": {
    "collapsed": true
   },
   "outputs": [],
   "source": [
    "num_iter=500\n",
    "x=[]\n",
    "y=[]"
   ]
  },
  {
   "cell_type": "code",
   "execution_count": null,
   "metadata": {},
   "outputs": [
    {
     "name": "stdout",
     "output_type": "stream",
     "text": [
      "N. topics 20, perplexity 17.300786807048528\n",
      "N. topics 40, perplexity 11.722117529927342\n"
     ]
    }
   ],
   "source": [
    "for num_topics in range(20,200,20):\n",
    "    matsim,lda = make_lda_similarity_matrix(corpus, dictionary,num_topics,num_iter)\n",
    "    perplexity1=np.power(2,-lda.log_perplexity(chunk1))\n",
    "    perplexity1=perplexity1/num_topics\n",
    "    #perplexity2=np.power(2,-lda.log_perplexity(chunk2))\n",
    "    x.append(num_topics)\n",
    "    y.append(perplexity1)\n",
    "\n",
    "    print(\"N. topics {}, perplexity {}\".format(num_topics,perplexity1))"
   ]
  },
  {
   "cell_type": "code",
   "execution_count": null,
   "metadata": {
    "collapsed": true
   },
   "outputs": [],
   "source": [
    "import matplotlib.pyplot as plt\n",
    "import seaborn as sns\n",
    "import matplotlib.mlab as mlab\n",
    "from matplotlib import gridspec\n",
    "from scipy.stats import norm\n",
    "from scipy.optimize import curve_fit\n",
    "from lognormal import lognormal, lognormal_stats\n",
    "import numpy as np"
   ]
  },
  {
   "cell_type": "code",
   "execution_count": null,
   "metadata": {},
   "outputs": [],
   "source": [
    "plt.rcParams['text.usetex'] = True\n",
    "plt.rcParams['text.latex.unicode'] = True\n",
    "\n",
    "plt.rcParams.update({'font.size': 24})\n",
    "label_size = 18\n",
    "plt.rcParams['xtick.labelsize'] = label_size \n",
    "plt.rcParams['ytick.labelsize'] = label_size \n",
    "\n",
    "\n",
    "fig = plt.figure()\n",
    "#plt.subplots_adjust(left=0.2,right=1.0,bottom=0.17,top=0.9)\n",
    "fig.set_size_inches(6,6)\n",
    "\n",
    "\n",
    "#plt.suptitle('Readability score')\n",
    "#fig.text(0.04,0.5,'Distribution',va='center',rotation='vertical')\n",
    "#fig.text(0.4,0.04,'Readability score',va='center')\n",
    "\n",
    "plt.xlabel('N. topics',fontsize=label_size)\n",
    "plt.ylabel('Perplexity',fontsize=label_size)\n",
    "\n",
    "\n",
    "plt.plot(x, y)\n",
    "\n",
    "plt.show()"
   ]
  },
  {
   "cell_type": "code",
   "execution_count": null,
   "metadata": {
    "collapsed": true
   },
   "outputs": [],
   "source": []
  }
 ],
 "metadata": {
  "kernelspec": {
   "display_name": "Python 3",
   "language": "python",
   "name": "python3"
  },
  "language_info": {
   "codemirror_mode": {
    "name": "ipython",
    "version": 3
   },
   "file_extension": ".py",
   "mimetype": "text/x-python",
   "name": "python",
   "nbconvert_exporter": "python",
   "pygments_lexer": "ipython3",
   "version": "3.6.1"
  }
 },
 "nbformat": 4,
 "nbformat_minor": 2
}
