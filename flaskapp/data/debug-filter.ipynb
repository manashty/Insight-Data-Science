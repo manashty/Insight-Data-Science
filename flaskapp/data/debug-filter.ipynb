{
 "cells": [
  {
   "cell_type": "code",
   "execution_count": 1,
   "metadata": {},
   "outputs": [],
   "source": [
    "import os\n",
    "from gensim import corpora, models, similarities\n",
    "\n",
    "\n",
    "lsi_matsim_fname=\"lsi-matsim.save\"\n",
    "matsim = similarities.MatrixSimilarity.load(lsi_matsim_fname)"
   ]
  },
  {
   "cell_type": "code",
   "execution_count": 2,
   "metadata": {
    "collapsed": true
   },
   "outputs": [],
   "source": [
    "import pandas as pd\n",
    "df_readability=pd.read_csv(\"db-readability.csv\",index_col=0)\n"
   ]
  },
  {
   "cell_type": "code",
   "execution_count": 7,
   "metadata": {},
   "outputs": [
    {
     "data": {
      "text/plain": [
       "array(['https://www.autismparentingmagazine.com/',\n",
       "       'http://ehealthforum.com', 'http://www.medhelp.org',\n",
       "       'http://www.reditt.com'], dtype=object)"
      ]
     },
     "execution_count": 7,
     "metadata": {},
     "output_type": "execute_result"
    }
   ],
   "source": [
    "#forum_sources=[\"http://www.medhelp.org\",\n",
    "#      ]\n",
    "\n",
    "df = pd.read_csv(\"articles-n-forums-posts.csv\")\n",
    "df['source'].unique()"
   ]
  },
  {
   "cell_type": "code",
   "execution_count": null,
   "metadata": {},
   "outputs": [],
   "source": [
    "array(['https://www.autismparentingmagazine.com/',\n",
    "forum_sources=['http://ehealthforum.com', \n",
    "               'http://www.medhelp.org',\n",
    "               'http://www.reditt.com']"
   ]
  },
  {
   "cell_type": "code",
   "execution_count": null,
   "metadata": {
    "collapsed": true
   },
   "outputs": [],
   "source": []
  }
 ],
 "metadata": {
  "kernelspec": {
   "display_name": "Python 3",
   "language": "python",
   "name": "python3"
  },
  "language_info": {
   "codemirror_mode": {
    "name": "ipython",
    "version": 3
   },
   "file_extension": ".py",
   "mimetype": "text/x-python",
   "name": "python",
   "nbconvert_exporter": "python",
   "pygments_lexer": "ipython3",
   "version": "3.6.1"
  }
 },
 "nbformat": 4,
 "nbformat_minor": 2
}
