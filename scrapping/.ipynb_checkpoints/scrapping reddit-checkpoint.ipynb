{
 "cells": [
  {
   "cell_type": "raw",
   "metadata": {},
   "source": [
    "import json\n",
    "import time\n",
    "start_time = time.time()\n",
    "\n",
    "with open('/Volumes/TobiBackupSmall/insight/reddit_all', 'r') as f :\n",
    "    results = []\n",
    "    line = f.readline()\n",
    "    i = 0\n",
    "    while line:\n",
    "        \n",
    "       # quick test to see if this might be in the depression subreddit\n",
    "        if 'autism' in line[:1000] :\n",
    "            obj = json.loads(line)\n",
    "            if obj['subreddit']=='autism' :\n",
    "                #print(obj['num_comments'])\n",
    "                i += 1\n",
    "                results.append(obj)\n",
    "        line = f.readline()\n",
    "        \n",
    "print(\"--- %s seconds ---\" % (time.time() - start_time))"
   ]
  },
  {
   "cell_type": "code",
   "execution_count": 1,
   "metadata": {},
   "outputs": [],
   "source": [
    "import os\n",
    "import pandas as pd\n",
    "os.chdir('../data/')\n",
    "import pickle\n",
    "#pickle.dump( results , open( \"reditt_autism.p\", \"wb\" ) )\n",
    "results = pickle.load( open( \"reditt_autism.p\", \"rb\" ) )\n"
   ]
  },
  {
   "cell_type": "code",
   "execution_count": 2,
   "metadata": {},
   "outputs": [
    {
     "data": {
      "text/plain": [
       "4940"
      ]
     },
     "execution_count": 2,
     "metadata": {},
     "output_type": "execute_result"
    }
   ],
   "source": [
    "len(results)"
   ]
  },
  {
   "cell_type": "raw",
   "metadata": {},
   "source": [
    "results[0]"
   ]
  },
  {
   "cell_type": "code",
   "execution_count": 3,
   "metadata": {},
   "outputs": [],
   "source": [
    "columns=['post id','title','text','href','user id']\n",
    "df = pd.DataFrame(columns=columns)\n",
    "\n",
    "columns=['user description']\n",
    "df_users = pd.DataFrame(columns=columns)\n",
    "df_users.index.name=\"user id\"\n"
   ]
  },
  {
   "cell_type": "code",
   "execution_count": 4,
   "metadata": {
    "collapsed": true
   },
   "outputs": [],
   "source": [
    "def add_post(post_id,title,text,url,user_name):\n",
    "    global df,df_users\n",
    "    # Update user dataframe:\n",
    "    #\n",
    "    newrow={\"user description\":user_name}\n",
    "    if user_name not in df_users['user description'].values:\n",
    "        df_users.loc[len(df_users)]=newrow\n",
    "    #\n",
    "    user_id = df_users.loc[df_users['user description'] == user_name ].index.values[0]\n",
    "    #\n",
    "    # Add post data to dataframe\n",
    "    #\n",
    "    newrow={\"post id\":post_id,\n",
    "            \"title\":title,\n",
    "            \"text\":text,\n",
    "            \"href\":url,\n",
    "            \"user id\":user_id}\n",
    "    df.loc[len(df.values)]=newrow\n",
    "    "
   ]
  },
  {
   "cell_type": "code",
   "execution_count": 5,
   "metadata": {
    "collapsed": true
   },
   "outputs": [],
   "source": [
    "post_id=0\n",
    "for result in results:\n",
    "    url=result['url']\n",
    "    title=result['title']\n",
    "    text=result['selftext']\n",
    "    user_name=result['author']\n",
    "    if len(text) > 0:\n",
    "        post_id=post_id+1\n",
    "        add_post(post_id,title,text,url,user_name)\n"
   ]
  },
  {
   "cell_type": "code",
   "execution_count": 6,
   "metadata": {},
   "outputs": [
    {
     "data": {
      "text/html": [
       "<div>\n",
       "<style>\n",
       "    .dataframe thead tr:only-child th {\n",
       "        text-align: right;\n",
       "    }\n",
       "\n",
       "    .dataframe thead th {\n",
       "        text-align: left;\n",
       "    }\n",
       "\n",
       "    .dataframe tbody tr th {\n",
       "        vertical-align: top;\n",
       "    }\n",
       "</style>\n",
       "<table border=\"1\" class=\"dataframe\">\n",
       "  <thead>\n",
       "    <tr style=\"text-align: right;\">\n",
       "      <th></th>\n",
       "      <th>post id</th>\n",
       "      <th>title</th>\n",
       "      <th>text</th>\n",
       "      <th>href</th>\n",
       "      <th>user id</th>\n",
       "    </tr>\n",
       "  </thead>\n",
       "  <tbody>\n",
       "    <tr>\n",
       "      <th>0</th>\n",
       "      <td>1</td>\n",
       "      <td>Sulfur and sulfates question.</td>\n",
       "      <td>I have been subbing in a special education cla...</td>\n",
       "      <td>http://www.reddit.com/r/autism/comments/1xuenq...</td>\n",
       "      <td>0</td>\n",
       "    </tr>\n",
       "    <tr>\n",
       "      <th>1</th>\n",
       "      <td>2</td>\n",
       "      <td>Feel like son is missing out</td>\n",
       "      <td>I want to take him to ball games movie ect but...</td>\n",
       "      <td>http://www.reddit.com/r/autism/comments/1xtt96...</td>\n",
       "      <td>1</td>\n",
       "    </tr>\n",
       "  </tbody>\n",
       "</table>\n",
       "</div>"
      ],
      "text/plain": [
       "  post id                          title  \\\n",
       "0       1  Sulfur and sulfates question.   \n",
       "1       2   Feel like son is missing out   \n",
       "\n",
       "                                                text  \\\n",
       "0  I have been subbing in a special education cla...   \n",
       "1  I want to take him to ball games movie ect but...   \n",
       "\n",
       "                                                href user id  \n",
       "0  http://www.reddit.com/r/autism/comments/1xuenq...       0  \n",
       "1  http://www.reddit.com/r/autism/comments/1xtt96...       1  "
      ]
     },
     "execution_count": 6,
     "metadata": {},
     "output_type": "execute_result"
    }
   ],
   "source": [
    "df.head(2)"
   ]
  },
  {
   "cell_type": "code",
   "execution_count": 7,
   "metadata": {},
   "outputs": [
    {
     "data": {
      "text/html": [
       "<div>\n",
       "<style>\n",
       "    .dataframe thead tr:only-child th {\n",
       "        text-align: right;\n",
       "    }\n",
       "\n",
       "    .dataframe thead th {\n",
       "        text-align: left;\n",
       "    }\n",
       "\n",
       "    .dataframe tbody tr th {\n",
       "        vertical-align: top;\n",
       "    }\n",
       "</style>\n",
       "<table border=\"1\" class=\"dataframe\">\n",
       "  <thead>\n",
       "    <tr style=\"text-align: right;\">\n",
       "      <th></th>\n",
       "      <th>user description</th>\n",
       "    </tr>\n",
       "    <tr>\n",
       "      <th>user id</th>\n",
       "      <th></th>\n",
       "    </tr>\n",
       "  </thead>\n",
       "  <tbody>\n",
       "    <tr>\n",
       "      <th>0</th>\n",
       "      <td>baylorhawkeye</td>\n",
       "    </tr>\n",
       "    <tr>\n",
       "      <th>1</th>\n",
       "      <td>Wellpaidrichguy</td>\n",
       "    </tr>\n",
       "  </tbody>\n",
       "</table>\n",
       "</div>"
      ],
      "text/plain": [
       "        user description\n",
       "user id                 \n",
       "0          baylorhawkeye\n",
       "1        Wellpaidrichguy"
      ]
     },
     "execution_count": 7,
     "metadata": {},
     "output_type": "execute_result"
    }
   ],
   "source": [
    "df_users.head(2)"
   ]
  },
  {
   "cell_type": "code",
   "execution_count": 8,
   "metadata": {
    "collapsed": true
   },
   "outputs": [],
   "source": [
    "df.to_csv('reditt-posts.csv',index=False)\n",
    "df_users.to_csv('reditt-users.csv')"
   ]
  }
 ],
 "metadata": {
  "kernelspec": {
   "display_name": "Python 3",
   "language": "python",
   "name": "python3"
  },
  "language_info": {
   "codemirror_mode": {
    "name": "ipython",
    "version": 3
   },
   "file_extension": ".py",
   "mimetype": "text/x-python",
   "name": "python",
   "nbconvert_exporter": "python",
   "pygments_lexer": "ipython3",
   "version": "3.6.1"
  }
 },
 "nbformat": 4,
 "nbformat_minor": 2
}
