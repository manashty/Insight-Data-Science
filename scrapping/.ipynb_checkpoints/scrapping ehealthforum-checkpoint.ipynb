{
 "cells": [
  {
   "cell_type": "code",
   "execution_count": 1,
   "metadata": {
    "collapsed": true
   },
   "outputs": [],
   "source": [
    "import requests  # to make GET request\n",
    "from bs4 import BeautifulSoup  # to parse the HTML response\n",
    "import time  # to pause between calls\n",
    "import pandas as pd  # to see CSV\n",
    "import os\n",
    "import re\n",
    "\n",
    "os.chdir('../data/')"
   ]
  },
  {
   "cell_type": "code",
   "execution_count": 2,
   "metadata": {
    "collapsed": true
   },
   "outputs": [],
   "source": [
    "columns=['post id','title','text','href','user id','mother post id']\n",
    "df = pd.DataFrame(columns=columns)\n",
    "\n",
    "columns=['user id','user description']\n",
    "df_users = pd.DataFrame(columns=columns)\n",
    "\n",
    "# Initialize post index\n",
    "post_id=0"
   ]
  },
  {
   "cell_type": "code",
   "execution_count": 3,
   "metadata": {
    "collapsed": true
   },
   "outputs": [],
   "source": [
    "def add_post(post_id,title,text,url,mother_post_id,user_id,user_name):\n",
    "    global df,df_users\n",
    "    #\n",
    "    # Add post data to dataframe\n",
    "    #\n",
    "    newrow={\"post id\":post_id,\n",
    "            \"title\":title,\n",
    "            \"text\":text,\n",
    "            \"href\":url,\n",
    "            \"user id\":user_id,\n",
    "            \"mother post id\":mother_post_id}\n",
    "    df.loc[len(df.values)]=newrow\n",
    "    # Update user dataframe:\n",
    "    #\n",
    "    newrow={\"user id\":user_id,\n",
    "          \"user description\":user_name}\n",
    "    if user_id not in df_users['user id'].values:\n",
    "        df_users.loc[len(df_users)]=newrow\n",
    "    \n",
    "    \n",
    "#url=\"http://ehealthforum.com/health/autism-recovery-success-story-t351300.html\"\n",
    "def parse_post(url):\n",
    "    global df,df_users,post_id\n",
    "\n",
    "    user_href_prefix=\"http://ehealthforum.com/health/user_profile_\"\n",
    "    p = re.compile('\\n+')\n",
    "\n",
    "    response = requests.get(url)\n",
    "    page_source = response.text\n",
    "    soup = BeautifulSoup(page_source, 'html5lib')\n",
    "    mother_post_id=post_id\n",
    "    post_id=post_id+1\n",
    "\n",
    "    #\n",
    "    # Extract data from soup:\n",
    "    #\n",
    "    post = soup.find(\"div\", class_=\"vt_h2\")\n",
    "    title=post.find(\"h1\", class_=\"caps\").text\n",
    "    #\n",
    "    # Mother post:\n",
    "    post1=soup.find(\"div\", class_=\"vt_first_message_body\")\n",
    "    #\n",
    "    #\n",
    "    # User\n",
    "    #\n",
    "    user_data = soup.find(\"span\",class_=\"vt_asked_by_user\")\n",
    "    user_name = user_data.text\n",
    "    user_id = user_data.find(\"a\")['href'].replace(user_href_prefix,\"\").replace(\".html\",\"\")\n",
    "    user_description = soup.find(\"span\",class_=\"vt_user_rank\").text\n",
    "    user_name=user_name+\" \"+user_description    \n",
    "    #\n",
    "    # Post text\n",
    "    #\n",
    "    text=post1.text.replace(\"\\t\",\"\")\n",
    "    text=p.sub('\\n', text)\n",
    "    #\n",
    "    # Add post to dataframe\n",
    "    #\n",
    "    add_post(post_id,title,text,url,mother_post_id,user_id,user_name)\n",
    "    #\n",
    "    # Follow up to that message\n",
    "    #messages=soup.find_all(\"div\", class_=\"vt_message_body\")\n",
    "    #for message in messages:\n",
    "    #    post_id=post_id+1\n",
    "    #    text=message.text.replace(\"\\t\",\"\")\n",
    "    #    text=p.sub('\\n', text)\n",
    "    postrows=soup.find_all(\"div\",class_=\"vt_postrow_rest\")\n",
    "    for postrow in postrows[:len(postrows)-1]:\n",
    "        post_id=post_id+1\n",
    "        text=postrow.find(\"div\",class_=\"vt_post_body\").text\n",
    "        text=text.replace(\"\\t\",\"\")\n",
    "        text=p.sub('\\n', text)\n",
    "        user_id=postrow.find(\"a\")['href'].replace(user_href_prefix,\"\").replace(\".html\",\"\")\n",
    "        user_name=postrow.find(\"div\",class_=\"vt_asked_by_user\").text\n",
    "        user_description=postrow.find(\"span\",class_=\"vt_user_rank\").text\n",
    "        user_name=user_name+\" \"+user_description\n",
    "        add_post(post_id,title,text,url,mother_post_id,user_id,user_name)\n",
    "\n",
    "\n",
    "\n"
   ]
  },
  {
   "cell_type": "raw",
   "metadata": {},
   "source": [
    "for message in messages:\n",
    "    post_id=post_id+1\n",
    "    #title=message.find(\"div\",title=\"subject\").text\n",
    "    mm=message.text.replace(\"\\t\",\"\")\n",
    "    mm=p.sub('\\n', mm)\n"
   ]
  },
  {
   "cell_type": "raw",
   "metadata": {},
   "source": [
    "url=\"http://ehealthforum.com/health/autism-recovery-success-story-t351300.html\"\n",
    "parse_post(url)\n",
    "df"
   ]
  },
  {
   "cell_type": "code",
   "execution_count": null,
   "metadata": {},
   "outputs": [
    {
     "data": {
      "text/html": [
       "<div>\n",
       "<style>\n",
       "    .dataframe thead tr:only-child th {\n",
       "        text-align: right;\n",
       "    }\n",
       "\n",
       "    .dataframe thead th {\n",
       "        text-align: left;\n",
       "    }\n",
       "\n",
       "    .dataframe tbody tr th {\n",
       "        vertical-align: top;\n",
       "    }\n",
       "</style>\n",
       "<table border=\"1\" class=\"dataframe\">\n",
       "  <thead>\n",
       "    <tr style=\"text-align: right;\">\n",
       "      <th></th>\n",
       "      <th>user id</th>\n",
       "      <th>user description</th>\n",
       "    </tr>\n",
       "  </thead>\n",
       "  <tbody>\n",
       "  </tbody>\n",
       "</table>\n",
       "</div>"
      ],
      "text/plain": [
       "Empty DataFrame\n",
       "Columns: [user id, user description]\n",
       "Index: []"
      ]
     },
     "execution_count": 4,
     "metadata": {},
     "output_type": "execute_result"
    }
   ],
   "source": [
    "df_users"
   ]
  },
  {
   "cell_type": "code",
   "execution_count": null,
   "metadata": {},
   "outputs": [
    {
     "name": "stdout",
     "output_type": "stream",
     "text": [
      "http://ehealthforum.com/health/possible-autism-signs-t230405.html\n",
      "http://ehealthforum.com/health/autism-i-think-he-is-on-point-for-yrs-old-t312115.html\n",
      "http://ehealthforum.com/health/symptoms-of-autism-t200703.html\n",
      "http://ehealthforum.com/health/autism-recovery-success-story-t351300.html\n",
      "http://ehealthforum.com/health/increased-intracranial-pressure-associated-with-autism-t512431.html\n"
     ]
    }
   ],
   "source": [
    "url_list=[\"http://ehealthforum.com/health/autism.html\",\n",
    "          \"http://ehealthforum.com/health/autism_medical_questions_242_0_50.html\",\n",
    "          \"http://ehealthforum.com/health/autism_medical_questions_242_0_100.html\",\n",
    "          \"http://ehealthforum.com/health/autism_medical_questions_242_0_150.html\",\n",
    "          \"http://ehealthforum.com/health/autism_medical_questions_242_0_200.html\"]\n",
    "\n",
    "for url in url_list:\n",
    "    response = requests.get(url)\n",
    "    page_source = response.text\n",
    "    soup = BeautifulSoup(page_source, 'html5lib')\n",
    "\n",
    "    content=soup.find_all(\"div\",class_=\"fp_topic_content_title\")\n",
    "\n",
    "    for topic in content:\n",
    "        url=topic.find(\"a\", class_='topictitle')['href']\n",
    "        print(url)\n",
    "        parse_post(url)\n"
   ]
  },
  {
   "cell_type": "code",
   "execution_count": null,
   "metadata": {
    "collapsed": true
   },
   "outputs": [],
   "source": [
    "df.to_csv('ehealthforum-posts.csv',index=False)\n",
    "df_users.to_csv('ehealthforum-users.csv',index=False)"
   ]
  },
  {
   "cell_type": "code",
   "execution_count": null,
   "metadata": {},
   "outputs": [],
   "source": [
    "df.tail()"
   ]
  }
 ],
 "metadata": {
  "kernelspec": {
   "display_name": "Python 3",
   "language": "python",
   "name": "python3"
  },
  "language_info": {
   "codemirror_mode": {
    "name": "ipython",
    "version": 3
   },
   "file_extension": ".py",
   "mimetype": "text/x-python",
   "name": "python",
   "nbconvert_exporter": "python",
   "pygments_lexer": "ipython3",
   "version": "3.6.1"
  }
 },
 "nbformat": 4,
 "nbformat_minor": 2
}
