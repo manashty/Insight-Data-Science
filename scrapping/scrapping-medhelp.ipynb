{
 "cells": [
  {
   "cell_type": "code",
   "execution_count": 1,
   "metadata": {
    "collapsed": true
   },
   "outputs": [],
   "source": [
    "import requests  # to make GET request\n",
    "from bs4 import BeautifulSoup  # to parse the HTML response\n",
    "import time  # to pause between calls\n",
    "import pandas as pd  # to see CSV\n",
    "import os"
   ]
  },
  {
   "cell_type": "code",
   "execution_count": 5,
   "metadata": {
    "collapsed": true
   },
   "outputs": [],
   "source": [
    "def parse_post(url):\n",
    "    response = requests.get(url)\n",
    "    page_source = response.text\n",
    "    soup = BeautifulSoup(page_source, 'html5lib')\n",
    "    return soup"
   ]
  },
  {
   "cell_type": "code",
   "execution_count": 3,
   "metadata": {
    "collapsed": true
   },
   "outputs": [],
   "source": [
    "source=\"http://www.medhelp.org/forums/Autism--Aspergers-Syndrome/show/187\"\n",
    "\n",
    "url=source\n",
    "response = requests.get(url)\n",
    "page_source = response.text\n",
    "soup = BeautifulSoup(page_source, 'html5lib')\n"
   ]
  },
  {
   "cell_type": "code",
   "execution_count": 6,
   "metadata": {},
   "outputs": [
    {
     "name": "stdout",
     "output_type": "stream",
     "text": [
      "http://www.medhelp.org//posts/Autism--Aspergers-Syndrome/Inappropriate-Masterbation-Down-Syndrome/show/981153\n"
     ]
    }
   ],
   "source": [
    "medhelp_path=\"http://www.medhelp.org/\"\n",
    "subjects_list=soup.find(\"div\",class_=\"subjects_list\")\n",
    "new_subject_elements=subjects_list.find_all(\"div\", class_=\"new_subject_element float_fix\")\n",
    "for new_subject_element in new_subject_elements:\n",
    "    subject_summary=new_subject_element.find(\"div\", class_=\"subject_summary\")\n",
    "    # Get href. for further reading\n",
    "    href=subject_summary.find('a')['href']\n",
    "    href=medhelp_path+href\n",
    "    title=subject_summary.find('a').text\n",
    "    excerpt=subject_summary.find(\"div\", class_=\"excerpt\").text\n",
    "    # \n",
    "    # Now that we have extracted the title and href of each post\n",
    "    # Let's extract now the question and answers in that post.\n",
    "    #\n",
    "    print(href)\n",
    "    parse_post(href)\n",
    "    break"
   ]
  },
  {
   "cell_type": "code",
   "execution_count": 16,
   "metadata": {},
   "outputs": [
    {
     "data": {
      "text/plain": [
       "'\\n        My son is 13 and has Down Syndrome. He has been rubbing his genitals using toys since he was 5. Once in Kindergarten he was rubbing his genitals on his teacher. Also once at his grandparents around the age of 8 he did this to his grandmother. When he is at his grandparents they tell me he is doing alot of this rubbing. His grandmother has started telling me not to leave him alone with other children and suggested that he would do inappropriate things to them. He does do this rubbing at home but always inprivate. The times I have walked in on him he has gotten imbearest. Should I be worried and how should I handle this? \\n\\n    '"
      ]
     },
     "execution_count": 16,
     "metadata": {},
     "output_type": "execute_result"
    }
   ],
   "source": [
    "href=\"http://www.medhelp.org//posts/Autism--Aspergers-Syndrome/Inappropriate-Masterbation-Down-Syndrome/show/981153\"\n",
    "#parse_post(href)\n",
    "\n",
    "url=href\n",
    "response = requests.get(url)\n",
    "page_source = response.text\n",
    "soup = BeautifulSoup(page_source, 'html5lib')\n",
    "post_data=soup.find(\"div\", class_=\"post_message\").text\n",
    "\n",
    "#post_data=soup.find(\"div\", class_=\"post_data\")\n",
    "post_data"
   ]
  },
  {
   "cell_type": "code",
   "execution_count": 33,
   "metadata": {},
   "outputs": [
    {
     "name": "stdout",
     "output_type": "stream",
     "text": [
      "Rachel  Thompson, Ph.D., BCBA\n",
      "\n",
      "        It is common for children and adolescents with Down Syndome to show many different forms of self-stimulator behavior, includig masturbation. It is important for you and the other other adults involved in your son's care to begin to help him to distinguish between appropriate and inappropriate forms of stimulation and situations in which this behavior is appropriate. Allowing him to touch himself in public will limit his opportunity to be included in certain activities and settings and may limit opportunities for appropriate social interaction. If he rubs himself in public, either against an object or person, interrupt this behavior and direct him toward an appropriate activity. More importantly, try to be sure that there is some appropriate alternative easily available to him at all times. If there is nothing appropriate to do he will find some way to stimulate himself. If you have any concerns about his interactions with children please do supervise him carefully and seek in-person professional consultation.\n",
      "    \n",
      "CirclesLady29\n",
      "\n",
      "        A related discussion, self injusry in masturbation among women with Down syndrome was started.\n",
      "    \n",
      "Rosseau\n",
      "\n",
      "        A related discussion, Sexuality was started.\n",
      "    \n"
     ]
    }
   ],
   "source": [
    "# Get post from answers:\n",
    "\n",
    "\n",
    "#post_answer=soup.find(\"div\", id=\"post_answer_body\")\n",
    "post_entries=post_answer.find_all(\"div\", class_=\"post_entry\")\n",
    "\n",
    "for post_entry in post_entries:\n",
    "    subj_user=post_entry.find(\"div\", class_=\"subj_user\")\n",
    "    user_id=subj_user.find('a')['id']\n",
    "    user_name=subj_user.find('a').text\n",
    "    post_message=post_entry.find(\"div\",class_=\"post_message\").text\n",
    "    print(user_name)\n",
    "    print(post_message)"
   ]
  },
  {
   "cell_type": "code",
   "execution_count": null,
   "metadata": {
    "collapsed": true
   },
   "outputs": [],
   "source": []
  }
 ],
 "metadata": {
  "kernelspec": {
   "display_name": "Python 3",
   "language": "python",
   "name": "python3"
  },
  "language_info": {
   "codemirror_mode": {
    "name": "ipython",
    "version": 3
   },
   "file_extension": ".py",
   "mimetype": "text/x-python",
   "name": "python",
   "nbconvert_exporter": "python",
   "pygments_lexer": "ipython3",
   "version": "3.6.1"
  }
 },
 "nbformat": 4,
 "nbformat_minor": 2
}
